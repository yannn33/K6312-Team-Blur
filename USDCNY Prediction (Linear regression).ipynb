{
 "cells": [
  {
   "cell_type": "code",
   "execution_count": 1,
   "id": "423bcc8a",
   "metadata": {},
   "outputs": [],
   "source": [
    "import pandas as pd\n",
    "import numpy as np\n",
    "import matplotlib.pyplot as plt\n",
    "import seaborn as sns; sns.set()\n",
    "%matplotlib inline"
   ]
  },
  {
   "cell_type": "code",
   "execution_count": 2,
   "id": "26fee1c5",
   "metadata": {},
   "outputs": [
    {
     "data": {
      "text/html": [
       "<div>\n",
       "<style scoped>\n",
       "    .dataframe tbody tr th:only-of-type {\n",
       "        vertical-align: middle;\n",
       "    }\n",
       "\n",
       "    .dataframe tbody tr th {\n",
       "        vertical-align: top;\n",
       "    }\n",
       "\n",
       "    .dataframe thead th {\n",
       "        text-align: right;\n",
       "    }\n",
       "</style>\n",
       "<table border=\"1\" class=\"dataframe\">\n",
       "  <thead>\n",
       "    <tr style=\"text-align: right;\">\n",
       "      <th></th>\n",
       "      <th>slug</th>\n",
       "      <th>date</th>\n",
       "      <th>open</th>\n",
       "      <th>high</th>\n",
       "      <th>low</th>\n",
       "      <th>close</th>\n",
       "      <th>currency</th>\n",
       "    </tr>\n",
       "  </thead>\n",
       "  <tbody>\n",
       "    <tr>\n",
       "      <th>0</th>\n",
       "      <td>USD/CNY</td>\n",
       "      <td>2011/1/3</td>\n",
       "      <td>6.5800</td>\n",
       "      <td>6.5800</td>\n",
       "      <td>6.5800</td>\n",
       "      <td>6.5916</td>\n",
       "      <td>CNY</td>\n",
       "    </tr>\n",
       "    <tr>\n",
       "      <th>1</th>\n",
       "      <td>USD/CNY</td>\n",
       "      <td>2011/1/4</td>\n",
       "      <td>6.5988</td>\n",
       "      <td>6.6000</td>\n",
       "      <td>6.5970</td>\n",
       "      <td>6.5800</td>\n",
       "      <td>CNY</td>\n",
       "    </tr>\n",
       "    <tr>\n",
       "      <th>2</th>\n",
       "      <td>USD/CNY</td>\n",
       "      <td>2011/1/5</td>\n",
       "      <td>6.6112</td>\n",
       "      <td>6.6112</td>\n",
       "      <td>6.5775</td>\n",
       "      <td>6.5970</td>\n",
       "      <td>CNY</td>\n",
       "    </tr>\n",
       "    <tr>\n",
       "      <th>3</th>\n",
       "      <td>USD/CNY</td>\n",
       "      <td>2011/1/6</td>\n",
       "      <td>6.6134</td>\n",
       "      <td>6.6165</td>\n",
       "      <td>6.6134</td>\n",
       "      <td>6.5775</td>\n",
       "      <td>CNY</td>\n",
       "    </tr>\n",
       "    <tr>\n",
       "      <th>4</th>\n",
       "      <td>USD/CNY</td>\n",
       "      <td>2011/1/7</td>\n",
       "      <td>6.6209</td>\n",
       "      <td>6.6209</td>\n",
       "      <td>6.6175</td>\n",
       "      <td>6.6165</td>\n",
       "      <td>CNY</td>\n",
       "    </tr>\n",
       "  </tbody>\n",
       "</table>\n",
       "</div>"
      ],
      "text/plain": [
       "      slug      date    open    high     low   close currency\n",
       "0  USD/CNY  2011/1/3  6.5800  6.5800  6.5800  6.5916      CNY\n",
       "1  USD/CNY  2011/1/4  6.5988  6.6000  6.5970  6.5800      CNY\n",
       "2  USD/CNY  2011/1/5  6.6112  6.6112  6.5775  6.5970      CNY\n",
       "3  USD/CNY  2011/1/6  6.6134  6.6165  6.6134  6.5775      CNY\n",
       "4  USD/CNY  2011/1/7  6.6209  6.6209  6.6175  6.6165      CNY"
      ]
     },
     "execution_count": 2,
     "metadata": {},
     "output_type": "execute_result"
    }
   ],
   "source": [
    "from pandas import read_csv\n",
    "er = pd.read_csv(\"USDCNY(2011-2021).csv\", header=0)\n",
    "er.head(5)"
   ]
  },
  {
   "cell_type": "code",
   "execution_count": 3,
   "id": "d981e5ab",
   "metadata": {},
   "outputs": [],
   "source": [
    "er.date = pd.to_datetime(er.date)\n",
    "er.set_index(\"date\", inplace=True)"
   ]
  },
  {
   "cell_type": "code",
   "execution_count": 4,
   "id": "478b669f",
   "metadata": {},
   "outputs": [
    {
     "data": {
      "text/html": [
       "<div>\n",
       "<style scoped>\n",
       "    .dataframe tbody tr th:only-of-type {\n",
       "        vertical-align: middle;\n",
       "    }\n",
       "\n",
       "    .dataframe tbody tr th {\n",
       "        vertical-align: top;\n",
       "    }\n",
       "\n",
       "    .dataframe thead th {\n",
       "        text-align: right;\n",
       "    }\n",
       "</style>\n",
       "<table border=\"1\" class=\"dataframe\">\n",
       "  <thead>\n",
       "    <tr style=\"text-align: right;\">\n",
       "      <th></th>\n",
       "      <th>slug</th>\n",
       "      <th>open</th>\n",
       "      <th>high</th>\n",
       "      <th>low</th>\n",
       "      <th>close</th>\n",
       "      <th>currency</th>\n",
       "    </tr>\n",
       "    <tr>\n",
       "      <th>date</th>\n",
       "      <th></th>\n",
       "      <th></th>\n",
       "      <th></th>\n",
       "      <th></th>\n",
       "      <th></th>\n",
       "      <th></th>\n",
       "    </tr>\n",
       "  </thead>\n",
       "  <tbody>\n",
       "    <tr>\n",
       "      <th>2011-01-03</th>\n",
       "      <td>USD/CNY</td>\n",
       "      <td>6.5800</td>\n",
       "      <td>6.5800</td>\n",
       "      <td>6.5800</td>\n",
       "      <td>6.5916</td>\n",
       "      <td>CNY</td>\n",
       "    </tr>\n",
       "    <tr>\n",
       "      <th>2011-01-04</th>\n",
       "      <td>USD/CNY</td>\n",
       "      <td>6.5988</td>\n",
       "      <td>6.6000</td>\n",
       "      <td>6.5970</td>\n",
       "      <td>6.5800</td>\n",
       "      <td>CNY</td>\n",
       "    </tr>\n",
       "    <tr>\n",
       "      <th>2011-01-05</th>\n",
       "      <td>USD/CNY</td>\n",
       "      <td>6.6112</td>\n",
       "      <td>6.6112</td>\n",
       "      <td>6.5775</td>\n",
       "      <td>6.5970</td>\n",
       "      <td>CNY</td>\n",
       "    </tr>\n",
       "    <tr>\n",
       "      <th>2011-01-06</th>\n",
       "      <td>USD/CNY</td>\n",
       "      <td>6.6134</td>\n",
       "      <td>6.6165</td>\n",
       "      <td>6.6134</td>\n",
       "      <td>6.5775</td>\n",
       "      <td>CNY</td>\n",
       "    </tr>\n",
       "    <tr>\n",
       "      <th>2011-01-07</th>\n",
       "      <td>USD/CNY</td>\n",
       "      <td>6.6209</td>\n",
       "      <td>6.6209</td>\n",
       "      <td>6.6175</td>\n",
       "      <td>6.6165</td>\n",
       "      <td>CNY</td>\n",
       "    </tr>\n",
       "  </tbody>\n",
       "</table>\n",
       "</div>"
      ],
      "text/plain": [
       "               slug    open    high     low   close currency\n",
       "date                                                        \n",
       "2011-01-03  USD/CNY  6.5800  6.5800  6.5800  6.5916      CNY\n",
       "2011-01-04  USD/CNY  6.5988  6.6000  6.5970  6.5800      CNY\n",
       "2011-01-05  USD/CNY  6.6112  6.6112  6.5775  6.5970      CNY\n",
       "2011-01-06  USD/CNY  6.6134  6.6165  6.6134  6.5775      CNY\n",
       "2011-01-07  USD/CNY  6.6209  6.6209  6.6175  6.6165      CNY"
      ]
     },
     "execution_count": 4,
     "metadata": {},
     "output_type": "execute_result"
    }
   ],
   "source": [
    "er.head()"
   ]
  },
  {
   "cell_type": "code",
   "execution_count": 5,
   "id": "d0224de7",
   "metadata": {},
   "outputs": [
    {
     "data": {
      "text/html": [
       "<div>\n",
       "<style scoped>\n",
       "    .dataframe tbody tr th:only-of-type {\n",
       "        vertical-align: middle;\n",
       "    }\n",
       "\n",
       "    .dataframe tbody tr th {\n",
       "        vertical-align: top;\n",
       "    }\n",
       "\n",
       "    .dataframe thead th {\n",
       "        text-align: right;\n",
       "    }\n",
       "</style>\n",
       "<table border=\"1\" class=\"dataframe\">\n",
       "  <thead>\n",
       "    <tr style=\"text-align: right;\">\n",
       "      <th></th>\n",
       "      <th>slug</th>\n",
       "      <th>open</th>\n",
       "      <th>high</th>\n",
       "      <th>low</th>\n",
       "      <th>close</th>\n",
       "      <th>currency</th>\n",
       "    </tr>\n",
       "    <tr>\n",
       "      <th>date</th>\n",
       "      <th></th>\n",
       "      <th></th>\n",
       "      <th></th>\n",
       "      <th></th>\n",
       "      <th></th>\n",
       "      <th></th>\n",
       "    </tr>\n",
       "  </thead>\n",
       "  <tbody>\n",
       "    <tr>\n",
       "      <th>2021-08-24</th>\n",
       "      <td>USD/CNY</td>\n",
       "      <td>6.4800</td>\n",
       "      <td>6.4832</td>\n",
       "      <td>6.4686</td>\n",
       "      <td>6.4800</td>\n",
       "      <td>CNY</td>\n",
       "    </tr>\n",
       "    <tr>\n",
       "      <th>2021-08-25</th>\n",
       "      <td>USD/CNY</td>\n",
       "      <td>6.4699</td>\n",
       "      <td>6.4783</td>\n",
       "      <td>6.4675</td>\n",
       "      <td>6.4699</td>\n",
       "      <td>CNY</td>\n",
       "    </tr>\n",
       "    <tr>\n",
       "      <th>2021-08-26</th>\n",
       "      <td>USD/CNY</td>\n",
       "      <td>6.4749</td>\n",
       "      <td>6.4856</td>\n",
       "      <td>6.4725</td>\n",
       "      <td>6.4749</td>\n",
       "      <td>CNY</td>\n",
       "    </tr>\n",
       "    <tr>\n",
       "      <th>2021-08-27</th>\n",
       "      <td>USD/CNY</td>\n",
       "      <td>6.4805</td>\n",
       "      <td>6.4867</td>\n",
       "      <td>6.4694</td>\n",
       "      <td>6.4805</td>\n",
       "      <td>CNY</td>\n",
       "    </tr>\n",
       "    <tr>\n",
       "      <th>2021-08-30</th>\n",
       "      <td>USD/CNY</td>\n",
       "      <td>6.4711</td>\n",
       "      <td>6.4717</td>\n",
       "      <td>6.4620</td>\n",
       "      <td>6.4658</td>\n",
       "      <td>CNY</td>\n",
       "    </tr>\n",
       "  </tbody>\n",
       "</table>\n",
       "</div>"
      ],
      "text/plain": [
       "               slug    open    high     low   close currency\n",
       "date                                                        \n",
       "2021-08-24  USD/CNY  6.4800  6.4832  6.4686  6.4800      CNY\n",
       "2021-08-25  USD/CNY  6.4699  6.4783  6.4675  6.4699      CNY\n",
       "2021-08-26  USD/CNY  6.4749  6.4856  6.4725  6.4749      CNY\n",
       "2021-08-27  USD/CNY  6.4805  6.4867  6.4694  6.4805      CNY\n",
       "2021-08-30  USD/CNY  6.4711  6.4717  6.4620  6.4658      CNY"
      ]
     },
     "execution_count": 5,
     "metadata": {},
     "output_type": "execute_result"
    }
   ],
   "source": [
    "er.tail()"
   ]
  },
  {
   "cell_type": "code",
   "execution_count": 6,
   "id": "f1c60326",
   "metadata": {},
   "outputs": [],
   "source": [
    "er_price = er[['close']]"
   ]
  },
  {
   "cell_type": "code",
   "execution_count": 7,
   "id": "1ccae382",
   "metadata": {},
   "outputs": [],
   "source": [
    "valid_start = '2019-8-1'\n",
    "test_start =  '2020-8-3'"
   ]
  },
  {
   "cell_type": "code",
   "execution_count": 8,
   "id": "e1437bf4",
   "metadata": {},
   "outputs": [
    {
     "data": {
      "image/png": "[encoded data removed]",
      "text/plain": [
       "<Figure size 864x360 with 1 Axes>"
      ]
     },
     "metadata": {
      "needs_background": "light"
     },
     "output_type": "display_data"
    }
   ],
   "source": [
    "er_price[: valid_start][['close']].rename(columns={'close':'train'}) \\\n",
    "    .join(er_price[valid_start: test_start][['close']] \\\n",
    "          .rename(columns={'close':'validation'}), how='outer') \\\n",
    "    .join(er_price[test_start:][['close']].rename(columns={'close':'test'}), how='outer') \\\n",
    "    .plot(y=['train', 'validation', 'test'], figsize=(12, 5), fontsize=12)\n",
    "plt.xlabel('Time', fontsize=15)\n",
    "plt.ylabel('USD/CNY Daily Price', fontsize=12)\n",
    "plt.show()"
   ]
  },
  {
   "cell_type": "markdown",
   "id": "be7045d9",
   "metadata": {},
   "source": [
    "# Linear regression model when k=1"
   ]
  },
  {
   "cell_type": "code",
   "execution_count": 9,
   "id": "156a1b5d",
   "metadata": {},
   "outputs": [],
   "source": [
    "K = 1\n",
    "HORIZON = 1"
   ]
  },
  {
   "cell_type": "code",
   "execution_count": 10,
   "id": "6a676ca7",
   "metadata": {},
   "outputs": [],
   "source": [
    "train_er = er_price[:valid_start].copy()"
   ]
  },
  {
   "cell_type": "code",
   "execution_count": 11,
   "id": "72d94ffa",
   "metadata": {},
   "outputs": [
    {
     "name": "stdout",
     "output_type": "stream",
     "text": [
      "               close\n",
      "date                \n",
      "2011-01-03  0.593959\n",
      "2011-01-04  0.581664\n",
      "2019-07-31  0.903445\n",
      "2019-08-01  0.903233\n"
     ]
    },
    {
     "data": {
      "image/png": "[encoded data removed]",
      "text/plain": [
       "<Figure size 432x288 with 1 Axes>"
      ]
     },
     "metadata": {
      "needs_background": "light"
     },
     "output_type": "display_data"
    }
   ],
   "source": [
    "from sklearn.preprocessing import MinMaxScaler\n",
    "scaler = MinMaxScaler()\n",
    "train_er['close'] = scaler.fit_transform(train_er)\n",
    "print(train_er.head(2).append(train_er.tail(2)))\n",
    "train_er.rename(columns={'close':'after scaling'}).plot.hist(bins=100, fontsize=12)\n",
    "plt.show()"
   ]
  },
  {
   "cell_type": "code",
   "execution_count": 12,
   "id": "78714895",
   "metadata": {},
   "outputs": [
    {
     "data": {
      "text/html": [
       "<div>\n",
       "<style scoped>\n",
       "    .dataframe tbody tr th:only-of-type {\n",
       "        vertical-align: middle;\n",
       "    }\n",
       "\n",
       "    .dataframe tbody tr th {\n",
       "        vertical-align: top;\n",
       "    }\n",
       "\n",
       "    .dataframe thead th {\n",
       "        text-align: right;\n",
       "    }\n",
       "</style>\n",
       "<table border=\"1\" class=\"dataframe\">\n",
       "  <thead>\n",
       "    <tr style=\"text-align: right;\">\n",
       "      <th></th>\n",
       "      <th>close</th>\n",
       "      <th>close_t+1</th>\n",
       "    </tr>\n",
       "    <tr>\n",
       "      <th>date</th>\n",
       "      <th></th>\n",
       "      <th></th>\n",
       "    </tr>\n",
       "  </thead>\n",
       "  <tbody>\n",
       "    <tr>\n",
       "      <th>2011-01-03</th>\n",
       "      <td>0.593959</td>\n",
       "      <td>0.581664</td>\n",
       "    </tr>\n",
       "    <tr>\n",
       "      <th>2011-01-04</th>\n",
       "      <td>0.581664</td>\n",
       "      <td>0.599682</td>\n",
       "    </tr>\n",
       "  </tbody>\n",
       "</table>\n",
       "</div>"
      ],
      "text/plain": [
       "               close  close_t+1\n",
       "date                           \n",
       "2011-01-03  0.593959   0.581664\n",
       "2011-01-04  0.581664   0.599682"
      ]
     },
     "execution_count": 12,
     "metadata": {},
     "output_type": "execute_result"
    }
   ],
   "source": [
    "train_shifted = train_er\n",
    "train_shifted['close_t+1'] = train_er['close'].shift(-1)\n",
    "train_shifted.head(2)"
   ]
  },
  {
   "cell_type": "code",
   "execution_count": 13,
   "id": "af433c5c",
   "metadata": {},
   "outputs": [
    {
     "data": {
      "text/html": [
       "<div>\n",
       "<style scoped>\n",
       "    .dataframe tbody tr th:only-of-type {\n",
       "        vertical-align: middle;\n",
       "    }\n",
       "\n",
       "    .dataframe tbody tr th {\n",
       "        vertical-align: top;\n",
       "    }\n",
       "\n",
       "    .dataframe thead th {\n",
       "        text-align: right;\n",
       "    }\n",
       "</style>\n",
       "<table border=\"1\" class=\"dataframe\">\n",
       "  <thead>\n",
       "    <tr style=\"text-align: right;\">\n",
       "      <th></th>\n",
       "      <th>close</th>\n",
       "      <th>close_t+1</th>\n",
       "      <th>close_t-0</th>\n",
       "    </tr>\n",
       "    <tr>\n",
       "      <th>date</th>\n",
       "      <th></th>\n",
       "      <th></th>\n",
       "      <th></th>\n",
       "    </tr>\n",
       "  </thead>\n",
       "  <tbody>\n",
       "    <tr>\n",
       "      <th>2011-01-03</th>\n",
       "      <td>0.593959</td>\n",
       "      <td>0.581664</td>\n",
       "      <td>0.593959</td>\n",
       "    </tr>\n",
       "    <tr>\n",
       "      <th>2011-01-04</th>\n",
       "      <td>0.581664</td>\n",
       "      <td>0.599682</td>\n",
       "      <td>0.581664</td>\n",
       "    </tr>\n",
       "    <tr>\n",
       "      <th>2011-01-05</th>\n",
       "      <td>0.599682</td>\n",
       "      <td>0.579014</td>\n",
       "      <td>0.599682</td>\n",
       "    </tr>\n",
       "    <tr>\n",
       "      <th>2011-01-06</th>\n",
       "      <td>0.579014</td>\n",
       "      <td>0.620350</td>\n",
       "      <td>0.579014</td>\n",
       "    </tr>\n",
       "    <tr>\n",
       "      <th>2011-01-07</th>\n",
       "      <td>0.620350</td>\n",
       "      <td>0.621410</td>\n",
       "      <td>0.620350</td>\n",
       "    </tr>\n",
       "  </tbody>\n",
       "</table>\n",
       "</div>"
      ],
      "text/plain": [
       "               close  close_t+1  close_t-0\n",
       "date                                      \n",
       "2011-01-03  0.593959   0.581664   0.593959\n",
       "2011-01-04  0.581664   0.599682   0.581664\n",
       "2011-01-05  0.599682   0.579014   0.599682\n",
       "2011-01-06  0.579014   0.620350   0.579014\n",
       "2011-01-07  0.620350   0.621410   0.620350"
      ]
     },
     "execution_count": 13,
     "metadata": {},
     "output_type": "execute_result"
    }
   ],
   "source": [
    "for t in range(K):\n",
    "    train_shifted['close_t-{}'.format(t)] = train_shifted['close'].shift(t)\n",
    "train_shifted.head()"
   ]
  },
  {
   "cell_type": "code",
   "execution_count": 14,
   "id": "21315e48",
   "metadata": {},
   "outputs": [
    {
     "data": {
      "text/html": [
       "<div>\n",
       "<style scoped>\n",
       "    .dataframe tbody tr th:only-of-type {\n",
       "        vertical-align: middle;\n",
       "    }\n",
       "\n",
       "    .dataframe tbody tr th {\n",
       "        vertical-align: top;\n",
       "    }\n",
       "\n",
       "    .dataframe thead th {\n",
       "        text-align: right;\n",
       "    }\n",
       "</style>\n",
       "<table border=\"1\" class=\"dataframe\">\n",
       "  <thead>\n",
       "    <tr style=\"text-align: right;\">\n",
       "      <th></th>\n",
       "      <th>close</th>\n",
       "      <th>close_t+1</th>\n",
       "      <th>close_t-0</th>\n",
       "    </tr>\n",
       "    <tr>\n",
       "      <th>date</th>\n",
       "      <th></th>\n",
       "      <th></th>\n",
       "      <th></th>\n",
       "    </tr>\n",
       "  </thead>\n",
       "  <tbody>\n",
       "    <tr>\n",
       "      <th>2011-01-03</th>\n",
       "      <td>0.593959</td>\n",
       "      <td>0.581664</td>\n",
       "      <td>0.593959</td>\n",
       "    </tr>\n",
       "    <tr>\n",
       "      <th>2011-01-04</th>\n",
       "      <td>0.581664</td>\n",
       "      <td>0.599682</td>\n",
       "      <td>0.581664</td>\n",
       "    </tr>\n",
       "    <tr>\n",
       "      <th>2011-01-05</th>\n",
       "      <td>0.599682</td>\n",
       "      <td>0.579014</td>\n",
       "      <td>0.599682</td>\n",
       "    </tr>\n",
       "    <tr>\n",
       "      <th>2011-01-06</th>\n",
       "      <td>0.579014</td>\n",
       "      <td>0.620350</td>\n",
       "      <td>0.579014</td>\n",
       "    </tr>\n",
       "    <tr>\n",
       "      <th>2011-01-07</th>\n",
       "      <td>0.620350</td>\n",
       "      <td>0.621410</td>\n",
       "      <td>0.620350</td>\n",
       "    </tr>\n",
       "  </tbody>\n",
       "</table>\n",
       "</div>"
      ],
      "text/plain": [
       "               close  close_t+1  close_t-0\n",
       "date                                      \n",
       "2011-01-03  0.593959   0.581664   0.593959\n",
       "2011-01-04  0.581664   0.599682   0.581664\n",
       "2011-01-05  0.599682   0.579014   0.599682\n",
       "2011-01-06  0.579014   0.620350   0.579014\n",
       "2011-01-07  0.620350   0.621410   0.620350"
      ]
     },
     "execution_count": 14,
     "metadata": {},
     "output_type": "execute_result"
    }
   ],
   "source": [
    "train_shifted = train_shifted.dropna(how='any')\n",
    "train_shifted.head()"
   ]
  },
  {
   "cell_type": "code",
   "execution_count": 15,
   "id": "2a8f5a60",
   "metadata": {},
   "outputs": [],
   "source": [
    "y_data = ['close_t+1']\n",
    "X_data = ['close_t-{}'.format(idx) for idx in range(0, K)]"
   ]
  },
  {
   "cell_type": "code",
   "execution_count": 16,
   "id": "eb380bf9",
   "metadata": {},
   "outputs": [
    {
     "name": "stdout",
     "output_type": "stream",
     "text": [
      "(2233, 1)\n",
      "(2233, 1)\n"
     ]
    }
   ],
   "source": [
    "y_train = train_shifted[y_data].values\n",
    "print(y_train.shape)\n",
    "X_train = train_shifted[X_data].values\n",
    "print(X_train.shape)"
   ]
  },
  {
   "cell_type": "code",
   "execution_count": 17,
   "id": "461c4b44",
   "metadata": {},
   "outputs": [],
   "source": [
    "from sklearn.linear_model import LinearRegression "
   ]
  },
  {
   "cell_type": "code",
   "execution_count": 18,
   "id": "013dfef9",
   "metadata": {},
   "outputs": [
    {
     "data": {
      "text/plain": [
       "LinearRegression()"
      ]
     },
     "execution_count": 18,
     "metadata": {},
     "output_type": "execute_result"
    }
   ],
   "source": [
    "model = LinearRegression()\n",
    "model.fit(X_train, y_train)"
   ]
  },
  {
   "cell_type": "code",
   "execution_count": 19,
   "id": "918ef26e",
   "metadata": {},
   "outputs": [],
   "source": [
    "index_pre = er_price.index.get_loc(valid_start) - K\n",
    "true_valid_start = er_price.index[index_pre]"
   ]
  },
  {
   "cell_type": "code",
   "execution_count": 20,
   "id": "2a834082",
   "metadata": {},
   "outputs": [
    {
     "data": {
      "text/html": [
       "<div>\n",
       "<style scoped>\n",
       "    .dataframe tbody tr th:only-of-type {\n",
       "        vertical-align: middle;\n",
       "    }\n",
       "\n",
       "    .dataframe tbody tr th {\n",
       "        vertical-align: top;\n",
       "    }\n",
       "\n",
       "    .dataframe thead th {\n",
       "        text-align: right;\n",
       "    }\n",
       "</style>\n",
       "<table border=\"1\" class=\"dataframe\">\n",
       "  <thead>\n",
       "    <tr style=\"text-align: right;\">\n",
       "      <th></th>\n",
       "      <th>close</th>\n",
       "    </tr>\n",
       "    <tr>\n",
       "      <th>date</th>\n",
       "      <th></th>\n",
       "    </tr>\n",
       "  </thead>\n",
       "  <tbody>\n",
       "    <tr>\n",
       "      <th>2011-01-03</th>\n",
       "      <td>6.5916</td>\n",
       "    </tr>\n",
       "    <tr>\n",
       "      <th>2011-01-04</th>\n",
       "      <td>6.5800</td>\n",
       "    </tr>\n",
       "    <tr>\n",
       "      <th>2011-01-05</th>\n",
       "      <td>6.5970</td>\n",
       "    </tr>\n",
       "    <tr>\n",
       "      <th>2011-01-06</th>\n",
       "      <td>6.5775</td>\n",
       "    </tr>\n",
       "    <tr>\n",
       "      <th>2011-01-07</th>\n",
       "      <td>6.6165</td>\n",
       "    </tr>\n",
       "    <tr>\n",
       "      <th>...</th>\n",
       "      <td>...</td>\n",
       "    </tr>\n",
       "    <tr>\n",
       "      <th>2021-08-24</th>\n",
       "      <td>6.4800</td>\n",
       "    </tr>\n",
       "    <tr>\n",
       "      <th>2021-08-25</th>\n",
       "      <td>6.4699</td>\n",
       "    </tr>\n",
       "    <tr>\n",
       "      <th>2021-08-26</th>\n",
       "      <td>6.4749</td>\n",
       "    </tr>\n",
       "    <tr>\n",
       "      <th>2021-08-27</th>\n",
       "      <td>6.4805</td>\n",
       "    </tr>\n",
       "    <tr>\n",
       "      <th>2021-08-30</th>\n",
       "      <td>6.4658</td>\n",
       "    </tr>\n",
       "  </tbody>\n",
       "</table>\n",
       "<p>2755 rows × 1 columns</p>\n",
       "</div>"
      ],
      "text/plain": [
       "             close\n",
       "date              \n",
       "2011-01-03  6.5916\n",
       "2011-01-04  6.5800\n",
       "2011-01-05  6.5970\n",
       "2011-01-06  6.5775\n",
       "2011-01-07  6.6165\n",
       "...            ...\n",
       "2021-08-24  6.4800\n",
       "2021-08-25  6.4699\n",
       "2021-08-26  6.4749\n",
       "2021-08-27  6.4805\n",
       "2021-08-30  6.4658\n",
       "\n",
       "[2755 rows x 1 columns]"
      ]
     },
     "execution_count": 20,
     "metadata": {},
     "output_type": "execute_result"
    }
   ],
   "source": [
    "er_price"
   ]
  },
  {
   "cell_type": "code",
   "execution_count": 21,
   "id": "34d66d9a",
   "metadata": {},
   "outputs": [],
   "source": [
    "val_df = er_price[true_valid_start:test_start].copy()"
   ]
  },
  {
   "cell_type": "code",
   "execution_count": 22,
   "id": "c393ddc3",
   "metadata": {},
   "outputs": [
    {
     "data": {
      "text/html": [
       "<div>\n",
       "<style scoped>\n",
       "    .dataframe tbody tr th:only-of-type {\n",
       "        vertical-align: middle;\n",
       "    }\n",
       "\n",
       "    .dataframe tbody tr th {\n",
       "        vertical-align: top;\n",
       "    }\n",
       "\n",
       "    .dataframe thead th {\n",
       "        text-align: right;\n",
       "    }\n",
       "</style>\n",
       "<table border=\"1\" class=\"dataframe\">\n",
       "  <thead>\n",
       "    <tr style=\"text-align: right;\">\n",
       "      <th></th>\n",
       "      <th>close</th>\n",
       "    </tr>\n",
       "    <tr>\n",
       "      <th>date</th>\n",
       "      <th></th>\n",
       "    </tr>\n",
       "  </thead>\n",
       "  <tbody>\n",
       "    <tr>\n",
       "      <th>2019-07-31</th>\n",
       "      <td>6.8836</td>\n",
       "    </tr>\n",
       "    <tr>\n",
       "      <th>2019-08-01</th>\n",
       "      <td>6.8834</td>\n",
       "    </tr>\n",
       "    <tr>\n",
       "      <th>2019-08-02</th>\n",
       "      <td>6.8978</td>\n",
       "    </tr>\n",
       "    <tr>\n",
       "      <th>2019-08-05</th>\n",
       "      <td>6.9392</td>\n",
       "    </tr>\n",
       "    <tr>\n",
       "      <th>2019-08-06</th>\n",
       "      <td>7.0497</td>\n",
       "    </tr>\n",
       "  </tbody>\n",
       "</table>\n",
       "</div>"
      ],
      "text/plain": [
       "             close\n",
       "date              \n",
       "2019-07-31  6.8836\n",
       "2019-08-01  6.8834\n",
       "2019-08-02  6.8978\n",
       "2019-08-05  6.9392\n",
       "2019-08-06  7.0497"
      ]
     },
     "execution_count": 22,
     "metadata": {},
     "output_type": "execute_result"
    }
   ],
   "source": [
    "val_df.head()"
   ]
  },
  {
   "cell_type": "code",
   "execution_count": 23,
   "id": "f876f9f5",
   "metadata": {},
   "outputs": [
    {
     "name": "stdout",
     "output_type": "stream",
     "text": [
      "               close\n",
      "date                \n",
      "2019-07-31  0.903445\n",
      "2019-08-01  0.903233\n",
      "2020-07-31  1.034552\n",
      "2020-08-03  0.999470\n"
     ]
    }
   ],
   "source": [
    "val_df['close'] = scaler.transform(val_df)\n",
    "print(val_df.head(2).append(val_df.tail(2)))"
   ]
  },
  {
   "cell_type": "code",
   "execution_count": 24,
   "id": "eeb30563",
   "metadata": {},
   "outputs": [],
   "source": [
    "valid_shifted = val_df.copy()\n",
    "valid_shifted['close_t+1'] = val_df['close'].shift(-1)\n",
    "for t in range(K):\n",
    "     valid_shifted['close_t-{}'.format(t)] = valid_shifted['close'].shift(t)\n",
    "valid_shifted = valid_shifted.dropna(how='any')\n",
    "y_valid = valid_shifted[y_data].values\n",
    "X_valid = valid_shifted[X_data].values"
   ]
  },
  {
   "cell_type": "code",
   "execution_count": 25,
   "id": "3efbefa4",
   "metadata": {},
   "outputs": [
    {
     "data": {
      "text/html": [
       "<div>\n",
       "<style scoped>\n",
       "    .dataframe tbody tr th:only-of-type {\n",
       "        vertical-align: middle;\n",
       "    }\n",
       "\n",
       "    .dataframe tbody tr th {\n",
       "        vertical-align: top;\n",
       "    }\n",
       "\n",
       "    .dataframe thead th {\n",
       "        text-align: right;\n",
       "    }\n",
       "</style>\n",
       "<table border=\"1\" class=\"dataframe\">\n",
       "  <thead>\n",
       "    <tr style=\"text-align: right;\">\n",
       "      <th></th>\n",
       "      <th>timestamp</th>\n",
       "      <th>h</th>\n",
       "      <th>prediction1</th>\n",
       "      <th>actual</th>\n",
       "    </tr>\n",
       "  </thead>\n",
       "  <tbody>\n",
       "    <tr>\n",
       "      <th>0</th>\n",
       "      <td>2019-07-31</td>\n",
       "      <td>t+1</td>\n",
       "      <td>6.883319</td>\n",
       "      <td>6.8834</td>\n",
       "    </tr>\n",
       "    <tr>\n",
       "      <th>1</th>\n",
       "      <td>2019-08-01</td>\n",
       "      <td>t+1</td>\n",
       "      <td>6.883119</td>\n",
       "      <td>6.8978</td>\n",
       "    </tr>\n",
       "    <tr>\n",
       "      <th>2</th>\n",
       "      <td>2019-08-02</td>\n",
       "      <td>t+1</td>\n",
       "      <td>6.897505</td>\n",
       "      <td>6.9392</td>\n",
       "    </tr>\n",
       "    <tr>\n",
       "      <th>3</th>\n",
       "      <td>2019-08-05</td>\n",
       "      <td>t+1</td>\n",
       "      <td>6.938867</td>\n",
       "      <td>7.0497</td>\n",
       "    </tr>\n",
       "    <tr>\n",
       "      <th>4</th>\n",
       "      <td>2019-08-06</td>\n",
       "      <td>t+1</td>\n",
       "      <td>7.049263</td>\n",
       "      <td>7.0256</td>\n",
       "    </tr>\n",
       "  </tbody>\n",
       "</table>\n",
       "</div>"
      ],
      "text/plain": [
       "   timestamp    h  prediction1  actual\n",
       "0 2019-07-31  t+1     6.883319  6.8834\n",
       "1 2019-08-01  t+1     6.883119  6.8978\n",
       "2 2019-08-02  t+1     6.897505  6.9392\n",
       "3 2019-08-05  t+1     6.938867  7.0497\n",
       "4 2019-08-06  t+1     7.049263  7.0256"
      ]
     },
     "execution_count": 25,
     "metadata": {},
     "output_type": "execute_result"
    }
   ],
   "source": [
    "predictions = model.predict(X_valid)\n",
    "eval_df = pd.DataFrame(predictions, columns=['t+'+str(t) for t in range(1, HORIZON+1)])\n",
    "eval_df['timestamp'] = valid_shifted.index\n",
    "eval_df = pd.melt(eval_df, id_vars='timestamp', value_name='prediction1', var_name='h')\n",
    "eval_df['actual'] = np.transpose(y_valid).ravel()\n",
    "eval_df[['prediction1', 'actual']] = scaler.inverse_transform(eval_df[['prediction1', 'actual']])\n",
    "eval_df.head()"
   ]
  },
  {
   "cell_type": "code",
   "execution_count": 26,
   "id": "d53bed57",
   "metadata": {},
   "outputs": [
    {
     "data": {
      "image/png": "[encoded data removed]",
      "text/plain": [
       "<Figure size 1080x576 with 1 Axes>"
      ]
     },
     "metadata": {
      "needs_background": "light"
     },
     "output_type": "display_data"
    }
   ],
   "source": [
    "eval_df.plot(x='timestamp', y=['prediction1', 'actual'], style=['r', 'b'], figsize=(15, 8))\n",
    "plt.xlabel('timestamp', fontsize=12)\n",
    "plt.ylabel('load', fontsize=12)\n",
    "plt.show()"
   ]
  },
  {
   "cell_type": "code",
   "execution_count": 27,
   "id": "353acaca",
   "metadata": {},
   "outputs": [
    {
     "data": {
      "text/plain": [
       "0.00043658336678900286"
      ]
     },
     "execution_count": 27,
     "metadata": {},
     "output_type": "execute_result"
    }
   ],
   "source": [
    "from sklearn.metrics import mean_squared_error\n",
    "mean_squared_error(y_valid,predictions)"
   ]
  },
  {
   "cell_type": "code",
   "execution_count": 28,
   "id": "25926d5f",
   "metadata": {},
   "outputs": [],
   "source": [
    "index_pre = er_price.index.get_loc(test_start) - K"
   ]
  },
  {
   "cell_type": "code",
   "execution_count": 29,
   "id": "8de78574",
   "metadata": {},
   "outputs": [
    {
     "name": "stdout",
     "output_type": "stream",
     "text": [
      "               close\n",
      "date                \n",
      "2020-07-31  1.034552\n",
      "2020-08-03  0.999470\n",
      "2021-08-27  0.476206\n",
      "2021-08-30  0.460625\n"
     ]
    }
   ],
   "source": [
    "true_valid_start = er_price.index[index_pre]\n",
    "test_df = er_price[true_valid_start:].copy()\n",
    "test_df['close'] = scaler.transform(test_df)\n",
    "print(test_df.head(2).append(test_df.tail(2)))"
   ]
  },
  {
   "cell_type": "code",
   "execution_count": 30,
   "id": "b15382f3",
   "metadata": {},
   "outputs": [],
   "source": [
    "test_shifted = test_df.copy()\n",
    "test_shifted['close_t+1'] = test_shifted['close'].shift(-1)\n",
    "for t in range(0, K):\n",
    "     test_shifted['close_t-{}'.format(t)] = test_shifted['close'].shift(t)\n",
    "test_shifted = test_shifted.dropna(how='any')\n",
    "y_test = test_shifted[y_data].values\n",
    "X_test = test_shifted[X_data].values"
   ]
  },
  {
   "cell_type": "code",
   "execution_count": 31,
   "id": "565d5b8d",
   "metadata": {},
   "outputs": [],
   "source": [
    "predictions = model.predict(X_test)"
   ]
  },
  {
   "cell_type": "code",
   "execution_count": 32,
   "id": "cc41765b",
   "metadata": {},
   "outputs": [
    {
     "data": {
      "text/html": [
       "<div>\n",
       "<style scoped>\n",
       "    .dataframe tbody tr th:only-of-type {\n",
       "        vertical-align: middle;\n",
       "    }\n",
       "\n",
       "    .dataframe tbody tr th {\n",
       "        vertical-align: top;\n",
       "    }\n",
       "\n",
       "    .dataframe thead th {\n",
       "        text-align: right;\n",
       "    }\n",
       "</style>\n",
       "<table border=\"1\" class=\"dataframe\">\n",
       "  <thead>\n",
       "    <tr style=\"text-align: right;\">\n",
       "      <th></th>\n",
       "      <th>date</th>\n",
       "      <th>h</th>\n",
       "      <th>prediction1</th>\n",
       "      <th>actual</th>\n",
       "    </tr>\n",
       "  </thead>\n",
       "  <tbody>\n",
       "    <tr>\n",
       "      <th>0</th>\n",
       "      <td>2020-07-31</td>\n",
       "      <td>t+1</td>\n",
       "      <td>7.006903</td>\n",
       "      <td>6.9742</td>\n",
       "    </tr>\n",
       "    <tr>\n",
       "      <th>1</th>\n",
       "      <td>2020-08-03</td>\n",
       "      <td>t+1</td>\n",
       "      <td>6.973834</td>\n",
       "      <td>6.9794</td>\n",
       "    </tr>\n",
       "    <tr>\n",
       "      <th>2</th>\n",
       "      <td>2020-08-04</td>\n",
       "      <td>t+1</td>\n",
       "      <td>6.979029</td>\n",
       "      <td>6.9727</td>\n",
       "    </tr>\n",
       "    <tr>\n",
       "      <th>3</th>\n",
       "      <td>2020-08-05</td>\n",
       "      <td>t+1</td>\n",
       "      <td>6.972335</td>\n",
       "      <td>6.9346</td>\n",
       "    </tr>\n",
       "    <tr>\n",
       "      <th>4</th>\n",
       "      <td>2020-08-06</td>\n",
       "      <td>t+1</td>\n",
       "      <td>6.934271</td>\n",
       "      <td>6.9524</td>\n",
       "    </tr>\n",
       "  </tbody>\n",
       "</table>\n",
       "</div>"
      ],
      "text/plain": [
       "        date    h  prediction1  actual\n",
       "0 2020-07-31  t+1     7.006903  6.9742\n",
       "1 2020-08-03  t+1     6.973834  6.9794\n",
       "2 2020-08-04  t+1     6.979029  6.9727\n",
       "3 2020-08-05  t+1     6.972335  6.9346\n",
       "4 2020-08-06  t+1     6.934271  6.9524"
      ]
     },
     "execution_count": 32,
     "metadata": {},
     "output_type": "execute_result"
    }
   ],
   "source": [
    "eval_df = pd.DataFrame(predictions, columns=['t+'+str(t) for t in range(1, HORIZON+1)])\n",
    "eval_df['date'] = test_shifted.index\n",
    "eval_df = pd.melt(eval_df, id_vars='date', value_name='prediction1', var_name='h')\n",
    "eval_df['actual'] = np.transpose(y_test).ravel()\n",
    "eval_df[['prediction1', 'actual']] = scaler.inverse_transform(eval_df[['prediction1', 'actual']])\n",
    "eval_df.head()"
   ]
  },
  {
   "cell_type": "code",
   "execution_count": 33,
   "id": "4dfbe04d",
   "metadata": {},
   "outputs": [
    {
     "data": {
      "image/png": "[encoded data removed]",
      "text/plain": [
       "<Figure size 1080x576 with 1 Axes>"
      ]
     },
     "metadata": {
      "needs_background": "light"
     },
     "output_type": "display_data"
    }
   ],
   "source": [
    "eval_df.plot(x='date', y=['prediction1', 'actual'], style=['r', 'b'], figsize=(15, 8))\n",
    "plt.xlabel('date', fontsize=12)\n",
    "plt.ylabel('load', fontsize=12)\n",
    "plt.show()"
   ]
  },
  {
   "cell_type": "code",
   "execution_count": 34,
   "id": "85f1a914",
   "metadata": {},
   "outputs": [
    {
     "data": {
      "text/plain": [
       "0.0002972753527133246"
      ]
     },
     "execution_count": 34,
     "metadata": {},
     "output_type": "execute_result"
    }
   ],
   "source": [
    "from sklearn.metrics import mean_squared_error\n",
    "mean_squared_error(y_test,predictions)"
   ]
  },
  {
   "cell_type": "code",
   "execution_count": 35,
   "id": "28ccc064",
   "metadata": {},
   "outputs": [
    {
     "data": {
      "text/plain": [
       "0.9889984292170573"
      ]
     },
     "execution_count": 35,
     "metadata": {},
     "output_type": "execute_result"
    }
   ],
   "source": [
    "from sklearn.metrics import r2_score\n",
    "r2_score(y_test,predictions)"
   ]
  },
  {
   "cell_type": "code",
   "execution_count": 36,
   "id": "2b39dc33",
   "metadata": {
    "scrolled": true
   },
   "outputs": [
    {
     "data": {
      "text/plain": [
       "0.012038473228784232"
      ]
     },
     "execution_count": 36,
     "metadata": {},
     "output_type": "execute_result"
    }
   ],
   "source": [
    "from sklearn.metrics import mean_absolute_error\n",
    "mean_absolute_error(y_test,predictions)"
   ]
  },
  {
   "cell_type": "code",
   "execution_count": 38,
   "id": "51668dcc",
   "metadata": {},
   "outputs": [
    {
     "name": "stdout",
     "output_type": "stream",
     "text": [
      "Testing MAPE is 0.17%\n"
     ]
    }
   ],
   "source": [
    "mape_test = np.mean(np.abs((eval_df['prediction1'] - eval_df['actual']) / eval_df['actual'])) * 100\n",
    "print('Testing MAPE is {:.2f}%'.format(mape_test))"
   ]
  },
  {
   "cell_type": "markdown",
   "id": "387ba71c",
   "metadata": {},
   "source": [
    "# Linear regression model when k=3"
   ]
  },
  {
   "cell_type": "code",
   "execution_count": 39,
   "id": "80db69e7",
   "metadata": {},
   "outputs": [],
   "source": [
    "K = 3\n",
    "HORIZON = 1"
   ]
  },
  {
   "cell_type": "code",
   "execution_count": 40,
   "id": "4d06de1b",
   "metadata": {},
   "outputs": [],
   "source": [
    "train_er = er_price[:valid_start].copy()"
   ]
  },
  {
   "cell_type": "code",
   "execution_count": 41,
   "id": "a29bddc1",
   "metadata": {},
   "outputs": [
    {
     "name": "stdout",
     "output_type": "stream",
     "text": [
      "               close\n",
      "date                \n",
      "2011-01-03  0.593959\n",
      "2011-01-04  0.581664\n",
      "2019-07-31  0.903445\n",
      "2019-08-01  0.903233\n"
     ]
    },
    {
     "data": {
      "image/png": "[encoded data removed]",
      "text/plain": [
       "<Figure size 432x288 with 1 Axes>"
      ]
     },
     "metadata": {
      "needs_background": "light"
     },
     "output_type": "display_data"
    }
   ],
   "source": [
    "from sklearn.preprocessing import MinMaxScaler\n",
    "scaler = MinMaxScaler()\n",
    "train_er['close'] = scaler.fit_transform(train_er)\n",
    "print(train_er.head(2).append(train_er.tail(2)))\n",
    "train_er.rename(columns={'close':'after scaling'}).plot.hist(bins=100, fontsize=12)\n",
    "plt.show()"
   ]
  },
  {
   "cell_type": "code",
   "execution_count": 42,
   "id": "acffebd0",
   "metadata": {},
   "outputs": [
    {
     "data": {
      "text/html": [
       "<div>\n",
       "<style scoped>\n",
       "    .dataframe tbody tr th:only-of-type {\n",
       "        vertical-align: middle;\n",
       "    }\n",
       "\n",
       "    .dataframe tbody tr th {\n",
       "        vertical-align: top;\n",
       "    }\n",
       "\n",
       "    .dataframe thead th {\n",
       "        text-align: right;\n",
       "    }\n",
       "</style>\n",
       "<table border=\"1\" class=\"dataframe\">\n",
       "  <thead>\n",
       "    <tr style=\"text-align: right;\">\n",
       "      <th></th>\n",
       "      <th>close</th>\n",
       "      <th>close_t+1</th>\n",
       "    </tr>\n",
       "    <tr>\n",
       "      <th>date</th>\n",
       "      <th></th>\n",
       "      <th></th>\n",
       "    </tr>\n",
       "  </thead>\n",
       "  <tbody>\n",
       "    <tr>\n",
       "      <th>2011-01-03</th>\n",
       "      <td>0.593959</td>\n",
       "      <td>0.581664</td>\n",
       "    </tr>\n",
       "    <tr>\n",
       "      <th>2011-01-04</th>\n",
       "      <td>0.581664</td>\n",
       "      <td>0.599682</td>\n",
       "    </tr>\n",
       "  </tbody>\n",
       "</table>\n",
       "</div>"
      ],
      "text/plain": [
       "               close  close_t+1\n",
       "date                           \n",
       "2011-01-03  0.593959   0.581664\n",
       "2011-01-04  0.581664   0.599682"
      ]
     },
     "execution_count": 42,
     "metadata": {},
     "output_type": "execute_result"
    }
   ],
   "source": [
    "train_shifted = train_er\n",
    "train_shifted['close_t+1'] = train_er['close'].shift(-1)\n",
    "train_shifted.head(2)"
   ]
  },
  {
   "cell_type": "code",
   "execution_count": 43,
   "id": "fa0b8038",
   "metadata": {},
   "outputs": [
    {
     "data": {
      "text/html": [
       "<div>\n",
       "<style scoped>\n",
       "    .dataframe tbody tr th:only-of-type {\n",
       "        vertical-align: middle;\n",
       "    }\n",
       "\n",
       "    .dataframe tbody tr th {\n",
       "        vertical-align: top;\n",
       "    }\n",
       "\n",
       "    .dataframe thead th {\n",
       "        text-align: right;\n",
       "    }\n",
       "</style>\n",
       "<table border=\"1\" class=\"dataframe\">\n",
       "  <thead>\n",
       "    <tr style=\"text-align: right;\">\n",
       "      <th></th>\n",
       "      <th>close</th>\n",
       "      <th>close_t+1</th>\n",
       "      <th>close_t-0</th>\n",
       "      <th>close_t-1</th>\n",
       "      <th>close_t-2</th>\n",
       "    </tr>\n",
       "    <tr>\n",
       "      <th>date</th>\n",
       "      <th></th>\n",
       "      <th></th>\n",
       "      <th></th>\n",
       "      <th></th>\n",
       "      <th></th>\n",
       "    </tr>\n",
       "  </thead>\n",
       "  <tbody>\n",
       "    <tr>\n",
       "      <th>2011-01-03</th>\n",
       "      <td>0.593959</td>\n",
       "      <td>0.581664</td>\n",
       "      <td>0.593959</td>\n",
       "      <td>NaN</td>\n",
       "      <td>NaN</td>\n",
       "    </tr>\n",
       "    <tr>\n",
       "      <th>2011-01-04</th>\n",
       "      <td>0.581664</td>\n",
       "      <td>0.599682</td>\n",
       "      <td>0.581664</td>\n",
       "      <td>0.593959</td>\n",
       "      <td>NaN</td>\n",
       "    </tr>\n",
       "    <tr>\n",
       "      <th>2011-01-05</th>\n",
       "      <td>0.599682</td>\n",
       "      <td>0.579014</td>\n",
       "      <td>0.599682</td>\n",
       "      <td>0.581664</td>\n",
       "      <td>0.593959</td>\n",
       "    </tr>\n",
       "    <tr>\n",
       "      <th>2011-01-06</th>\n",
       "      <td>0.579014</td>\n",
       "      <td>0.620350</td>\n",
       "      <td>0.579014</td>\n",
       "      <td>0.599682</td>\n",
       "      <td>0.581664</td>\n",
       "    </tr>\n",
       "    <tr>\n",
       "      <th>2011-01-07</th>\n",
       "      <td>0.620350</td>\n",
       "      <td>0.621410</td>\n",
       "      <td>0.620350</td>\n",
       "      <td>0.579014</td>\n",
       "      <td>0.599682</td>\n",
       "    </tr>\n",
       "  </tbody>\n",
       "</table>\n",
       "</div>"
      ],
      "text/plain": [
       "               close  close_t+1  close_t-0  close_t-1  close_t-2\n",
       "date                                                            \n",
       "2011-01-03  0.593959   0.581664   0.593959        NaN        NaN\n",
       "2011-01-04  0.581664   0.599682   0.581664   0.593959        NaN\n",
       "2011-01-05  0.599682   0.579014   0.599682   0.581664   0.593959\n",
       "2011-01-06  0.579014   0.620350   0.579014   0.599682   0.581664\n",
       "2011-01-07  0.620350   0.621410   0.620350   0.579014   0.599682"
      ]
     },
     "execution_count": 43,
     "metadata": {},
     "output_type": "execute_result"
    }
   ],
   "source": [
    "for t in range(K):\n",
    "    train_shifted['close_t-{}'.format(t)] = train_shifted['close'].shift(t)\n",
    "train_shifted.head()"
   ]
  },
  {
   "cell_type": "code",
   "execution_count": 44,
   "id": "a477ef60",
   "metadata": {},
   "outputs": [
    {
     "data": {
      "text/html": [
       "<div>\n",
       "<style scoped>\n",
       "    .dataframe tbody tr th:only-of-type {\n",
       "        vertical-align: middle;\n",
       "    }\n",
       "\n",
       "    .dataframe tbody tr th {\n",
       "        vertical-align: top;\n",
       "    }\n",
       "\n",
       "    .dataframe thead th {\n",
       "        text-align: right;\n",
       "    }\n",
       "</style>\n",
       "<table border=\"1\" class=\"dataframe\">\n",
       "  <thead>\n",
       "    <tr style=\"text-align: right;\">\n",
       "      <th></th>\n",
       "      <th>close</th>\n",
       "      <th>close_t+1</th>\n",
       "      <th>close_t-0</th>\n",
       "      <th>close_t-1</th>\n",
       "      <th>close_t-2</th>\n",
       "    </tr>\n",
       "    <tr>\n",
       "      <th>date</th>\n",
       "      <th></th>\n",
       "      <th></th>\n",
       "      <th></th>\n",
       "      <th></th>\n",
       "      <th></th>\n",
       "    </tr>\n",
       "  </thead>\n",
       "  <tbody>\n",
       "    <tr>\n",
       "      <th>2011-01-05</th>\n",
       "      <td>0.599682</td>\n",
       "      <td>0.579014</td>\n",
       "      <td>0.599682</td>\n",
       "      <td>0.581664</td>\n",
       "      <td>0.593959</td>\n",
       "    </tr>\n",
       "    <tr>\n",
       "      <th>2011-01-06</th>\n",
       "      <td>0.579014</td>\n",
       "      <td>0.620350</td>\n",
       "      <td>0.579014</td>\n",
       "      <td>0.599682</td>\n",
       "      <td>0.581664</td>\n",
       "    </tr>\n",
       "    <tr>\n",
       "      <th>2011-01-07</th>\n",
       "      <td>0.620350</td>\n",
       "      <td>0.621410</td>\n",
       "      <td>0.620350</td>\n",
       "      <td>0.579014</td>\n",
       "      <td>0.599682</td>\n",
       "    </tr>\n",
       "    <tr>\n",
       "      <th>2011-01-10</th>\n",
       "      <td>0.621410</td>\n",
       "      <td>0.630419</td>\n",
       "      <td>0.621410</td>\n",
       "      <td>0.620350</td>\n",
       "      <td>0.579014</td>\n",
       "    </tr>\n",
       "    <tr>\n",
       "      <th>2011-01-11</th>\n",
       "      <td>0.630419</td>\n",
       "      <td>0.613461</td>\n",
       "      <td>0.630419</td>\n",
       "      <td>0.621410</td>\n",
       "      <td>0.620350</td>\n",
       "    </tr>\n",
       "  </tbody>\n",
       "</table>\n",
       "</div>"
      ],
      "text/plain": [
       "               close  close_t+1  close_t-0  close_t-1  close_t-2\n",
       "date                                                            \n",
       "2011-01-05  0.599682   0.579014   0.599682   0.581664   0.593959\n",
       "2011-01-06  0.579014   0.620350   0.579014   0.599682   0.581664\n",
       "2011-01-07  0.620350   0.621410   0.620350   0.579014   0.599682\n",
       "2011-01-10  0.621410   0.630419   0.621410   0.620350   0.579014\n",
       "2011-01-11  0.630419   0.613461   0.630419   0.621410   0.620350"
      ]
     },
     "execution_count": 44,
     "metadata": {},
     "output_type": "execute_result"
    }
   ],
   "source": [
    "train_shifted = train_shifted.dropna(how='any')\n",
    "train_shifted.head()"
   ]
  },
  {
   "cell_type": "code",
   "execution_count": 45,
   "id": "985dcc21",
   "metadata": {},
   "outputs": [],
   "source": [
    "y_data = ['close_t+1']\n",
    "X_data = ['close_t-{}'.format(idx) for idx in range(0, K)]"
   ]
  },
  {
   "cell_type": "code",
   "execution_count": 46,
   "id": "647aaaeb",
   "metadata": {},
   "outputs": [
    {
     "name": "stdout",
     "output_type": "stream",
     "text": [
      "(2231, 1)\n",
      "(2231, 3)\n"
     ]
    }
   ],
   "source": [
    "y_train = train_shifted[y_data].values\n",
    "print(y_train.shape)\n",
    "X_train = train_shifted[X_data].values\n",
    "print(X_train.shape)"
   ]
  },
  {
   "cell_type": "code",
   "execution_count": 47,
   "id": "9b603e3e",
   "metadata": {},
   "outputs": [],
   "source": [
    "from sklearn.linear_model import LinearRegression "
   ]
  },
  {
   "cell_type": "code",
   "execution_count": 48,
   "id": "cf0c9240",
   "metadata": {},
   "outputs": [
    {
     "data": {
      "text/plain": [
       "LinearRegression()"
      ]
     },
     "execution_count": 48,
     "metadata": {},
     "output_type": "execute_result"
    }
   ],
   "source": [
    "model = LinearRegression()\n",
    "model.fit(X_train, y_train)"
   ]
  },
  {
   "cell_type": "code",
   "execution_count": 49,
   "id": "0b4a488c",
   "metadata": {},
   "outputs": [],
   "source": [
    "index_pre = er_price.index.get_loc(valid_start) - K\n",
    "true_valid_start = er_price.index[index_pre]"
   ]
  },
  {
   "cell_type": "code",
   "execution_count": 50,
   "id": "a0ab9d16",
   "metadata": {},
   "outputs": [
    {
     "data": {
      "text/html": [
       "<div>\n",
       "<style scoped>\n",
       "    .dataframe tbody tr th:only-of-type {\n",
       "        vertical-align: middle;\n",
       "    }\n",
       "\n",
       "    .dataframe tbody tr th {\n",
       "        vertical-align: top;\n",
       "    }\n",
       "\n",
       "    .dataframe thead th {\n",
       "        text-align: right;\n",
       "    }\n",
       "</style>\n",
       "<table border=\"1\" class=\"dataframe\">\n",
       "  <thead>\n",
       "    <tr style=\"text-align: right;\">\n",
       "      <th></th>\n",
       "      <th>close</th>\n",
       "    </tr>\n",
       "    <tr>\n",
       "      <th>date</th>\n",
       "      <th></th>\n",
       "    </tr>\n",
       "  </thead>\n",
       "  <tbody>\n",
       "    <tr>\n",
       "      <th>2011-01-03</th>\n",
       "      <td>6.5916</td>\n",
       "    </tr>\n",
       "    <tr>\n",
       "      <th>2011-01-04</th>\n",
       "      <td>6.5800</td>\n",
       "    </tr>\n",
       "    <tr>\n",
       "      <th>2011-01-05</th>\n",
       "      <td>6.5970</td>\n",
       "    </tr>\n",
       "    <tr>\n",
       "      <th>2011-01-06</th>\n",
       "      <td>6.5775</td>\n",
       "    </tr>\n",
       "    <tr>\n",
       "      <th>2011-01-07</th>\n",
       "      <td>6.6165</td>\n",
       "    </tr>\n",
       "    <tr>\n",
       "      <th>...</th>\n",
       "      <td>...</td>\n",
       "    </tr>\n",
       "    <tr>\n",
       "      <th>2021-08-24</th>\n",
       "      <td>6.4800</td>\n",
       "    </tr>\n",
       "    <tr>\n",
       "      <th>2021-08-25</th>\n",
       "      <td>6.4699</td>\n",
       "    </tr>\n",
       "    <tr>\n",
       "      <th>2021-08-26</th>\n",
       "      <td>6.4749</td>\n",
       "    </tr>\n",
       "    <tr>\n",
       "      <th>2021-08-27</th>\n",
       "      <td>6.4805</td>\n",
       "    </tr>\n",
       "    <tr>\n",
       "      <th>2021-08-30</th>\n",
       "      <td>6.4658</td>\n",
       "    </tr>\n",
       "  </tbody>\n",
       "</table>\n",
       "<p>2755 rows × 1 columns</p>\n",
       "</div>"
      ],
      "text/plain": [
       "             close\n",
       "date              \n",
       "2011-01-03  6.5916\n",
       "2011-01-04  6.5800\n",
       "2011-01-05  6.5970\n",
       "2011-01-06  6.5775\n",
       "2011-01-07  6.6165\n",
       "...            ...\n",
       "2021-08-24  6.4800\n",
       "2021-08-25  6.4699\n",
       "2021-08-26  6.4749\n",
       "2021-08-27  6.4805\n",
       "2021-08-30  6.4658\n",
       "\n",
       "[2755 rows x 1 columns]"
      ]
     },
     "execution_count": 50,
     "metadata": {},
     "output_type": "execute_result"
    }
   ],
   "source": [
    "er_price"
   ]
  },
  {
   "cell_type": "code",
   "execution_count": 51,
   "id": "361c7b07",
   "metadata": {},
   "outputs": [],
   "source": [
    "val_df = er_price[true_valid_start:test_start].copy()"
   ]
  },
  {
   "cell_type": "code",
   "execution_count": 52,
   "id": "8b03da12",
   "metadata": {},
   "outputs": [
    {
     "data": {
      "text/html": [
       "<div>\n",
       "<style scoped>\n",
       "    .dataframe tbody tr th:only-of-type {\n",
       "        vertical-align: middle;\n",
       "    }\n",
       "\n",
       "    .dataframe tbody tr th {\n",
       "        vertical-align: top;\n",
       "    }\n",
       "\n",
       "    .dataframe thead th {\n",
       "        text-align: right;\n",
       "    }\n",
       "</style>\n",
       "<table border=\"1\" class=\"dataframe\">\n",
       "  <thead>\n",
       "    <tr style=\"text-align: right;\">\n",
       "      <th></th>\n",
       "      <th>close</th>\n",
       "    </tr>\n",
       "    <tr>\n",
       "      <th>date</th>\n",
       "      <th></th>\n",
       "    </tr>\n",
       "  </thead>\n",
       "  <tbody>\n",
       "    <tr>\n",
       "      <th>2019-07-29</th>\n",
       "      <td>6.8782</td>\n",
       "    </tr>\n",
       "    <tr>\n",
       "      <th>2019-07-30</th>\n",
       "      <td>6.8924</td>\n",
       "    </tr>\n",
       "    <tr>\n",
       "      <th>2019-07-31</th>\n",
       "      <td>6.8836</td>\n",
       "    </tr>\n",
       "    <tr>\n",
       "      <th>2019-08-01</th>\n",
       "      <td>6.8834</td>\n",
       "    </tr>\n",
       "    <tr>\n",
       "      <th>2019-08-02</th>\n",
       "      <td>6.8978</td>\n",
       "    </tr>\n",
       "  </tbody>\n",
       "</table>\n",
       "</div>"
      ],
      "text/plain": [
       "             close\n",
       "date              \n",
       "2019-07-29  6.8782\n",
       "2019-07-30  6.8924\n",
       "2019-07-31  6.8836\n",
       "2019-08-01  6.8834\n",
       "2019-08-02  6.8978"
      ]
     },
     "execution_count": 52,
     "metadata": {},
     "output_type": "execute_result"
    }
   ],
   "source": [
    "val_df.head()"
   ]
  },
  {
   "cell_type": "code",
   "execution_count": 53,
   "id": "d4d5de81",
   "metadata": {},
   "outputs": [
    {
     "name": "stdout",
     "output_type": "stream",
     "text": [
      "               close\n",
      "date                \n",
      "2019-07-29  0.897721\n",
      "2019-07-30  0.912772\n",
      "2020-07-31  1.034552\n",
      "2020-08-03  0.999470\n"
     ]
    }
   ],
   "source": [
    "val_df['close'] = scaler.transform(val_df)\n",
    "print(val_df.head(2).append(val_df.tail(2)))"
   ]
  },
  {
   "cell_type": "code",
   "execution_count": 54,
   "id": "0b08359d",
   "metadata": {},
   "outputs": [],
   "source": [
    "valid_shifted = val_df.copy()\n",
    "valid_shifted['close_t+1'] = val_df['close'].shift(-1)\n",
    "for t in range(K):\n",
    "     valid_shifted['close_t-{}'.format(t)] = valid_shifted['close'].shift(t)\n",
    "valid_shifted = valid_shifted.dropna(how='any')\n",
    "y_valid = valid_shifted[y_data].values\n",
    "X_valid = valid_shifted[X_data].values"
   ]
  },
  {
   "cell_type": "code",
   "execution_count": 55,
   "id": "a10ce133",
   "metadata": {},
   "outputs": [
    {
     "data": {
      "text/html": [
       "<div>\n",
       "<style scoped>\n",
       "    .dataframe tbody tr th:only-of-type {\n",
       "        vertical-align: middle;\n",
       "    }\n",
       "\n",
       "    .dataframe tbody tr th {\n",
       "        vertical-align: top;\n",
       "    }\n",
       "\n",
       "    .dataframe thead th {\n",
       "        text-align: right;\n",
       "    }\n",
       "</style>\n",
       "<table border=\"1\" class=\"dataframe\">\n",
       "  <thead>\n",
       "    <tr style=\"text-align: right;\">\n",
       "      <th></th>\n",
       "      <th>timestamp</th>\n",
       "      <th>h</th>\n",
       "      <th>prediction3</th>\n",
       "      <th>actual</th>\n",
       "    </tr>\n",
       "  </thead>\n",
       "  <tbody>\n",
       "    <tr>\n",
       "      <th>0</th>\n",
       "      <td>2019-07-31</td>\n",
       "      <td>t+1</td>\n",
       "      <td>6.884023</td>\n",
       "      <td>6.8834</td>\n",
       "    </tr>\n",
       "    <tr>\n",
       "      <th>1</th>\n",
       "      <td>2019-08-01</td>\n",
       "      <td>t+1</td>\n",
       "      <td>6.883795</td>\n",
       "      <td>6.8978</td>\n",
       "    </tr>\n",
       "    <tr>\n",
       "      <th>2</th>\n",
       "      <td>2019-08-02</td>\n",
       "      <td>t+1</td>\n",
       "      <td>6.895662</td>\n",
       "      <td>6.9392</td>\n",
       "    </tr>\n",
       "    <tr>\n",
       "      <th>3</th>\n",
       "      <td>2019-08-05</td>\n",
       "      <td>t+1</td>\n",
       "      <td>6.932439</td>\n",
       "      <td>7.0497</td>\n",
       "    </tr>\n",
       "    <tr>\n",
       "      <th>4</th>\n",
       "      <td>2019-08-06</td>\n",
       "      <td>t+1</td>\n",
       "      <td>7.031642</td>\n",
       "      <td>7.0256</td>\n",
       "    </tr>\n",
       "  </tbody>\n",
       "</table>\n",
       "</div>"
      ],
      "text/plain": [
       "   timestamp    h  prediction3  actual\n",
       "0 2019-07-31  t+1     6.884023  6.8834\n",
       "1 2019-08-01  t+1     6.883795  6.8978\n",
       "2 2019-08-02  t+1     6.895662  6.9392\n",
       "3 2019-08-05  t+1     6.932439  7.0497\n",
       "4 2019-08-06  t+1     7.031642  7.0256"
      ]
     },
     "execution_count": 55,
     "metadata": {},
     "output_type": "execute_result"
    }
   ],
   "source": [
    "predictions = model.predict(X_valid)\n",
    "eval_df = pd.DataFrame(predictions, columns=['t+'+str(t) for t in range(1, HORIZON+1)])\n",
    "eval_df['timestamp'] = valid_shifted.index\n",
    "eval_df = pd.melt(eval_df, id_vars='timestamp', value_name='prediction3', var_name='h')\n",
    "eval_df['actual'] = np.transpose(y_valid).ravel()\n",
    "eval_df[['prediction3', 'actual']] = scaler.inverse_transform(eval_df[['prediction3', 'actual']])\n",
    "eval_df.head()"
   ]
  },
  {
   "cell_type": "code",
   "execution_count": 56,
   "id": "2f95e202",
   "metadata": {},
   "outputs": [
    {
     "data": {
      "image/png": "[encoded data removed]",
      "text/plain": [
       "<Figure size 1080x576 with 1 Axes>"
      ]
     },
     "metadata": {
      "needs_background": "light"
     },
     "output_type": "display_data"
    }
   ],
   "source": [
    "eval_df.plot(x='timestamp', y=['prediction3', 'actual'], style=['r', 'b'], figsize=(15, 8))\n",
    "plt.xlabel('timestamp', fontsize=12)\n",
    "plt.ylabel('load', fontsize=12)\n",
    "plt.show()"
   ]
  },
  {
   "cell_type": "code",
   "execution_count": 57,
   "id": "d359182d",
   "metadata": {},
   "outputs": [
    {
     "data": {
      "text/plain": [
       "0.9008932255027602"
      ]
     },
     "execution_count": 57,
     "metadata": {},
     "output_type": "execute_result"
    }
   ],
   "source": [
    "from sklearn.metrics import r2_score\n",
    "r2_score(y_valid,predictions)"
   ]
  },
  {
   "cell_type": "code",
   "execution_count": 58,
   "id": "671a4774",
   "metadata": {},
   "outputs": [
    {
     "data": {
      "text/plain": [
       "0.0004408993038050831"
      ]
     },
     "execution_count": 58,
     "metadata": {},
     "output_type": "execute_result"
    }
   ],
   "source": [
    "from sklearn.metrics import mean_squared_error\n",
    "mean_squared_error(y_valid,predictions)"
   ]
  },
  {
   "cell_type": "code",
   "execution_count": 59,
   "id": "01101155",
   "metadata": {},
   "outputs": [],
   "source": [
    "index_pre = er_price.index.get_loc(test_start) - K"
   ]
  },
  {
   "cell_type": "code",
   "execution_count": 60,
   "id": "b8aecb7b",
   "metadata": {},
   "outputs": [
    {
     "name": "stdout",
     "output_type": "stream",
     "text": [
      "               close\n",
      "date                \n",
      "2020-07-29  1.026497\n",
      "2020-07-30  1.027133\n",
      "2021-08-27  0.476206\n",
      "2021-08-30  0.460625\n"
     ]
    }
   ],
   "source": [
    "true_valid_start = er_price.index[index_pre]\n",
    "test_df = er_price[true_valid_start:].copy()\n",
    "test_df['close'] = scaler.transform(test_df)\n",
    "print(test_df.head(2).append(test_df.tail(2)))"
   ]
  },
  {
   "cell_type": "code",
   "execution_count": 61,
   "id": "b95ad19e",
   "metadata": {},
   "outputs": [],
   "source": [
    "test_shifted = test_df.copy()\n",
    "test_shifted['close_t+1'] = test_shifted['close'].shift(-1)\n",
    "for t in range(0, K):\n",
    "     test_shifted['close_t-{}'.format(t)] = test_shifted['close'].shift(t)\n",
    "test_shifted = test_shifted.dropna(how='any')\n",
    "y_test = test_shifted[y_data].values\n",
    "X_test = test_shifted[X_data].values"
   ]
  },
  {
   "cell_type": "code",
   "execution_count": 62,
   "id": "5656be65",
   "metadata": {},
   "outputs": [],
   "source": [
    "predictions = model.predict(X_test)"
   ]
  },
  {
   "cell_type": "code",
   "execution_count": 63,
   "id": "aad729f0",
   "metadata": {},
   "outputs": [
    {
     "data": {
      "text/html": [
       "<div>\n",
       "<style scoped>\n",
       "    .dataframe tbody tr th:only-of-type {\n",
       "        vertical-align: middle;\n",
       "    }\n",
       "\n",
       "    .dataframe tbody tr th {\n",
       "        vertical-align: top;\n",
       "    }\n",
       "\n",
       "    .dataframe thead th {\n",
       "        text-align: right;\n",
       "    }\n",
       "</style>\n",
       "<table border=\"1\" class=\"dataframe\">\n",
       "  <thead>\n",
       "    <tr style=\"text-align: right;\">\n",
       "      <th></th>\n",
       "      <th>date</th>\n",
       "      <th>h</th>\n",
       "      <th>prediction3</th>\n",
       "      <th>actual</th>\n",
       "    </tr>\n",
       "  </thead>\n",
       "  <tbody>\n",
       "    <tr>\n",
       "      <th>0</th>\n",
       "      <td>2020-07-31</td>\n",
       "      <td>t+1</td>\n",
       "      <td>7.006112</td>\n",
       "      <td>6.9742</td>\n",
       "    </tr>\n",
       "    <tr>\n",
       "      <th>1</th>\n",
       "      <td>2020-08-03</td>\n",
       "      <td>t+1</td>\n",
       "      <td>6.978404</td>\n",
       "      <td>6.9794</td>\n",
       "    </tr>\n",
       "    <tr>\n",
       "      <th>2</th>\n",
       "      <td>2020-08-04</td>\n",
       "      <td>t+1</td>\n",
       "      <td>6.980236</td>\n",
       "      <td>6.9727</td>\n",
       "    </tr>\n",
       "    <tr>\n",
       "      <th>3</th>\n",
       "      <td>2020-08-05</td>\n",
       "      <td>t+1</td>\n",
       "      <td>6.973242</td>\n",
       "      <td>6.9346</td>\n",
       "    </tr>\n",
       "    <tr>\n",
       "      <th>4</th>\n",
       "      <td>2020-08-06</td>\n",
       "      <td>t+1</td>\n",
       "      <td>6.940249</td>\n",
       "      <td>6.9524</td>\n",
       "    </tr>\n",
       "  </tbody>\n",
       "</table>\n",
       "</div>"
      ],
      "text/plain": [
       "        date    h  prediction3  actual\n",
       "0 2020-07-31  t+1     7.006112  6.9742\n",
       "1 2020-08-03  t+1     6.978404  6.9794\n",
       "2 2020-08-04  t+1     6.980236  6.9727\n",
       "3 2020-08-05  t+1     6.973242  6.9346\n",
       "4 2020-08-06  t+1     6.940249  6.9524"
      ]
     },
     "execution_count": 63,
     "metadata": {},
     "output_type": "execute_result"
    }
   ],
   "source": [
    "eval_df = pd.DataFrame(predictions, columns=['t+'+str(t) for t in range(1, HORIZON+1)])\n",
    "eval_df['date'] = test_shifted.index\n",
    "eval_df = pd.melt(eval_df, id_vars='date', value_name='prediction3', var_name='h')\n",
    "eval_df['actual'] = np.transpose(y_test).ravel()\n",
    "eval_df[['prediction3', 'actual']] = scaler.inverse_transform(eval_df[['prediction3', 'actual']])\n",
    "eval_df.head()"
   ]
  },
  {
   "cell_type": "code",
   "execution_count": 64,
   "id": "f655017d",
   "metadata": {},
   "outputs": [
    {
     "data": {
      "image/png": "[encoded data removed]",
      "text/plain": [
       "<Figure size 1080x576 with 1 Axes>"
      ]
     },
     "metadata": {
      "needs_background": "light"
     },
     "output_type": "display_data"
    }
   ],
   "source": [
    "eval_df.plot(x='date', y=['prediction3', 'actual'], style=['r', 'b'], figsize=(15, 8))\n",
    "plt.title('Predicted and actual close price of USDCNY')\n",
    "plt.xlabel('date', fontsize=12)\n",
    "plt.ylabel('load', fontsize=12)\n",
    "plt.show()"
   ]
  },
  {
   "cell_type": "code",
   "execution_count": 65,
   "id": "dc6b217e",
   "metadata": {},
   "outputs": [
    {
     "name": "stdout",
     "output_type": "stream",
     "text": [
      "Testing MAPE is 0.17%\n"
     ]
    }
   ],
   "source": [
    "mape_test = np.mean(np.abs((eval_df['prediction3'] - eval_df['actual']) / eval_df['actual'])) * 100\n",
    "print('Testing MAPE is {:.2f}%'.format(mape_test))"
   ]
  },
  {
   "cell_type": "code",
   "execution_count": 66,
   "id": "74e62ee8",
   "metadata": {},
   "outputs": [
    {
     "data": {
      "text/plain": [
       "0.00029585009658792105"
      ]
     },
     "execution_count": 66,
     "metadata": {},
     "output_type": "execute_result"
    }
   ],
   "source": [
    "from sklearn.metrics import mean_squared_error\n",
    "mean_squared_error(y_test,predictions)"
   ]
  },
  {
   "cell_type": "code",
   "execution_count": 67,
   "id": "ec4655b8",
   "metadata": {},
   "outputs": [
    {
     "data": {
      "text/plain": [
       "0.9890511751174635"
      ]
     },
     "execution_count": 67,
     "metadata": {},
     "output_type": "execute_result"
    }
   ],
   "source": [
    "from sklearn.metrics import r2_score\n",
    "r2_score(y_test,predictions)"
   ]
  },
  {
   "cell_type": "code",
   "execution_count": 68,
   "id": "24a87929",
   "metadata": {},
   "outputs": [
    {
     "data": {
      "text/plain": [
       "0.011931427920367589"
      ]
     },
     "execution_count": 68,
     "metadata": {},
     "output_type": "execute_result"
    }
   ],
   "source": [
    "from sklearn.metrics import mean_absolute_error\n",
    "mean_absolute_error(y_test,predictions)"
   ]
  },
  {
   "cell_type": "code",
   "execution_count": 69,
   "id": "9eab1ae4",
   "metadata": {},
   "outputs": [
    {
     "name": "stdout",
     "output_type": "stream",
     "text": [
      "Testing MAPE is 0.17%\n"
     ]
    }
   ],
   "source": [
    "mape_test = np.mean(np.abs((eval_df['prediction3'] - eval_df['actual']) / eval_df['actual'])) * 100\n",
    "print('Testing MAPE is {:.2f}%'.format(mape_test))"
   ]
  },
  {
   "cell_type": "markdown",
   "id": "1ecca152",
   "metadata": {},
   "source": [
    "# Linear regression model when k=5"
   ]
  },
  {
   "cell_type": "code",
   "execution_count": 70,
   "id": "730bc764",
   "metadata": {},
   "outputs": [],
   "source": [
    "K = 5\n",
    "HORIZON = 1"
   ]
  },
  {
   "cell_type": "code",
   "execution_count": 71,
   "id": "19d06b62",
   "metadata": {},
   "outputs": [],
   "source": [
    "train_er = er_price[:valid_start].copy()"
   ]
  },
  {
   "cell_type": "code",
   "execution_count": 72,
   "id": "372a3e41",
   "metadata": {},
   "outputs": [
    {
     "name": "stdout",
     "output_type": "stream",
     "text": [
      "               close\n",
      "date                \n",
      "2011-01-03  0.593959\n",
      "2011-01-04  0.581664\n",
      "2019-07-31  0.903445\n",
      "2019-08-01  0.903233\n"
     ]
    },
    {
     "data": {
      "image/png": "[encoded data removed]",
      "text/plain": [
       "<Figure size 432x288 with 1 Axes>"
      ]
     },
     "metadata": {
      "needs_background": "light"
     },
     "output_type": "display_data"
    }
   ],
   "source": [
    "from sklearn.preprocessing import MinMaxScaler\n",
    "scaler = MinMaxScaler()\n",
    "train_er['close'] = scaler.fit_transform(train_er)\n",
    "print(train_er.head(2).append(train_er.tail(2)))\n",
    "train_er.rename(columns={'close':'after scaling'}).plot.hist(bins=100, fontsize=12)\n",
    "plt.show()"
   ]
  },
  {
   "cell_type": "code",
   "execution_count": 73,
   "id": "c49cc097",
   "metadata": {},
   "outputs": [
    {
     "data": {
      "text/html": [
       "<div>\n",
       "<style scoped>\n",
       "    .dataframe tbody tr th:only-of-type {\n",
       "        vertical-align: middle;\n",
       "    }\n",
       "\n",
       "    .dataframe tbody tr th {\n",
       "        vertical-align: top;\n",
       "    }\n",
       "\n",
       "    .dataframe thead th {\n",
       "        text-align: right;\n",
       "    }\n",
       "</style>\n",
       "<table border=\"1\" class=\"dataframe\">\n",
       "  <thead>\n",
       "    <tr style=\"text-align: right;\">\n",
       "      <th></th>\n",
       "      <th>close</th>\n",
       "      <th>close_t+1</th>\n",
       "    </tr>\n",
       "    <tr>\n",
       "      <th>date</th>\n",
       "      <th></th>\n",
       "      <th></th>\n",
       "    </tr>\n",
       "  </thead>\n",
       "  <tbody>\n",
       "    <tr>\n",
       "      <th>2011-01-03</th>\n",
       "      <td>0.593959</td>\n",
       "      <td>0.581664</td>\n",
       "    </tr>\n",
       "    <tr>\n",
       "      <th>2011-01-04</th>\n",
       "      <td>0.581664</td>\n",
       "      <td>0.599682</td>\n",
       "    </tr>\n",
       "  </tbody>\n",
       "</table>\n",
       "</div>"
      ],
      "text/plain": [
       "               close  close_t+1\n",
       "date                           \n",
       "2011-01-03  0.593959   0.581664\n",
       "2011-01-04  0.581664   0.599682"
      ]
     },
     "execution_count": 73,
     "metadata": {},
     "output_type": "execute_result"
    }
   ],
   "source": [
    "train_shifted = train_er\n",
    "train_shifted['close_t+1'] = train_er['close'].shift(-1)\n",
    "train_shifted.head(2)"
   ]
  },
  {
   "cell_type": "code",
   "execution_count": 74,
   "id": "4fad3fd7",
   "metadata": {},
   "outputs": [
    {
     "data": {
      "text/html": [
       "<div>\n",
       "<style scoped>\n",
       "    .dataframe tbody tr th:only-of-type {\n",
       "        vertical-align: middle;\n",
       "    }\n",
       "\n",
       "    .dataframe tbody tr th {\n",
       "        vertical-align: top;\n",
       "    }\n",
       "\n",
       "    .dataframe thead th {\n",
       "        text-align: right;\n",
       "    }\n",
       "</style>\n",
       "<table border=\"1\" class=\"dataframe\">\n",
       "  <thead>\n",
       "    <tr style=\"text-align: right;\">\n",
       "      <th></th>\n",
       "      <th>close</th>\n",
       "      <th>close_t+1</th>\n",
       "      <th>close_t-0</th>\n",
       "      <th>close_t-1</th>\n",
       "      <th>close_t-2</th>\n",
       "      <th>close_t-3</th>\n",
       "      <th>close_t-4</th>\n",
       "    </tr>\n",
       "    <tr>\n",
       "      <th>date</th>\n",
       "      <th></th>\n",
       "      <th></th>\n",
       "      <th></th>\n",
       "      <th></th>\n",
       "      <th></th>\n",
       "      <th></th>\n",
       "      <th></th>\n",
       "    </tr>\n",
       "  </thead>\n",
       "  <tbody>\n",
       "    <tr>\n",
       "      <th>2011-01-03</th>\n",
       "      <td>0.593959</td>\n",
       "      <td>0.581664</td>\n",
       "      <td>0.593959</td>\n",
       "      <td>NaN</td>\n",
       "      <td>NaN</td>\n",
       "      <td>NaN</td>\n",
       "      <td>NaN</td>\n",
       "    </tr>\n",
       "    <tr>\n",
       "      <th>2011-01-04</th>\n",
       "      <td>0.581664</td>\n",
       "      <td>0.599682</td>\n",
       "      <td>0.581664</td>\n",
       "      <td>0.593959</td>\n",
       "      <td>NaN</td>\n",
       "      <td>NaN</td>\n",
       "      <td>NaN</td>\n",
       "    </tr>\n",
       "    <tr>\n",
       "      <th>2011-01-05</th>\n",
       "      <td>0.599682</td>\n",
       "      <td>0.579014</td>\n",
       "      <td>0.599682</td>\n",
       "      <td>0.581664</td>\n",
       "      <td>0.593959</td>\n",
       "      <td>NaN</td>\n",
       "      <td>NaN</td>\n",
       "    </tr>\n",
       "    <tr>\n",
       "      <th>2011-01-06</th>\n",
       "      <td>0.579014</td>\n",
       "      <td>0.620350</td>\n",
       "      <td>0.579014</td>\n",
       "      <td>0.599682</td>\n",
       "      <td>0.581664</td>\n",
       "      <td>0.593959</td>\n",
       "      <td>NaN</td>\n",
       "    </tr>\n",
       "    <tr>\n",
       "      <th>2011-01-07</th>\n",
       "      <td>0.620350</td>\n",
       "      <td>0.621410</td>\n",
       "      <td>0.620350</td>\n",
       "      <td>0.579014</td>\n",
       "      <td>0.599682</td>\n",
       "      <td>0.581664</td>\n",
       "      <td>0.593959</td>\n",
       "    </tr>\n",
       "  </tbody>\n",
       "</table>\n",
       "</div>"
      ],
      "text/plain": [
       "               close  close_t+1  close_t-0  close_t-1  close_t-2  close_t-3  \\\n",
       "date                                                                          \n",
       "2011-01-03  0.593959   0.581664   0.593959        NaN        NaN        NaN   \n",
       "2011-01-04  0.581664   0.599682   0.581664   0.593959        NaN        NaN   \n",
       "2011-01-05  0.599682   0.579014   0.599682   0.581664   0.593959        NaN   \n",
       "2011-01-06  0.579014   0.620350   0.579014   0.599682   0.581664   0.593959   \n",
       "2011-01-07  0.620350   0.621410   0.620350   0.579014   0.599682   0.581664   \n",
       "\n",
       "            close_t-4  \n",
       "date                   \n",
       "2011-01-03        NaN  \n",
       "2011-01-04        NaN  \n",
       "2011-01-05        NaN  \n",
       "2011-01-06        NaN  \n",
       "2011-01-07   0.593959  "
      ]
     },
     "execution_count": 74,
     "metadata": {},
     "output_type": "execute_result"
    }
   ],
   "source": [
    "for t in range(K):\n",
    "    train_shifted['close_t-{}'.format(t)] = train_shifted['close'].shift(t)\n",
    "train_shifted.head()"
   ]
  },
  {
   "cell_type": "code",
   "execution_count": 75,
   "id": "a8e0c26b",
   "metadata": {},
   "outputs": [
    {
     "data": {
      "text/html": [
       "<div>\n",
       "<style scoped>\n",
       "    .dataframe tbody tr th:only-of-type {\n",
       "        vertical-align: middle;\n",
       "    }\n",
       "\n",
       "    .dataframe tbody tr th {\n",
       "        vertical-align: top;\n",
       "    }\n",
       "\n",
       "    .dataframe thead th {\n",
       "        text-align: right;\n",
       "    }\n",
       "</style>\n",
       "<table border=\"1\" class=\"dataframe\">\n",
       "  <thead>\n",
       "    <tr style=\"text-align: right;\">\n",
       "      <th></th>\n",
       "      <th>close</th>\n",
       "      <th>close_t+1</th>\n",
       "      <th>close_t-0</th>\n",
       "      <th>close_t-1</th>\n",
       "      <th>close_t-2</th>\n",
       "      <th>close_t-3</th>\n",
       "      <th>close_t-4</th>\n",
       "    </tr>\n",
       "    <tr>\n",
       "      <th>date</th>\n",
       "      <th></th>\n",
       "      <th></th>\n",
       "      <th></th>\n",
       "      <th></th>\n",
       "      <th></th>\n",
       "      <th></th>\n",
       "      <th></th>\n",
       "    </tr>\n",
       "  </thead>\n",
       "  <tbody>\n",
       "    <tr>\n",
       "      <th>2011-01-07</th>\n",
       "      <td>0.620350</td>\n",
       "      <td>0.621410</td>\n",
       "      <td>0.620350</td>\n",
       "      <td>0.579014</td>\n",
       "      <td>0.599682</td>\n",
       "      <td>0.581664</td>\n",
       "      <td>0.593959</td>\n",
       "    </tr>\n",
       "    <tr>\n",
       "      <th>2011-01-10</th>\n",
       "      <td>0.621410</td>\n",
       "      <td>0.630419</td>\n",
       "      <td>0.621410</td>\n",
       "      <td>0.620350</td>\n",
       "      <td>0.579014</td>\n",
       "      <td>0.599682</td>\n",
       "      <td>0.581664</td>\n",
       "    </tr>\n",
       "    <tr>\n",
       "      <th>2011-01-11</th>\n",
       "      <td>0.630419</td>\n",
       "      <td>0.613461</td>\n",
       "      <td>0.630419</td>\n",
       "      <td>0.621410</td>\n",
       "      <td>0.620350</td>\n",
       "      <td>0.579014</td>\n",
       "      <td>0.599682</td>\n",
       "    </tr>\n",
       "    <tr>\n",
       "      <th>2011-01-12</th>\n",
       "      <td>0.613461</td>\n",
       "      <td>0.596714</td>\n",
       "      <td>0.613461</td>\n",
       "      <td>0.630419</td>\n",
       "      <td>0.621410</td>\n",
       "      <td>0.620350</td>\n",
       "      <td>0.579014</td>\n",
       "    </tr>\n",
       "    <tr>\n",
       "      <th>2011-01-13</th>\n",
       "      <td>0.596714</td>\n",
       "      <td>0.598304</td>\n",
       "      <td>0.596714</td>\n",
       "      <td>0.613461</td>\n",
       "      <td>0.630419</td>\n",
       "      <td>0.621410</td>\n",
       "      <td>0.620350</td>\n",
       "    </tr>\n",
       "  </tbody>\n",
       "</table>\n",
       "</div>"
      ],
      "text/plain": [
       "               close  close_t+1  close_t-0  close_t-1  close_t-2  close_t-3  \\\n",
       "date                                                                          \n",
       "2011-01-07  0.620350   0.621410   0.620350   0.579014   0.599682   0.581664   \n",
       "2011-01-10  0.621410   0.630419   0.621410   0.620350   0.579014   0.599682   \n",
       "2011-01-11  0.630419   0.613461   0.630419   0.621410   0.620350   0.579014   \n",
       "2011-01-12  0.613461   0.596714   0.613461   0.630419   0.621410   0.620350   \n",
       "2011-01-13  0.596714   0.598304   0.596714   0.613461   0.630419   0.621410   \n",
       "\n",
       "            close_t-4  \n",
       "date                   \n",
       "2011-01-07   0.593959  \n",
       "2011-01-10   0.581664  \n",
       "2011-01-11   0.599682  \n",
       "2011-01-12   0.579014  \n",
       "2011-01-13   0.620350  "
      ]
     },
     "execution_count": 75,
     "metadata": {},
     "output_type": "execute_result"
    }
   ],
   "source": [
    "train_shifted = train_shifted.dropna(how='any')\n",
    "train_shifted.head()"
   ]
  },
  {
   "cell_type": "code",
   "execution_count": 76,
   "id": "afc09411",
   "metadata": {},
   "outputs": [],
   "source": [
    "y_data = ['close_t+1']\n",
    "X_data = ['close_t-{}'.format(idx) for idx in range(0, K)]"
   ]
  },
  {
   "cell_type": "code",
   "execution_count": 77,
   "id": "a6d921ab",
   "metadata": {},
   "outputs": [
    {
     "name": "stdout",
     "output_type": "stream",
     "text": [
      "(2229, 1)\n",
      "(2229, 5)\n"
     ]
    }
   ],
   "source": [
    "y_train = train_shifted[y_data].values\n",
    "print(y_train.shape)\n",
    "X_train = train_shifted[X_data].values\n",
    "print(X_train.shape)"
   ]
  },
  {
   "cell_type": "code",
   "execution_count": 78,
   "id": "7b62bf3f",
   "metadata": {},
   "outputs": [],
   "source": [
    "from sklearn.linear_model import LinearRegression "
   ]
  },
  {
   "cell_type": "code",
   "execution_count": 79,
   "id": "b6220113",
   "metadata": {},
   "outputs": [
    {
     "data": {
      "text/plain": [
       "LinearRegression()"
      ]
     },
     "execution_count": 79,
     "metadata": {},
     "output_type": "execute_result"
    }
   ],
   "source": [
    "model = LinearRegression()\n",
    "model.fit(X_train, y_train)"
   ]
  },
  {
   "cell_type": "code",
   "execution_count": 80,
   "id": "e308c877",
   "metadata": {},
   "outputs": [],
   "source": [
    "index_pre = er_price.index.get_loc(valid_start) - K\n",
    "true_valid_start = er_price.index[index_pre]"
   ]
  },
  {
   "cell_type": "code",
   "execution_count": 81,
   "id": "3db9eec8",
   "metadata": {},
   "outputs": [
    {
     "data": {
      "text/html": [
       "<div>\n",
       "<style scoped>\n",
       "    .dataframe tbody tr th:only-of-type {\n",
       "        vertical-align: middle;\n",
       "    }\n",
       "\n",
       "    .dataframe tbody tr th {\n",
       "        vertical-align: top;\n",
       "    }\n",
       "\n",
       "    .dataframe thead th {\n",
       "        text-align: right;\n",
       "    }\n",
       "</style>\n",
       "<table border=\"1\" class=\"dataframe\">\n",
       "  <thead>\n",
       "    <tr style=\"text-align: right;\">\n",
       "      <th></th>\n",
       "      <th>close</th>\n",
       "    </tr>\n",
       "    <tr>\n",
       "      <th>date</th>\n",
       "      <th></th>\n",
       "    </tr>\n",
       "  </thead>\n",
       "  <tbody>\n",
       "    <tr>\n",
       "      <th>2011-01-03</th>\n",
       "      <td>6.5916</td>\n",
       "    </tr>\n",
       "    <tr>\n",
       "      <th>2011-01-04</th>\n",
       "      <td>6.5800</td>\n",
       "    </tr>\n",
       "    <tr>\n",
       "      <th>2011-01-05</th>\n",
       "      <td>6.5970</td>\n",
       "    </tr>\n",
       "    <tr>\n",
       "      <th>2011-01-06</th>\n",
       "      <td>6.5775</td>\n",
       "    </tr>\n",
       "    <tr>\n",
       "      <th>2011-01-07</th>\n",
       "      <td>6.6165</td>\n",
       "    </tr>\n",
       "    <tr>\n",
       "      <th>...</th>\n",
       "      <td>...</td>\n",
       "    </tr>\n",
       "    <tr>\n",
       "      <th>2021-08-24</th>\n",
       "      <td>6.4800</td>\n",
       "    </tr>\n",
       "    <tr>\n",
       "      <th>2021-08-25</th>\n",
       "      <td>6.4699</td>\n",
       "    </tr>\n",
       "    <tr>\n",
       "      <th>2021-08-26</th>\n",
       "      <td>6.4749</td>\n",
       "    </tr>\n",
       "    <tr>\n",
       "      <th>2021-08-27</th>\n",
       "      <td>6.4805</td>\n",
       "    </tr>\n",
       "    <tr>\n",
       "      <th>2021-08-30</th>\n",
       "      <td>6.4658</td>\n",
       "    </tr>\n",
       "  </tbody>\n",
       "</table>\n",
       "<p>2755 rows × 1 columns</p>\n",
       "</div>"
      ],
      "text/plain": [
       "             close\n",
       "date              \n",
       "2011-01-03  6.5916\n",
       "2011-01-04  6.5800\n",
       "2011-01-05  6.5970\n",
       "2011-01-06  6.5775\n",
       "2011-01-07  6.6165\n",
       "...            ...\n",
       "2021-08-24  6.4800\n",
       "2021-08-25  6.4699\n",
       "2021-08-26  6.4749\n",
       "2021-08-27  6.4805\n",
       "2021-08-30  6.4658\n",
       "\n",
       "[2755 rows x 1 columns]"
      ]
     },
     "execution_count": 81,
     "metadata": {},
     "output_type": "execute_result"
    }
   ],
   "source": [
    "er_price"
   ]
  },
  {
   "cell_type": "code",
   "execution_count": 82,
   "id": "38b2e8f7",
   "metadata": {},
   "outputs": [],
   "source": [
    "val_df = er_price[true_valid_start:test_start].copy()"
   ]
  },
  {
   "cell_type": "code",
   "execution_count": 83,
   "id": "a8e8d7f2",
   "metadata": {},
   "outputs": [
    {
     "data": {
      "text/html": [
       "<div>\n",
       "<style scoped>\n",
       "    .dataframe tbody tr th:only-of-type {\n",
       "        vertical-align: middle;\n",
       "    }\n",
       "\n",
       "    .dataframe tbody tr th {\n",
       "        vertical-align: top;\n",
       "    }\n",
       "\n",
       "    .dataframe thead th {\n",
       "        text-align: right;\n",
       "    }\n",
       "</style>\n",
       "<table border=\"1\" class=\"dataframe\">\n",
       "  <thead>\n",
       "    <tr style=\"text-align: right;\">\n",
       "      <th></th>\n",
       "      <th>close</th>\n",
       "    </tr>\n",
       "    <tr>\n",
       "      <th>date</th>\n",
       "      <th></th>\n",
       "    </tr>\n",
       "  </thead>\n",
       "  <tbody>\n",
       "    <tr>\n",
       "      <th>2019-07-25</th>\n",
       "      <td>6.8715</td>\n",
       "    </tr>\n",
       "    <tr>\n",
       "      <th>2019-07-26</th>\n",
       "      <td>6.8716</td>\n",
       "    </tr>\n",
       "    <tr>\n",
       "      <th>2019-07-29</th>\n",
       "      <td>6.8782</td>\n",
       "    </tr>\n",
       "    <tr>\n",
       "      <th>2019-07-30</th>\n",
       "      <td>6.8924</td>\n",
       "    </tr>\n",
       "    <tr>\n",
       "      <th>2019-07-31</th>\n",
       "      <td>6.8836</td>\n",
       "    </tr>\n",
       "  </tbody>\n",
       "</table>\n",
       "</div>"
      ],
      "text/plain": [
       "             close\n",
       "date              \n",
       "2019-07-25  6.8715\n",
       "2019-07-26  6.8716\n",
       "2019-07-29  6.8782\n",
       "2019-07-30  6.8924\n",
       "2019-07-31  6.8836"
      ]
     },
     "execution_count": 83,
     "metadata": {},
     "output_type": "execute_result"
    }
   ],
   "source": [
    "val_df.head()"
   ]
  },
  {
   "cell_type": "code",
   "execution_count": 84,
   "id": "b9151f60",
   "metadata": {},
   "outputs": [
    {
     "name": "stdout",
     "output_type": "stream",
     "text": [
      "               close\n",
      "date                \n",
      "2019-07-25  0.890620\n",
      "2019-07-26  0.890726\n",
      "2020-07-31  1.034552\n",
      "2020-08-03  0.999470\n"
     ]
    }
   ],
   "source": [
    "val_df['close'] = scaler.transform(val_df)\n",
    "print(val_df.head(2).append(val_df.tail(2)))"
   ]
  },
  {
   "cell_type": "code",
   "execution_count": 85,
   "id": "3ceb2f80",
   "metadata": {},
   "outputs": [],
   "source": [
    "valid_shifted = val_df.copy()\n",
    "valid_shifted['close_t+1'] = val_df['close'].shift(-1)\n",
    "for t in range(K):\n",
    "     valid_shifted['close_t-{}'.format(t)] = valid_shifted['close'].shift(t)\n",
    "valid_shifted = valid_shifted.dropna(how='any')\n",
    "y_valid = valid_shifted[y_data].values\n",
    "X_valid = valid_shifted[X_data].values"
   ]
  },
  {
   "cell_type": "code",
   "execution_count": 86,
   "id": "7d40bbf1",
   "metadata": {},
   "outputs": [
    {
     "data": {
      "text/html": [
       "<div>\n",
       "<style scoped>\n",
       "    .dataframe tbody tr th:only-of-type {\n",
       "        vertical-align: middle;\n",
       "    }\n",
       "\n",
       "    .dataframe tbody tr th {\n",
       "        vertical-align: top;\n",
       "    }\n",
       "\n",
       "    .dataframe thead th {\n",
       "        text-align: right;\n",
       "    }\n",
       "</style>\n",
       "<table border=\"1\" class=\"dataframe\">\n",
       "  <thead>\n",
       "    <tr style=\"text-align: right;\">\n",
       "      <th></th>\n",
       "      <th>timestamp</th>\n",
       "      <th>h</th>\n",
       "      <th>prediction5</th>\n",
       "      <th>actual</th>\n",
       "    </tr>\n",
       "  </thead>\n",
       "  <tbody>\n",
       "    <tr>\n",
       "      <th>0</th>\n",
       "      <td>2019-07-31</td>\n",
       "      <td>t+1</td>\n",
       "      <td>6.884255</td>\n",
       "      <td>6.8834</td>\n",
       "    </tr>\n",
       "    <tr>\n",
       "      <th>1</th>\n",
       "      <td>2019-08-01</td>\n",
       "      <td>t+1</td>\n",
       "      <td>6.884400</td>\n",
       "      <td>6.8978</td>\n",
       "    </tr>\n",
       "    <tr>\n",
       "      <th>2</th>\n",
       "      <td>2019-08-02</td>\n",
       "      <td>t+1</td>\n",
       "      <td>6.895611</td>\n",
       "      <td>6.9392</td>\n",
       "    </tr>\n",
       "    <tr>\n",
       "      <th>3</th>\n",
       "      <td>2019-08-05</td>\n",
       "      <td>t+1</td>\n",
       "      <td>6.932346</td>\n",
       "      <td>7.0497</td>\n",
       "    </tr>\n",
       "    <tr>\n",
       "      <th>4</th>\n",
       "      <td>2019-08-06</td>\n",
       "      <td>t+1</td>\n",
       "      <td>7.032678</td>\n",
       "      <td>7.0256</td>\n",
       "    </tr>\n",
       "  </tbody>\n",
       "</table>\n",
       "</div>"
      ],
      "text/plain": [
       "   timestamp    h  prediction5  actual\n",
       "0 2019-07-31  t+1     6.884255  6.8834\n",
       "1 2019-08-01  t+1     6.884400  6.8978\n",
       "2 2019-08-02  t+1     6.895611  6.9392\n",
       "3 2019-08-05  t+1     6.932346  7.0497\n",
       "4 2019-08-06  t+1     7.032678  7.0256"
      ]
     },
     "execution_count": 86,
     "metadata": {},
     "output_type": "execute_result"
    }
   ],
   "source": [
    "predictions = model.predict(X_valid)\n",
    "eval_df = pd.DataFrame(predictions, columns=['t+'+str(t) for t in range(1, HORIZON+1)])\n",
    "eval_df['timestamp'] = valid_shifted.index\n",
    "eval_df = pd.melt(eval_df, id_vars='timestamp', value_name='prediction5', var_name='h')\n",
    "eval_df['actual'] = np.transpose(y_valid).ravel()\n",
    "eval_df[['prediction5', 'actual']] = scaler.inverse_transform(eval_df[['prediction5', 'actual']])\n",
    "eval_df.head()"
   ]
  },
  {
   "cell_type": "code",
   "execution_count": 87,
   "id": "1ea4a39a",
   "metadata": {},
   "outputs": [
    {
     "data": {
      "image/png": "[encoded data removed]",
      "text/plain": [
       "<Figure size 1080x576 with 1 Axes>"
      ]
     },
     "metadata": {
      "needs_background": "light"
     },
     "output_type": "display_data"
    }
   ],
   "source": [
    "eval_df.plot(x='timestamp', y=['prediction5', 'actual'], style=['r', 'b'], figsize=(15, 8))\n",
    "plt.xlabel('timestamp', fontsize=12)\n",
    "plt.ylabel('load', fontsize=12)\n",
    "plt.show()"
   ]
  },
  {
   "cell_type": "code",
   "execution_count": 88,
   "id": "8a396334",
   "metadata": {},
   "outputs": [
    {
     "data": {
      "text/plain": [
       "0.9009672098497299"
      ]
     },
     "execution_count": 88,
     "metadata": {},
     "output_type": "execute_result"
    }
   ],
   "source": [
    "from sklearn.metrics import r2_score\n",
    "r2_score(y_valid,predictions)"
   ]
  },
  {
   "cell_type": "code",
   "execution_count": 89,
   "id": "c96155b0",
   "metadata": {},
   "outputs": [
    {
     "data": {
      "text/plain": [
       "0.00044057016740409654"
      ]
     },
     "execution_count": 89,
     "metadata": {},
     "output_type": "execute_result"
    }
   ],
   "source": [
    "from sklearn.metrics import mean_squared_error\n",
    "mean_squared_error(y_valid,predictions)"
   ]
  },
  {
   "cell_type": "code",
   "execution_count": 90,
   "id": "7d2a6198",
   "metadata": {},
   "outputs": [],
   "source": [
    "index_pre = er_price.index.get_loc(test_start) - K"
   ]
  },
  {
   "cell_type": "code",
   "execution_count": 91,
   "id": "78567b93",
   "metadata": {},
   "outputs": [
    {
     "name": "stdout",
     "output_type": "stream",
     "text": [
      "               close\n",
      "date                \n",
      "2020-07-27  1.043879\n",
      "2020-07-28  1.019608\n",
      "2021-08-27  0.476206\n",
      "2021-08-30  0.460625\n"
     ]
    }
   ],
   "source": [
    "true_valid_start = er_price.index[index_pre]\n",
    "test_df = er_price[true_valid_start:].copy()\n",
    "test_df['close'] = scaler.transform(test_df)\n",
    "print(test_df.head(2).append(test_df.tail(2)))"
   ]
  },
  {
   "cell_type": "code",
   "execution_count": 92,
   "id": "70de015e",
   "metadata": {},
   "outputs": [],
   "source": [
    "test_shifted = test_df.copy()\n",
    "test_shifted['close_t+1'] = test_shifted['close'].shift(-1)\n",
    "for t in range(0, K):\n",
    "     test_shifted['close_t-{}'.format(t)] = test_shifted['close'].shift(t)\n",
    "test_shifted = test_shifted.dropna(how='any')\n",
    "y_test = test_shifted[y_data].values\n",
    "X_test = test_shifted[X_data].values"
   ]
  },
  {
   "cell_type": "code",
   "execution_count": 93,
   "id": "8b2022e3",
   "metadata": {},
   "outputs": [],
   "source": [
    "predictions = model.predict(X_test)"
   ]
  },
  {
   "cell_type": "code",
   "execution_count": 94,
   "id": "17a0b504",
   "metadata": {},
   "outputs": [
    {
     "data": {
      "text/html": [
       "<div>\n",
       "<style scoped>\n",
       "    .dataframe tbody tr th:only-of-type {\n",
       "        vertical-align: middle;\n",
       "    }\n",
       "\n",
       "    .dataframe tbody tr th {\n",
       "        vertical-align: top;\n",
       "    }\n",
       "\n",
       "    .dataframe thead th {\n",
       "        text-align: right;\n",
       "    }\n",
       "</style>\n",
       "<table border=\"1\" class=\"dataframe\">\n",
       "  <thead>\n",
       "    <tr style=\"text-align: right;\">\n",
       "      <th></th>\n",
       "      <th>date</th>\n",
       "      <th>h</th>\n",
       "      <th>prediction5</th>\n",
       "      <th>actual</th>\n",
       "    </tr>\n",
       "  </thead>\n",
       "  <tbody>\n",
       "    <tr>\n",
       "      <th>0</th>\n",
       "      <td>2020-07-31</td>\n",
       "      <td>t+1</td>\n",
       "      <td>7.005770</td>\n",
       "      <td>6.9742</td>\n",
       "    </tr>\n",
       "    <tr>\n",
       "      <th>1</th>\n",
       "      <td>2020-08-03</td>\n",
       "      <td>t+1</td>\n",
       "      <td>6.978420</td>\n",
       "      <td>6.9794</td>\n",
       "    </tr>\n",
       "    <tr>\n",
       "      <th>2</th>\n",
       "      <td>2020-08-04</td>\n",
       "      <td>t+1</td>\n",
       "      <td>6.980297</td>\n",
       "      <td>6.9727</td>\n",
       "    </tr>\n",
       "    <tr>\n",
       "      <th>3</th>\n",
       "      <td>2020-08-05</td>\n",
       "      <td>t+1</td>\n",
       "      <td>6.971995</td>\n",
       "      <td>6.9346</td>\n",
       "    </tr>\n",
       "    <tr>\n",
       "      <th>4</th>\n",
       "      <td>2020-08-06</td>\n",
       "      <td>t+1</td>\n",
       "      <td>6.939443</td>\n",
       "      <td>6.9524</td>\n",
       "    </tr>\n",
       "  </tbody>\n",
       "</table>\n",
       "</div>"
      ],
      "text/plain": [
       "        date    h  prediction5  actual\n",
       "0 2020-07-31  t+1     7.005770  6.9742\n",
       "1 2020-08-03  t+1     6.978420  6.9794\n",
       "2 2020-08-04  t+1     6.980297  6.9727\n",
       "3 2020-08-05  t+1     6.971995  6.9346\n",
       "4 2020-08-06  t+1     6.939443  6.9524"
      ]
     },
     "execution_count": 94,
     "metadata": {},
     "output_type": "execute_result"
    }
   ],
   "source": [
    "eval_df = pd.DataFrame(predictions, columns=['t+'+str(t) for t in range(1, HORIZON+1)])\n",
    "eval_df['date'] = test_shifted.index\n",
    "eval_df = pd.melt(eval_df, id_vars='date', value_name='prediction5', var_name='h')\n",
    "eval_df['actual'] = np.transpose(y_test).ravel()\n",
    "eval_df[['prediction5', 'actual']] = scaler.inverse_transform(eval_df[['prediction5', 'actual']])\n",
    "eval_df.head()"
   ]
  },
  {
   "cell_type": "code",
   "execution_count": 95,
   "id": "06366f73",
   "metadata": {},
   "outputs": [
    {
     "data": {
      "image/png": "[encoded data removed]",
      "text/plain": [
       "<Figure size 1080x576 with 1 Axes>"
      ]
     },
     "metadata": {
      "needs_background": "light"
     },
     "output_type": "display_data"
    }
   ],
   "source": [
    "eval_df.plot(x='date', y=['prediction5', 'actual'], style=['r', 'b'], figsize=(15, 8))\n",
    "plt.xlabel('date', fontsize=12)\n",
    "plt.ylabel('load', fontsize=12)\n",
    "plt.show()"
   ]
  },
  {
   "cell_type": "code",
   "execution_count": 96,
   "id": "5dcf68bc",
   "metadata": {},
   "outputs": [
    {
     "data": {
      "text/plain": [
       "0.0002961509076784938"
      ]
     },
     "execution_count": 96,
     "metadata": {},
     "output_type": "execute_result"
    }
   ],
   "source": [
    "from sklearn.metrics import mean_squared_error\n",
    "mean_squared_error(y_test,predictions)"
   ]
  },
  {
   "cell_type": "code",
   "execution_count": 97,
   "id": "72a4705f",
   "metadata": {},
   "outputs": [
    {
     "data": {
      "text/plain": [
       "0.9890400426960401"
      ]
     },
     "execution_count": 97,
     "metadata": {},
     "output_type": "execute_result"
    }
   ],
   "source": [
    "from sklearn.metrics import r2_score\n",
    "r2_score(y_test,predictions)"
   ]
  },
  {
   "cell_type": "code",
   "execution_count": 98,
   "id": "5b61a95b",
   "metadata": {},
   "outputs": [
    {
     "data": {
      "text/plain": [
       "0.012025339731606766"
      ]
     },
     "execution_count": 98,
     "metadata": {},
     "output_type": "execute_result"
    }
   ],
   "source": [
    "from sklearn.metrics import mean_absolute_error\n",
    "mean_absolute_error(y_test,predictions)"
   ]
  },
  {
   "cell_type": "code",
   "execution_count": 99,
   "id": "673e551a",
   "metadata": {},
   "outputs": [
    {
     "name": "stdout",
     "output_type": "stream",
     "text": [
      "Testing MAPE is 0.17%\n"
     ]
    }
   ],
   "source": [
    "mape_test = np.mean(np.abs((eval_df['prediction5'] - eval_df['actual']) / eval_df['actual'])) * 100\n",
    "print('Testing MAPE is {:.2f}%'.format(mape_test))"
   ]
  },
  {
   "cell_type": "markdown",
   "id": "90c8e922",
   "metadata": {},
   "source": [
    "# Linear regression model when k=7"
   ]
  },
  {
   "cell_type": "code",
   "execution_count": 100,
   "id": "bc538fab",
   "metadata": {},
   "outputs": [],
   "source": [
    "K = 7\n",
    "HORIZON = 1"
   ]
  },
  {
   "cell_type": "code",
   "execution_count": 101,
   "id": "98430c0e",
   "metadata": {},
   "outputs": [],
   "source": [
    "train_er = er_price[:valid_start].copy()"
   ]
  },
  {
   "cell_type": "code",
   "execution_count": 102,
   "id": "1eb21840",
   "metadata": {},
   "outputs": [
    {
     "name": "stdout",
     "output_type": "stream",
     "text": [
      "               close\n",
      "date                \n",
      "2011-01-03  0.593959\n",
      "2011-01-04  0.581664\n",
      "2019-07-31  0.903445\n",
      "2019-08-01  0.903233\n"
     ]
    },
    {
     "data": {
      "image/png": "[encoded data removed]",
      "text/plain": [
       "<Figure size 432x288 with 1 Axes>"
      ]
     },
     "metadata": {
      "needs_background": "light"
     },
     "output_type": "display_data"
    }
   ],
   "source": [
    "from sklearn.preprocessing import MinMaxScaler\n",
    "scaler = MinMaxScaler()\n",
    "train_er['close'] = scaler.fit_transform(train_er)\n",
    "print(train_er.head(2).append(train_er.tail(2)))\n",
    "train_er.rename(columns={'close':'after scaling'}).plot.hist(bins=100, fontsize=12)\n",
    "plt.show()"
   ]
  },
  {
   "cell_type": "code",
   "execution_count": 103,
   "id": "d2e0e274",
   "metadata": {},
   "outputs": [
    {
     "data": {
      "text/html": [
       "<div>\n",
       "<style scoped>\n",
       "    .dataframe tbody tr th:only-of-type {\n",
       "        vertical-align: middle;\n",
       "    }\n",
       "\n",
       "    .dataframe tbody tr th {\n",
       "        vertical-align: top;\n",
       "    }\n",
       "\n",
       "    .dataframe thead th {\n",
       "        text-align: right;\n",
       "    }\n",
       "</style>\n",
       "<table border=\"1\" class=\"dataframe\">\n",
       "  <thead>\n",
       "    <tr style=\"text-align: right;\">\n",
       "      <th></th>\n",
       "      <th>close</th>\n",
       "      <th>close_t+1</th>\n",
       "    </tr>\n",
       "    <tr>\n",
       "      <th>date</th>\n",
       "      <th></th>\n",
       "      <th></th>\n",
       "    </tr>\n",
       "  </thead>\n",
       "  <tbody>\n",
       "    <tr>\n",
       "      <th>2011-01-03</th>\n",
       "      <td>0.593959</td>\n",
       "      <td>0.581664</td>\n",
       "    </tr>\n",
       "    <tr>\n",
       "      <th>2011-01-04</th>\n",
       "      <td>0.581664</td>\n",
       "      <td>0.599682</td>\n",
       "    </tr>\n",
       "  </tbody>\n",
       "</table>\n",
       "</div>"
      ],
      "text/plain": [
       "               close  close_t+1\n",
       "date                           \n",
       "2011-01-03  0.593959   0.581664\n",
       "2011-01-04  0.581664   0.599682"
      ]
     },
     "execution_count": 103,
     "metadata": {},
     "output_type": "execute_result"
    }
   ],
   "source": [
    "train_shifted = train_er\n",
    "train_shifted['close_t+1'] = train_er['close'].shift(-1)\n",
    "train_shifted.head(2)"
   ]
  },
  {
   "cell_type": "code",
   "execution_count": 104,
   "id": "43244f51",
   "metadata": {},
   "outputs": [
    {
     "data": {
      "text/html": [
       "<div>\n",
       "<style scoped>\n",
       "    .dataframe tbody tr th:only-of-type {\n",
       "        vertical-align: middle;\n",
       "    }\n",
       "\n",
       "    .dataframe tbody tr th {\n",
       "        vertical-align: top;\n",
       "    }\n",
       "\n",
       "    .dataframe thead th {\n",
       "        text-align: right;\n",
       "    }\n",
       "</style>\n",
       "<table border=\"1\" class=\"dataframe\">\n",
       "  <thead>\n",
       "    <tr style=\"text-align: right;\">\n",
       "      <th></th>\n",
       "      <th>close</th>\n",
       "      <th>close_t+1</th>\n",
       "      <th>close_t-0</th>\n",
       "      <th>close_t-1</th>\n",
       "      <th>close_t-2</th>\n",
       "      <th>close_t-3</th>\n",
       "      <th>close_t-4</th>\n",
       "      <th>close_t-5</th>\n",
       "      <th>close_t-6</th>\n",
       "    </tr>\n",
       "    <tr>\n",
       "      <th>date</th>\n",
       "      <th></th>\n",
       "      <th></th>\n",
       "      <th></th>\n",
       "      <th></th>\n",
       "      <th></th>\n",
       "      <th></th>\n",
       "      <th></th>\n",
       "      <th></th>\n",
       "      <th></th>\n",
       "    </tr>\n",
       "  </thead>\n",
       "  <tbody>\n",
       "    <tr>\n",
       "      <th>2011-01-03</th>\n",
       "      <td>0.593959</td>\n",
       "      <td>0.581664</td>\n",
       "      <td>0.593959</td>\n",
       "      <td>NaN</td>\n",
       "      <td>NaN</td>\n",
       "      <td>NaN</td>\n",
       "      <td>NaN</td>\n",
       "      <td>NaN</td>\n",
       "      <td>NaN</td>\n",
       "    </tr>\n",
       "    <tr>\n",
       "      <th>2011-01-04</th>\n",
       "      <td>0.581664</td>\n",
       "      <td>0.599682</td>\n",
       "      <td>0.581664</td>\n",
       "      <td>0.593959</td>\n",
       "      <td>NaN</td>\n",
       "      <td>NaN</td>\n",
       "      <td>NaN</td>\n",
       "      <td>NaN</td>\n",
       "      <td>NaN</td>\n",
       "    </tr>\n",
       "    <tr>\n",
       "      <th>2011-01-05</th>\n",
       "      <td>0.599682</td>\n",
       "      <td>0.579014</td>\n",
       "      <td>0.599682</td>\n",
       "      <td>0.581664</td>\n",
       "      <td>0.593959</td>\n",
       "      <td>NaN</td>\n",
       "      <td>NaN</td>\n",
       "      <td>NaN</td>\n",
       "      <td>NaN</td>\n",
       "    </tr>\n",
       "    <tr>\n",
       "      <th>2011-01-06</th>\n",
       "      <td>0.579014</td>\n",
       "      <td>0.620350</td>\n",
       "      <td>0.579014</td>\n",
       "      <td>0.599682</td>\n",
       "      <td>0.581664</td>\n",
       "      <td>0.593959</td>\n",
       "      <td>NaN</td>\n",
       "      <td>NaN</td>\n",
       "      <td>NaN</td>\n",
       "    </tr>\n",
       "    <tr>\n",
       "      <th>2011-01-07</th>\n",
       "      <td>0.620350</td>\n",
       "      <td>0.621410</td>\n",
       "      <td>0.620350</td>\n",
       "      <td>0.579014</td>\n",
       "      <td>0.599682</td>\n",
       "      <td>0.581664</td>\n",
       "      <td>0.593959</td>\n",
       "      <td>NaN</td>\n",
       "      <td>NaN</td>\n",
       "    </tr>\n",
       "  </tbody>\n",
       "</table>\n",
       "</div>"
      ],
      "text/plain": [
       "               close  close_t+1  close_t-0  close_t-1  close_t-2  close_t-3  \\\n",
       "date                                                                          \n",
       "2011-01-03  0.593959   0.581664   0.593959        NaN        NaN        NaN   \n",
       "2011-01-04  0.581664   0.599682   0.581664   0.593959        NaN        NaN   \n",
       "2011-01-05  0.599682   0.579014   0.599682   0.581664   0.593959        NaN   \n",
       "2011-01-06  0.579014   0.620350   0.579014   0.599682   0.581664   0.593959   \n",
       "2011-01-07  0.620350   0.621410   0.620350   0.579014   0.599682   0.581664   \n",
       "\n",
       "            close_t-4  close_t-5  close_t-6  \n",
       "date                                         \n",
       "2011-01-03        NaN        NaN        NaN  \n",
       "2011-01-04        NaN        NaN        NaN  \n",
       "2011-01-05        NaN        NaN        NaN  \n",
       "2011-01-06        NaN        NaN        NaN  \n",
       "2011-01-07   0.593959        NaN        NaN  "
      ]
     },
     "execution_count": 104,
     "metadata": {},
     "output_type": "execute_result"
    }
   ],
   "source": [
    "for t in range(K):\n",
    "    train_shifted['close_t-{}'.format(t)] = train_shifted['close'].shift(t)\n",
    "train_shifted.head()"
   ]
  },
  {
   "cell_type": "code",
   "execution_count": 105,
   "id": "6ee9e611",
   "metadata": {},
   "outputs": [
    {
     "data": {
      "text/html": [
       "<div>\n",
       "<style scoped>\n",
       "    .dataframe tbody tr th:only-of-type {\n",
       "        vertical-align: middle;\n",
       "    }\n",
       "\n",
       "    .dataframe tbody tr th {\n",
       "        vertical-align: top;\n",
       "    }\n",
       "\n",
       "    .dataframe thead th {\n",
       "        text-align: right;\n",
       "    }\n",
       "</style>\n",
       "<table border=\"1\" class=\"dataframe\">\n",
       "  <thead>\n",
       "    <tr style=\"text-align: right;\">\n",
       "      <th></th>\n",
       "      <th>close</th>\n",
       "      <th>close_t+1</th>\n",
       "      <th>close_t-0</th>\n",
       "      <th>close_t-1</th>\n",
       "      <th>close_t-2</th>\n",
       "      <th>close_t-3</th>\n",
       "      <th>close_t-4</th>\n",
       "      <th>close_t-5</th>\n",
       "      <th>close_t-6</th>\n",
       "    </tr>\n",
       "    <tr>\n",
       "      <th>date</th>\n",
       "      <th></th>\n",
       "      <th></th>\n",
       "      <th></th>\n",
       "      <th></th>\n",
       "      <th></th>\n",
       "      <th></th>\n",
       "      <th></th>\n",
       "      <th></th>\n",
       "      <th></th>\n",
       "    </tr>\n",
       "  </thead>\n",
       "  <tbody>\n",
       "    <tr>\n",
       "      <th>2011-01-11</th>\n",
       "      <td>0.630419</td>\n",
       "      <td>0.613461</td>\n",
       "      <td>0.630419</td>\n",
       "      <td>0.621410</td>\n",
       "      <td>0.620350</td>\n",
       "      <td>0.579014</td>\n",
       "      <td>0.599682</td>\n",
       "      <td>0.581664</td>\n",
       "      <td>0.593959</td>\n",
       "    </tr>\n",
       "    <tr>\n",
       "      <th>2011-01-12</th>\n",
       "      <td>0.613461</td>\n",
       "      <td>0.596714</td>\n",
       "      <td>0.613461</td>\n",
       "      <td>0.630419</td>\n",
       "      <td>0.621410</td>\n",
       "      <td>0.620350</td>\n",
       "      <td>0.579014</td>\n",
       "      <td>0.599682</td>\n",
       "      <td>0.581664</td>\n",
       "    </tr>\n",
       "    <tr>\n",
       "      <th>2011-01-13</th>\n",
       "      <td>0.596714</td>\n",
       "      <td>0.598304</td>\n",
       "      <td>0.596714</td>\n",
       "      <td>0.613461</td>\n",
       "      <td>0.630419</td>\n",
       "      <td>0.621410</td>\n",
       "      <td>0.620350</td>\n",
       "      <td>0.579014</td>\n",
       "      <td>0.599682</td>\n",
       "    </tr>\n",
       "    <tr>\n",
       "      <th>2011-01-14</th>\n",
       "      <td>0.598304</td>\n",
       "      <td>0.580816</td>\n",
       "      <td>0.598304</td>\n",
       "      <td>0.596714</td>\n",
       "      <td>0.613461</td>\n",
       "      <td>0.630419</td>\n",
       "      <td>0.621410</td>\n",
       "      <td>0.620350</td>\n",
       "      <td>0.579014</td>\n",
       "    </tr>\n",
       "    <tr>\n",
       "      <th>2011-01-17</th>\n",
       "      <td>0.580816</td>\n",
       "      <td>0.585162</td>\n",
       "      <td>0.580816</td>\n",
       "      <td>0.598304</td>\n",
       "      <td>0.596714</td>\n",
       "      <td>0.613461</td>\n",
       "      <td>0.630419</td>\n",
       "      <td>0.621410</td>\n",
       "      <td>0.620350</td>\n",
       "    </tr>\n",
       "  </tbody>\n",
       "</table>\n",
       "</div>"
      ],
      "text/plain": [
       "               close  close_t+1  close_t-0  close_t-1  close_t-2  close_t-3  \\\n",
       "date                                                                          \n",
       "2011-01-11  0.630419   0.613461   0.630419   0.621410   0.620350   0.579014   \n",
       "2011-01-12  0.613461   0.596714   0.613461   0.630419   0.621410   0.620350   \n",
       "2011-01-13  0.596714   0.598304   0.596714   0.613461   0.630419   0.621410   \n",
       "2011-01-14  0.598304   0.580816   0.598304   0.596714   0.613461   0.630419   \n",
       "2011-01-17  0.580816   0.585162   0.580816   0.598304   0.596714   0.613461   \n",
       "\n",
       "            close_t-4  close_t-5  close_t-6  \n",
       "date                                         \n",
       "2011-01-11   0.599682   0.581664   0.593959  \n",
       "2011-01-12   0.579014   0.599682   0.581664  \n",
       "2011-01-13   0.620350   0.579014   0.599682  \n",
       "2011-01-14   0.621410   0.620350   0.579014  \n",
       "2011-01-17   0.630419   0.621410   0.620350  "
      ]
     },
     "execution_count": 105,
     "metadata": {},
     "output_type": "execute_result"
    }
   ],
   "source": [
    "train_shifted = train_shifted.dropna(how='any')\n",
    "train_shifted.head()"
   ]
  },
  {
   "cell_type": "code",
   "execution_count": 106,
   "id": "4aa03cf1",
   "metadata": {},
   "outputs": [],
   "source": [
    "y_data = ['close_t+1']\n",
    "X_data = ['close_t-{}'.format(idx) for idx in range(0, K)]"
   ]
  },
  {
   "cell_type": "code",
   "execution_count": 107,
   "id": "f07ef134",
   "metadata": {},
   "outputs": [
    {
     "name": "stdout",
     "output_type": "stream",
     "text": [
      "(2227, 1)\n",
      "(2227, 7)\n"
     ]
    }
   ],
   "source": [
    "y_train = train_shifted[y_data].values\n",
    "print(y_train.shape)\n",
    "X_train = train_shifted[X_data].values\n",
    "print(X_train.shape)"
   ]
  },
  {
   "cell_type": "code",
   "execution_count": 108,
   "id": "3ffd7b67",
   "metadata": {},
   "outputs": [],
   "source": [
    "from sklearn.linear_model import LinearRegression "
   ]
  },
  {
   "cell_type": "code",
   "execution_count": 109,
   "id": "a2bbed48",
   "metadata": {},
   "outputs": [
    {
     "data": {
      "text/plain": [
       "LinearRegression()"
      ]
     },
     "execution_count": 109,
     "metadata": {},
     "output_type": "execute_result"
    }
   ],
   "source": [
    "model = LinearRegression()\n",
    "model.fit(X_train, y_train)"
   ]
  },
  {
   "cell_type": "code",
   "execution_count": 110,
   "id": "63192cb4",
   "metadata": {},
   "outputs": [],
   "source": [
    "index_pre = er_price.index.get_loc(valid_start) - K\n",
    "true_valid_start = er_price.index[index_pre]"
   ]
  },
  {
   "cell_type": "code",
   "execution_count": 111,
   "id": "d821ae85",
   "metadata": {},
   "outputs": [
    {
     "data": {
      "text/html": [
       "<div>\n",
       "<style scoped>\n",
       "    .dataframe tbody tr th:only-of-type {\n",
       "        vertical-align: middle;\n",
       "    }\n",
       "\n",
       "    .dataframe tbody tr th {\n",
       "        vertical-align: top;\n",
       "    }\n",
       "\n",
       "    .dataframe thead th {\n",
       "        text-align: right;\n",
       "    }\n",
       "</style>\n",
       "<table border=\"1\" class=\"dataframe\">\n",
       "  <thead>\n",
       "    <tr style=\"text-align: right;\">\n",
       "      <th></th>\n",
       "      <th>close</th>\n",
       "    </tr>\n",
       "    <tr>\n",
       "      <th>date</th>\n",
       "      <th></th>\n",
       "    </tr>\n",
       "  </thead>\n",
       "  <tbody>\n",
       "    <tr>\n",
       "      <th>2011-01-03</th>\n",
       "      <td>6.5916</td>\n",
       "    </tr>\n",
       "    <tr>\n",
       "      <th>2011-01-04</th>\n",
       "      <td>6.5800</td>\n",
       "    </tr>\n",
       "    <tr>\n",
       "      <th>2011-01-05</th>\n",
       "      <td>6.5970</td>\n",
       "    </tr>\n",
       "    <tr>\n",
       "      <th>2011-01-06</th>\n",
       "      <td>6.5775</td>\n",
       "    </tr>\n",
       "    <tr>\n",
       "      <th>2011-01-07</th>\n",
       "      <td>6.6165</td>\n",
       "    </tr>\n",
       "    <tr>\n",
       "      <th>...</th>\n",
       "      <td>...</td>\n",
       "    </tr>\n",
       "    <tr>\n",
       "      <th>2021-08-24</th>\n",
       "      <td>6.4800</td>\n",
       "    </tr>\n",
       "    <tr>\n",
       "      <th>2021-08-25</th>\n",
       "      <td>6.4699</td>\n",
       "    </tr>\n",
       "    <tr>\n",
       "      <th>2021-08-26</th>\n",
       "      <td>6.4749</td>\n",
       "    </tr>\n",
       "    <tr>\n",
       "      <th>2021-08-27</th>\n",
       "      <td>6.4805</td>\n",
       "    </tr>\n",
       "    <tr>\n",
       "      <th>2021-08-30</th>\n",
       "      <td>6.4658</td>\n",
       "    </tr>\n",
       "  </tbody>\n",
       "</table>\n",
       "<p>2755 rows × 1 columns</p>\n",
       "</div>"
      ],
      "text/plain": [
       "             close\n",
       "date              \n",
       "2011-01-03  6.5916\n",
       "2011-01-04  6.5800\n",
       "2011-01-05  6.5970\n",
       "2011-01-06  6.5775\n",
       "2011-01-07  6.6165\n",
       "...            ...\n",
       "2021-08-24  6.4800\n",
       "2021-08-25  6.4699\n",
       "2021-08-26  6.4749\n",
       "2021-08-27  6.4805\n",
       "2021-08-30  6.4658\n",
       "\n",
       "[2755 rows x 1 columns]"
      ]
     },
     "execution_count": 111,
     "metadata": {},
     "output_type": "execute_result"
    }
   ],
   "source": [
    "er_price"
   ]
  },
  {
   "cell_type": "code",
   "execution_count": 112,
   "id": "504532c6",
   "metadata": {},
   "outputs": [],
   "source": [
    "val_df = er_price[true_valid_start:test_start].copy()"
   ]
  },
  {
   "cell_type": "code",
   "execution_count": 113,
   "id": "84e66923",
   "metadata": {},
   "outputs": [
    {
     "data": {
      "text/html": [
       "<div>\n",
       "<style scoped>\n",
       "    .dataframe tbody tr th:only-of-type {\n",
       "        vertical-align: middle;\n",
       "    }\n",
       "\n",
       "    .dataframe tbody tr th {\n",
       "        vertical-align: top;\n",
       "    }\n",
       "\n",
       "    .dataframe thead th {\n",
       "        text-align: right;\n",
       "    }\n",
       "</style>\n",
       "<table border=\"1\" class=\"dataframe\">\n",
       "  <thead>\n",
       "    <tr style=\"text-align: right;\">\n",
       "      <th></th>\n",
       "      <th>close</th>\n",
       "    </tr>\n",
       "    <tr>\n",
       "      <th>date</th>\n",
       "      <th></th>\n",
       "    </tr>\n",
       "  </thead>\n",
       "  <tbody>\n",
       "    <tr>\n",
       "      <th>2019-07-23</th>\n",
       "      <td>6.8801</td>\n",
       "    </tr>\n",
       "    <tr>\n",
       "      <th>2019-07-24</th>\n",
       "      <td>6.8783</td>\n",
       "    </tr>\n",
       "    <tr>\n",
       "      <th>2019-07-25</th>\n",
       "      <td>6.8715</td>\n",
       "    </tr>\n",
       "    <tr>\n",
       "      <th>2019-07-26</th>\n",
       "      <td>6.8716</td>\n",
       "    </tr>\n",
       "    <tr>\n",
       "      <th>2019-07-29</th>\n",
       "      <td>6.8782</td>\n",
       "    </tr>\n",
       "  </tbody>\n",
       "</table>\n",
       "</div>"
      ],
      "text/plain": [
       "             close\n",
       "date              \n",
       "2019-07-23  6.8801\n",
       "2019-07-24  6.8783\n",
       "2019-07-25  6.8715\n",
       "2019-07-26  6.8716\n",
       "2019-07-29  6.8782"
      ]
     },
     "execution_count": 113,
     "metadata": {},
     "output_type": "execute_result"
    }
   ],
   "source": [
    "val_df.head()"
   ]
  },
  {
   "cell_type": "code",
   "execution_count": 114,
   "id": "3ab80cfb",
   "metadata": {},
   "outputs": [
    {
     "name": "stdout",
     "output_type": "stream",
     "text": [
      "               close\n",
      "date                \n",
      "2019-07-23  0.899735\n",
      "2019-07-24  0.897827\n",
      "2020-07-31  1.034552\n",
      "2020-08-03  0.999470\n"
     ]
    }
   ],
   "source": [
    "val_df['close'] = scaler.transform(val_df)\n",
    "print(val_df.head(2).append(val_df.tail(2)))"
   ]
  },
  {
   "cell_type": "code",
   "execution_count": 115,
   "id": "d52ea492",
   "metadata": {},
   "outputs": [],
   "source": [
    "valid_shifted = val_df.copy()\n",
    "valid_shifted['close_t+1'] = val_df['close'].shift(-1)\n",
    "for t in range(K):\n",
    "     valid_shifted['close_t-{}'.format(t)] = valid_shifted['close'].shift(t)\n",
    "valid_shifted = valid_shifted.dropna(how='any')\n",
    "y_valid = valid_shifted[y_data].values\n",
    "X_valid = valid_shifted[X_data].values"
   ]
  },
  {
   "cell_type": "code",
   "execution_count": 116,
   "id": "01b21452",
   "metadata": {},
   "outputs": [
    {
     "data": {
      "text/html": [
       "<div>\n",
       "<style scoped>\n",
       "    .dataframe tbody tr th:only-of-type {\n",
       "        vertical-align: middle;\n",
       "    }\n",
       "\n",
       "    .dataframe tbody tr th {\n",
       "        vertical-align: top;\n",
       "    }\n",
       "\n",
       "    .dataframe thead th {\n",
       "        text-align: right;\n",
       "    }\n",
       "</style>\n",
       "<table border=\"1\" class=\"dataframe\">\n",
       "  <thead>\n",
       "    <tr style=\"text-align: right;\">\n",
       "      <th></th>\n",
       "      <th>timestamp</th>\n",
       "      <th>h</th>\n",
       "      <th>prediction7</th>\n",
       "      <th>actual</th>\n",
       "    </tr>\n",
       "  </thead>\n",
       "  <tbody>\n",
       "    <tr>\n",
       "      <th>0</th>\n",
       "      <td>2019-07-31</td>\n",
       "      <td>t+1</td>\n",
       "      <td>6.884022</td>\n",
       "      <td>6.8834</td>\n",
       "    </tr>\n",
       "    <tr>\n",
       "      <th>1</th>\n",
       "      <td>2019-08-01</td>\n",
       "      <td>t+1</td>\n",
       "      <td>6.884413</td>\n",
       "      <td>6.8978</td>\n",
       "    </tr>\n",
       "    <tr>\n",
       "      <th>2</th>\n",
       "      <td>2019-08-02</td>\n",
       "      <td>t+1</td>\n",
       "      <td>6.895770</td>\n",
       "      <td>6.9392</td>\n",
       "    </tr>\n",
       "    <tr>\n",
       "      <th>3</th>\n",
       "      <td>2019-08-05</td>\n",
       "      <td>t+1</td>\n",
       "      <td>6.932586</td>\n",
       "      <td>7.0497</td>\n",
       "    </tr>\n",
       "    <tr>\n",
       "      <th>4</th>\n",
       "      <td>2019-08-06</td>\n",
       "      <td>t+1</td>\n",
       "      <td>7.032222</td>\n",
       "      <td>7.0256</td>\n",
       "    </tr>\n",
       "  </tbody>\n",
       "</table>\n",
       "</div>"
      ],
      "text/plain": [
       "   timestamp    h  prediction7  actual\n",
       "0 2019-07-31  t+1     6.884022  6.8834\n",
       "1 2019-08-01  t+1     6.884413  6.8978\n",
       "2 2019-08-02  t+1     6.895770  6.9392\n",
       "3 2019-08-05  t+1     6.932586  7.0497\n",
       "4 2019-08-06  t+1     7.032222  7.0256"
      ]
     },
     "execution_count": 116,
     "metadata": {},
     "output_type": "execute_result"
    }
   ],
   "source": [
    "predictions = model.predict(X_valid)\n",
    "eval_df = pd.DataFrame(predictions, columns=['t+'+str(t) for t in range(1, HORIZON+1)])\n",
    "eval_df['timestamp'] = valid_shifted.index\n",
    "eval_df = pd.melt(eval_df, id_vars='timestamp', value_name='prediction7', var_name='h')\n",
    "eval_df['actual'] = np.transpose(y_valid).ravel()\n",
    "eval_df[['prediction7', 'actual']] = scaler.inverse_transform(eval_df[['prediction7', 'actual']])\n",
    "eval_df.head()"
   ]
  },
  {
   "cell_type": "code",
   "execution_count": 117,
   "id": "6561427c",
   "metadata": {},
   "outputs": [
    {
     "data": {
      "image/png": "[encoded data removed]",
      "text/plain": [
       "<Figure size 1080x576 with 1 Axes>"
      ]
     },
     "metadata": {
      "needs_background": "light"
     },
     "output_type": "display_data"
    }
   ],
   "source": [
    "eval_df.plot(x='timestamp', y=['prediction7', 'actual'], style=['r', 'b'], figsize=(15, 8))\n",
    "plt.xlabel('timestamp', fontsize=12)\n",
    "plt.ylabel('load', fontsize=12)\n",
    "plt.show()"
   ]
  },
  {
   "cell_type": "code",
   "execution_count": 118,
   "id": "71540d96",
   "metadata": {},
   "outputs": [
    {
     "data": {
      "text/plain": [
       "0.00043832151046420946"
      ]
     },
     "execution_count": 118,
     "metadata": {},
     "output_type": "execute_result"
    }
   ],
   "source": [
    "from sklearn.metrics import mean_squared_error\n",
    "mean_squared_error(y_valid,predictions)"
   ]
  },
  {
   "cell_type": "code",
   "execution_count": 119,
   "id": "3dc4e026",
   "metadata": {},
   "outputs": [],
   "source": [
    "index_pre = er_price.index.get_loc(test_start) - K"
   ]
  },
  {
   "cell_type": "code",
   "execution_count": 120,
   "id": "717a3a33",
   "metadata": {},
   "outputs": [
    {
     "name": "stdout",
     "output_type": "stream",
     "text": [
      "               close\n",
      "date                \n",
      "2020-07-23  1.025437\n",
      "2020-07-24  1.030101\n",
      "2021-08-27  0.476206\n",
      "2021-08-30  0.460625\n"
     ]
    }
   ],
   "source": [
    "true_valid_start = er_price.index[index_pre]\n",
    "test_df = er_price[true_valid_start:].copy()\n",
    "test_df['close'] = scaler.transform(test_df)\n",
    "print(test_df.head(2).append(test_df.tail(2)))"
   ]
  },
  {
   "cell_type": "code",
   "execution_count": 121,
   "id": "f3cbc8f3",
   "metadata": {},
   "outputs": [],
   "source": [
    "test_shifted = test_df.copy()\n",
    "test_shifted['close_t+1'] = test_shifted['close'].shift(-1)\n",
    "for t in range(0, K):\n",
    "     test_shifted['close_t-{}'.format(t)] = test_shifted['close'].shift(t)\n",
    "test_shifted = test_shifted.dropna(how='any')\n",
    "y_test = test_shifted[y_data].values\n",
    "X_test = test_shifted[X_data].values"
   ]
  },
  {
   "cell_type": "code",
   "execution_count": 122,
   "id": "7dfb60ae",
   "metadata": {},
   "outputs": [],
   "source": [
    "predictions = model.predict(X_test)"
   ]
  },
  {
   "cell_type": "code",
   "execution_count": 123,
   "id": "047f51f6",
   "metadata": {},
   "outputs": [
    {
     "data": {
      "text/html": [
       "<div>\n",
       "<style scoped>\n",
       "    .dataframe tbody tr th:only-of-type {\n",
       "        vertical-align: middle;\n",
       "    }\n",
       "\n",
       "    .dataframe tbody tr th {\n",
       "        vertical-align: top;\n",
       "    }\n",
       "\n",
       "    .dataframe thead th {\n",
       "        text-align: right;\n",
       "    }\n",
       "</style>\n",
       "<table border=\"1\" class=\"dataframe\">\n",
       "  <thead>\n",
       "    <tr style=\"text-align: right;\">\n",
       "      <th></th>\n",
       "      <th>date</th>\n",
       "      <th>h</th>\n",
       "      <th>prediction7</th>\n",
       "      <th>actual</th>\n",
       "    </tr>\n",
       "  </thead>\n",
       "  <tbody>\n",
       "    <tr>\n",
       "      <th>0</th>\n",
       "      <td>2020-07-31</td>\n",
       "      <td>t+1</td>\n",
       "      <td>7.005992</td>\n",
       "      <td>6.9742</td>\n",
       "    </tr>\n",
       "    <tr>\n",
       "      <th>1</th>\n",
       "      <td>2020-08-03</td>\n",
       "      <td>t+1</td>\n",
       "      <td>6.977818</td>\n",
       "      <td>6.9794</td>\n",
       "    </tr>\n",
       "    <tr>\n",
       "      <th>2</th>\n",
       "      <td>2020-08-04</td>\n",
       "      <td>t+1</td>\n",
       "      <td>6.980466</td>\n",
       "      <td>6.9727</td>\n",
       "    </tr>\n",
       "    <tr>\n",
       "      <th>3</th>\n",
       "      <td>2020-08-05</td>\n",
       "      <td>t+1</td>\n",
       "      <td>6.971949</td>\n",
       "      <td>6.9346</td>\n",
       "    </tr>\n",
       "    <tr>\n",
       "      <th>4</th>\n",
       "      <td>2020-08-06</td>\n",
       "      <td>t+1</td>\n",
       "      <td>6.939530</td>\n",
       "      <td>6.9524</td>\n",
       "    </tr>\n",
       "  </tbody>\n",
       "</table>\n",
       "</div>"
      ],
      "text/plain": [
       "        date    h  prediction7  actual\n",
       "0 2020-07-31  t+1     7.005992  6.9742\n",
       "1 2020-08-03  t+1     6.977818  6.9794\n",
       "2 2020-08-04  t+1     6.980466  6.9727\n",
       "3 2020-08-05  t+1     6.971949  6.9346\n",
       "4 2020-08-06  t+1     6.939530  6.9524"
      ]
     },
     "execution_count": 123,
     "metadata": {},
     "output_type": "execute_result"
    }
   ],
   "source": [
    "eval_df = pd.DataFrame(predictions, columns=['t+'+str(t) for t in range(1, HORIZON+1)])\n",
    "eval_df['date'] = test_shifted.index\n",
    "eval_df = pd.melt(eval_df, id_vars='date', value_name='prediction7', var_name='h')\n",
    "eval_df['actual'] = np.transpose(y_test).ravel()\n",
    "eval_df[['prediction7', 'actual']] = scaler.inverse_transform(eval_df[['prediction7', 'actual']])\n",
    "eval_df.head()"
   ]
  },
  {
   "cell_type": "code",
   "execution_count": 124,
   "id": "d121846b",
   "metadata": {},
   "outputs": [
    {
     "data": {
      "image/png": "[encoded data removed]",
      "text/plain": [
       "<Figure size 1080x576 with 1 Axes>"
      ]
     },
     "metadata": {
      "needs_background": "light"
     },
     "output_type": "display_data"
    }
   ],
   "source": [
    "eval_df.plot(x='date', y=['prediction7', 'actual'], style=['r', 'b'], figsize=(15, 8))\n",
    "plt.xlabel('date', fontsize=12)\n",
    "plt.ylabel('load', fontsize=12)\n",
    "plt.show()"
   ]
  },
  {
   "cell_type": "code",
   "execution_count": 125,
   "id": "1db0b1d6",
   "metadata": {},
   "outputs": [
    {
     "data": {
      "text/plain": [
       "0.00029620796291920373"
      ]
     },
     "execution_count": 125,
     "metadata": {},
     "output_type": "execute_result"
    }
   ],
   "source": [
    "from sklearn.metrics import mean_squared_error\n",
    "mean_squared_error(y_test,predictions)"
   ]
  },
  {
   "cell_type": "code",
   "execution_count": 126,
   "id": "e33e2b64",
   "metadata": {},
   "outputs": [
    {
     "data": {
      "text/plain": [
       "0.9890379311948224"
      ]
     },
     "execution_count": 126,
     "metadata": {},
     "output_type": "execute_result"
    }
   ],
   "source": [
    "from sklearn.metrics import r2_score\n",
    "r2_score(y_test,predictions)"
   ]
  },
  {
   "cell_type": "code",
   "execution_count": 127,
   "id": "abbf205a",
   "metadata": {},
   "outputs": [
    {
     "data": {
      "text/plain": [
       "0.012017301570291222"
      ]
     },
     "execution_count": 127,
     "metadata": {},
     "output_type": "execute_result"
    }
   ],
   "source": [
    "from sklearn.metrics import mean_absolute_error\n",
    "mean_absolute_error(y_test,predictions)"
   ]
  },
  {
   "cell_type": "code",
   "execution_count": 128,
   "id": "23084e02",
   "metadata": {},
   "outputs": [
    {
     "name": "stdout",
     "output_type": "stream",
     "text": [
      "Testing MAPE is 0.17%\n"
     ]
    }
   ],
   "source": [
    "mape_test = np.mean(np.abs((eval_df['prediction7'] - eval_df['actual']) / eval_df['actual'])) * 100\n",
    "print('Testing MAPE is {:.2f}%'.format(mape_test))"
   ]
  },
  {
   "cell_type": "markdown",
   "id": "5eb70500",
   "metadata": {},
   "source": [
    "According to MSE and r2_score, for the linear regression model, best performance is achieved when k=3"
   ]
  }
 ],
 "metadata": {
  "kernelspec": {
   "display_name": "Python 3 (ipykernel)",
   "language": "python",
   "name": "python3"
  },
  "language_info": {
   "codemirror_mode": {
    "name": "ipython",
    "version": 3
   },
   "file_extension": ".py",
   "mimetype": "text/x-python",
   "name": "python",
   "nbconvert_exporter": "python",
   "pygments_lexer": "ipython3",
   "version": "3.8.8"
  }
 },
 "nbformat": 4,
 "nbformat_minor": 5
}
