{
 "cells": [
  {
   "cell_type": "code",
   "execution_count": 84,
   "metadata": {
    "id": "LBlDbP7miQoW"
   },
   "outputs": [],
   "source": [
    "import pandas as pd\n",
    "import numpy as np\n",
    "import matplotlib.pyplot as plt\n",
    "import seaborn as sns; sns.set()\n",
    "%matplotlib inline"
   ]
  },
  {
   "cell_type": "code",
   "execution_count": 85,
   "metadata": {
    "colab": {
     "base_uri": "https://localhost:8080/",
     "height": 204
    },
    "id": "Sj47bjebiWag",
    "outputId": "abba2ba7-5d96-4bae-f0c7-dd04043b6e33"
   },
   "outputs": [
    {
     "data": {
      "text/html": [
       "<div>\n",
       "<style scoped>\n",
       "    .dataframe tbody tr th:only-of-type {\n",
       "        vertical-align: middle;\n",
       "    }\n",
       "\n",
       "    .dataframe tbody tr th {\n",
       "        vertical-align: top;\n",
       "    }\n",
       "\n",
       "    .dataframe thead th {\n",
       "        text-align: right;\n",
       "    }\n",
       "</style>\n",
       "<table border=\"1\" class=\"dataframe\">\n",
       "  <thead>\n",
       "    <tr style=\"text-align: right;\">\n",
       "      <th></th>\n",
       "      <th>slug</th>\n",
       "      <th>date</th>\n",
       "      <th>open</th>\n",
       "      <th>high</th>\n",
       "      <th>low</th>\n",
       "      <th>close</th>\n",
       "      <th>currency</th>\n",
       "    </tr>\n",
       "  </thead>\n",
       "  <tbody>\n",
       "    <tr>\n",
       "      <th>0</th>\n",
       "      <td>USD/CNY</td>\n",
       "      <td>2011/1/3</td>\n",
       "      <td>6.5800</td>\n",
       "      <td>6.5800</td>\n",
       "      <td>6.5800</td>\n",
       "      <td>6.5916</td>\n",
       "      <td>CNY</td>\n",
       "    </tr>\n",
       "    <tr>\n",
       "      <th>1</th>\n",
       "      <td>USD/CNY</td>\n",
       "      <td>2011/1/4</td>\n",
       "      <td>6.5988</td>\n",
       "      <td>6.6000</td>\n",
       "      <td>6.5970</td>\n",
       "      <td>6.5800</td>\n",
       "      <td>CNY</td>\n",
       "    </tr>\n",
       "    <tr>\n",
       "      <th>2</th>\n",
       "      <td>USD/CNY</td>\n",
       "      <td>2011/1/5</td>\n",
       "      <td>6.6112</td>\n",
       "      <td>6.6112</td>\n",
       "      <td>6.5775</td>\n",
       "      <td>6.5970</td>\n",
       "      <td>CNY</td>\n",
       "    </tr>\n",
       "    <tr>\n",
       "      <th>3</th>\n",
       "      <td>USD/CNY</td>\n",
       "      <td>2011/1/6</td>\n",
       "      <td>6.6134</td>\n",
       "      <td>6.6165</td>\n",
       "      <td>6.6134</td>\n",
       "      <td>6.5775</td>\n",
       "      <td>CNY</td>\n",
       "    </tr>\n",
       "    <tr>\n",
       "      <th>4</th>\n",
       "      <td>USD/CNY</td>\n",
       "      <td>2011/1/7</td>\n",
       "      <td>6.6209</td>\n",
       "      <td>6.6209</td>\n",
       "      <td>6.6175</td>\n",
       "      <td>6.6165</td>\n",
       "      <td>CNY</td>\n",
       "    </tr>\n",
       "  </tbody>\n",
       "</table>\n",
       "</div>"
      ],
      "text/plain": [
       "      slug      date    open    high     low   close currency\n",
       "0  USD/CNY  2011/1/3  6.5800  6.5800  6.5800  6.5916      CNY\n",
       "1  USD/CNY  2011/1/4  6.5988  6.6000  6.5970  6.5800      CNY\n",
       "2  USD/CNY  2011/1/5  6.6112  6.6112  6.5775  6.5970      CNY\n",
       "3  USD/CNY  2011/1/6  6.6134  6.6165  6.6134  6.5775      CNY\n",
       "4  USD/CNY  2011/1/7  6.6209  6.6209  6.6175  6.6165      CNY"
      ]
     },
     "execution_count": 85,
     "metadata": {},
     "output_type": "execute_result"
    }
   ],
   "source": [
    "from pandas import read_csv\n",
    "er = pd.read_csv(\"USDCNY(2011-2021).csv\", header=0)\n",
    "er.head(5)"
   ]
  },
  {
   "cell_type": "code",
   "execution_count": 86,
   "metadata": {
    "id": "rgO68SkmiaE2"
   },
   "outputs": [],
   "source": [
    "er.date = pd.to_datetime(er.date)\n",
    "er.set_index(\"date\", inplace=True)"
   ]
  },
  {
   "cell_type": "code",
   "execution_count": 87,
   "metadata": {
    "colab": {
     "base_uri": "https://localhost:8080/",
     "height": 235
    },
    "id": "pWWtTYv0ibp9",
    "outputId": "1187b98c-6284-4552-a99a-a7da71e0c278"
   },
   "outputs": [
    {
     "data": {
      "text/html": [
       "<div>\n",
       "<style scoped>\n",
       "    .dataframe tbody tr th:only-of-type {\n",
       "        vertical-align: middle;\n",
       "    }\n",
       "\n",
       "    .dataframe tbody tr th {\n",
       "        vertical-align: top;\n",
       "    }\n",
       "\n",
       "    .dataframe thead th {\n",
       "        text-align: right;\n",
       "    }\n",
       "</style>\n",
       "<table border=\"1\" class=\"dataframe\">\n",
       "  <thead>\n",
       "    <tr style=\"text-align: right;\">\n",
       "      <th></th>\n",
       "      <th>slug</th>\n",
       "      <th>open</th>\n",
       "      <th>high</th>\n",
       "      <th>low</th>\n",
       "      <th>close</th>\n",
       "      <th>currency</th>\n",
       "    </tr>\n",
       "    <tr>\n",
       "      <th>date</th>\n",
       "      <th></th>\n",
       "      <th></th>\n",
       "      <th></th>\n",
       "      <th></th>\n",
       "      <th></th>\n",
       "      <th></th>\n",
       "    </tr>\n",
       "  </thead>\n",
       "  <tbody>\n",
       "    <tr>\n",
       "      <th>2011-01-03</th>\n",
       "      <td>USD/CNY</td>\n",
       "      <td>6.5800</td>\n",
       "      <td>6.5800</td>\n",
       "      <td>6.5800</td>\n",
       "      <td>6.5916</td>\n",
       "      <td>CNY</td>\n",
       "    </tr>\n",
       "    <tr>\n",
       "      <th>2011-01-04</th>\n",
       "      <td>USD/CNY</td>\n",
       "      <td>6.5988</td>\n",
       "      <td>6.6000</td>\n",
       "      <td>6.5970</td>\n",
       "      <td>6.5800</td>\n",
       "      <td>CNY</td>\n",
       "    </tr>\n",
       "    <tr>\n",
       "      <th>2011-01-05</th>\n",
       "      <td>USD/CNY</td>\n",
       "      <td>6.6112</td>\n",
       "      <td>6.6112</td>\n",
       "      <td>6.5775</td>\n",
       "      <td>6.5970</td>\n",
       "      <td>CNY</td>\n",
       "    </tr>\n",
       "    <tr>\n",
       "      <th>2011-01-06</th>\n",
       "      <td>USD/CNY</td>\n",
       "      <td>6.6134</td>\n",
       "      <td>6.6165</td>\n",
       "      <td>6.6134</td>\n",
       "      <td>6.5775</td>\n",
       "      <td>CNY</td>\n",
       "    </tr>\n",
       "    <tr>\n",
       "      <th>2011-01-07</th>\n",
       "      <td>USD/CNY</td>\n",
       "      <td>6.6209</td>\n",
       "      <td>6.6209</td>\n",
       "      <td>6.6175</td>\n",
       "      <td>6.6165</td>\n",
       "      <td>CNY</td>\n",
       "    </tr>\n",
       "  </tbody>\n",
       "</table>\n",
       "</div>"
      ],
      "text/plain": [
       "               slug    open    high     low   close currency\n",
       "date                                                        \n",
       "2011-01-03  USD/CNY  6.5800  6.5800  6.5800  6.5916      CNY\n",
       "2011-01-04  USD/CNY  6.5988  6.6000  6.5970  6.5800      CNY\n",
       "2011-01-05  USD/CNY  6.6112  6.6112  6.5775  6.5970      CNY\n",
       "2011-01-06  USD/CNY  6.6134  6.6165  6.6134  6.5775      CNY\n",
       "2011-01-07  USD/CNY  6.6209  6.6209  6.6175  6.6165      CNY"
      ]
     },
     "execution_count": 87,
     "metadata": {},
     "output_type": "execute_result"
    }
   ],
   "source": [
    "er.head()"
   ]
  },
  {
   "cell_type": "code",
   "execution_count": 88,
   "metadata": {
    "id": "EXt3Hsw8idUm"
   },
   "outputs": [],
   "source": [
    "er_price = er[['close']]"
   ]
  },
  {
   "cell_type": "code",
   "execution_count": 89,
   "metadata": {
    "colab": {
     "base_uri": "https://localhost:8080/",
     "height": 235
    },
    "id": "GGGSyU1wieP1",
    "outputId": "8adcbfa6-36c9-42d2-cd0d-9c84183123e4"
   },
   "outputs": [
    {
     "data": {
      "text/html": [
       "<div>\n",
       "<style scoped>\n",
       "    .dataframe tbody tr th:only-of-type {\n",
       "        vertical-align: middle;\n",
       "    }\n",
       "\n",
       "    .dataframe tbody tr th {\n",
       "        vertical-align: top;\n",
       "    }\n",
       "\n",
       "    .dataframe thead th {\n",
       "        text-align: right;\n",
       "    }\n",
       "</style>\n",
       "<table border=\"1\" class=\"dataframe\">\n",
       "  <thead>\n",
       "    <tr style=\"text-align: right;\">\n",
       "      <th></th>\n",
       "      <th>close</th>\n",
       "    </tr>\n",
       "    <tr>\n",
       "      <th>date</th>\n",
       "      <th></th>\n",
       "    </tr>\n",
       "  </thead>\n",
       "  <tbody>\n",
       "    <tr>\n",
       "      <th>2011-01-03</th>\n",
       "      <td>6.5916</td>\n",
       "    </tr>\n",
       "    <tr>\n",
       "      <th>2011-01-04</th>\n",
       "      <td>6.5800</td>\n",
       "    </tr>\n",
       "    <tr>\n",
       "      <th>2011-01-05</th>\n",
       "      <td>6.5970</td>\n",
       "    </tr>\n",
       "    <tr>\n",
       "      <th>2011-01-06</th>\n",
       "      <td>6.5775</td>\n",
       "    </tr>\n",
       "    <tr>\n",
       "      <th>2011-01-07</th>\n",
       "      <td>6.6165</td>\n",
       "    </tr>\n",
       "  </tbody>\n",
       "</table>\n",
       "</div>"
      ],
      "text/plain": [
       "             close\n",
       "date              \n",
       "2011-01-03  6.5916\n",
       "2011-01-04  6.5800\n",
       "2011-01-05  6.5970\n",
       "2011-01-06  6.5775\n",
       "2011-01-07  6.6165"
      ]
     },
     "execution_count": 89,
     "metadata": {},
     "output_type": "execute_result"
    }
   ],
   "source": [
    "er_price.head()"
   ]
  },
  {
   "cell_type": "code",
   "execution_count": 90,
   "metadata": {
    "id": "oxvL2wtUija6"
   },
   "outputs": [],
   "source": [
    "import numpy as np\n",
    "import pandas as pd\n",
    "import matplotlib.pyplot as plt\n",
    "from sklearn.preprocessing import MinMaxScaler\n",
    "from keras.models import Sequential, load_model\n",
    "from keras.layers import LSTM, Dense, Dropout"
   ]
  },
  {
   "cell_type": "code",
   "execution_count": 91,
   "metadata": {
    "colab": {
     "base_uri": "https://localhost:8080/"
    },
    "id": "PHkdIbr_ilt-",
    "outputId": "8bd66c3c-3bba-43ab-fc07-82ba2ddcdeb3"
   },
   "outputs": [
    {
     "name": "stdout",
     "output_type": "stream",
     "text": [
      "(2755, 1)\n"
     ]
    },
    {
     "data": {
      "text/plain": [
       "array([[6.5916],\n",
       "       [6.58  ],\n",
       "       [6.597 ],\n",
       "       [6.5775],\n",
       "       [6.6165]])"
      ]
     },
     "execution_count": 91,
     "metadata": {},
     "output_type": "execute_result"
    }
   ],
   "source": [
    "df = er['close'].values\n",
    "df = df.reshape(-1, 1)\n",
    "print(df.shape)\n",
    "df[:5]"
   ]
  },
  {
   "cell_type": "code",
   "execution_count": 92,
   "metadata": {
    "colab": {
     "base_uri": "https://localhost:8080/"
    },
    "id": "bIdfV321insD",
    "outputId": "4e8c70bf-33fd-4197-c0fc-eae693f6fcd3"
   },
   "outputs": [
    {
     "name": "stdout",
     "output_type": "stream",
     "text": [
      "[[0.48866411]\n",
      " [0.47854901]\n",
      " [0.49337286]\n",
      " ...\n",
      " [0.38690269]\n",
      " [0.39178584]\n",
      " [0.37896756]]\n"
     ]
    }
   ],
   "source": [
    "from sklearn.preprocessing import MinMaxScaler\n",
    "scaler = MinMaxScaler()\n",
    "\n",
    "df = scaler.fit_transform(df)\n",
    "\n",
    "print(df)"
   ]
  },
  {
   "cell_type": "code",
   "execution_count": 93,
   "metadata": {
    "colab": {
     "base_uri": "https://localhost:8080/"
    },
    "id": "TqcUQuvuipBM",
    "outputId": "fa1be06c-6418-4995-aa8f-cc7c9cd1cc57"
   },
   "outputs": [
    {
     "name": "stdout",
     "output_type": "stream",
     "text": [
      "(2233, 1)\n",
      "(279, 1)\n"
     ]
    }
   ],
   "source": [
    "train = df[:2233]\n",
    "test = df[2476:]\n",
    "print(train.shape)\n",
    "print(test.shape)"
   ]
  },
  {
   "cell_type": "code",
   "execution_count": 94,
   "metadata": {
    "id": "t5YgumBRiqGX"
   },
   "outputs": [],
   "source": [
    "# convert an array of values into a dataset matrix\n",
    "def create_dataset(dataset, look_back=1):\n",
    "\tdataX, dataY = [], []\n",
    "\tfor i in range(len(dataset)-look_back-1):\n",
    "\t\ta = dataset[i:(i+look_back), 0]\n",
    "\t\tdataX.append(a)\n",
    "\t\tdataY.append(dataset[i + look_back, 0])\n",
    "\treturn np.array(dataX), np.array(dataY)"
   ]
  },
  {
   "cell_type": "code",
   "execution_count": 95,
   "metadata": {
    "id": "SD59cV4MjIRH"
   },
   "outputs": [],
   "source": [
    "# reshape\n",
    "look_back = 1\n",
    "trainX, trainY = create_dataset(train, look_back)\n",
    "testX, testY = create_dataset(test, look_back)"
   ]
  },
  {
   "cell_type": "code",
   "execution_count": 96,
   "metadata": {
    "colab": {
     "base_uri": "https://localhost:8080/"
    },
    "id": "AaT4Zr-fmpKh",
    "outputId": "1db90112-f507-4a6d-e24b-7753e38a3506"
   },
   "outputs": [
    {
     "name": "stdout",
     "output_type": "stream",
     "text": [
      "[[0.48866411]\n",
      " [0.47854901]\n",
      " [0.49337286]\n",
      " ...\n",
      " [0.73273457]\n",
      " [0.73282176]\n",
      " [0.73857691]] [0.47854901 0.49337286 0.47636903 ... 0.73282176 0.73857691 0.75095919]\n"
     ]
    }
   ],
   "source": [
    "print(trainX, trainY)"
   ]
  },
  {
   "cell_type": "code",
   "execution_count": 97,
   "metadata": {
    "id": "uyulFzOUjlNA"
   },
   "outputs": [],
   "source": [
    "# reshape input to be [samples, time steps, features]\n",
    "trainX = np.reshape(trainX, (trainX.shape[0], 1, trainX.shape[1]))\n",
    "testX = np.reshape(testX, (testX.shape[0], 1, testX.shape[1]))"
   ]
  },
  {
   "cell_type": "code",
   "execution_count": 98,
   "metadata": {
    "colab": {
     "base_uri": "https://localhost:8080/"
    },
    "id": "BC0yvOBIjpv_",
    "outputId": "c5502b7d-5c35-47cd-c5c4-a99152088c24"
   },
   "outputs": [
    {
     "name": "stdout",
     "output_type": "stream",
     "text": [
      "Epoch 1/11\n",
      "2231/2231 [==============================] - 7s 2ms/step - loss: 0.0085\n",
      "Epoch 2/11\n",
      "2231/2231 [==============================] - 5s 2ms/step - loss: 2.2035e-04\n",
      "Epoch 3/11\n",
      "2231/2231 [==============================] - 5s 2ms/step - loss: 1.9718e-04\n",
      "Epoch 4/11\n",
      "2231/2231 [==============================] - 5s 2ms/step - loss: 1.9851e-04\n",
      "Epoch 5/11\n",
      "2231/2231 [==============================] - 5s 2ms/step - loss: 1.8669e-04\n",
      "Epoch 6/11\n",
      "2231/2231 [==============================] - 5s 2ms/step - loss: 1.9662e-04\n",
      "Epoch 7/11\n",
      "2231/2231 [==============================] - 5s 2ms/step - loss: 1.9151e-04\n",
      "Epoch 8/11\n",
      "2231/2231 [==============================] - 5s 2ms/step - loss: 1.9446e-04\n",
      "Epoch 9/11\n",
      "2231/2231 [==============================] - 5s 2ms/step - loss: 1.9532e-04\n",
      "Epoch 10/11\n",
      "2231/2231 [==============================] - 5s 2ms/step - loss: 1.9239e-04\n",
      "Epoch 11/11\n",
      "2231/2231 [==============================] - 5s 2ms/step - loss: 1.9491e-04\n"
     ]
    },
    {
     "data": {
      "text/plain": [
       "<keras.callbacks.History at 0x15706ad00>"
      ]
     },
     "execution_count": 98,
     "metadata": {},
     "output_type": "execute_result"
    }
   ],
   "source": [
    "# create and fit the LSTM network\n",
    "model = Sequential()\n",
    "model.add(LSTM(16, activation='tanh',input_shape=(1, look_back)))\n",
    "model.add(Dense(1))\n",
    "model.compile(loss='mean_squared_error', optimizer='adam')\n",
    "model.fit(trainX, trainY, epochs=11, batch_size=1)"
   ]
  },
  {
   "cell_type": "code",
   "execution_count": 99,
   "metadata": {
    "colab": {
     "base_uri": "https://localhost:8080/"
    },
    "id": "-_uUCstLmOnO",
    "outputId": "dc3c2fe3-8618-46b4-916f-84697548c0e6"
   },
   "outputs": [
    {
     "name": "stdout",
     "output_type": "stream",
     "text": [
      "Model: \"sequential_5\"\n",
      "_________________________________________________________________\n",
      "Layer (type)                 Output Shape              Param #   \n",
      "=================================================================\n",
      "lstm_5 (LSTM)                (None, 16)                1152      \n",
      "_________________________________________________________________\n",
      "dense_5 (Dense)              (None, 1)                 17        \n",
      "=================================================================\n",
      "Total params: 1,169\n",
      "Trainable params: 1,169\n",
      "Non-trainable params: 0\n",
      "_________________________________________________________________\n"
     ]
    }
   ],
   "source": [
    "model.summary()"
   ]
  },
  {
   "cell_type": "code",
   "execution_count": 100,
   "metadata": {
    "colab": {
     "base_uri": "https://localhost:8080/"
    },
    "id": "zpb7W-WwkPQT",
    "outputId": "40bbbca9-d1f4-437b-d992-08cc217eb517"
   },
   "outputs": [
    {
     "name": "stdout",
     "output_type": "stream",
     "text": [
      "[[6.96273  ]\n",
      " [6.9264846]\n",
      " [6.9434543]\n",
      " [6.957326 ]\n",
      " [6.9514403]\n",
      " [6.9366927]\n",
      " [6.9280124]\n",
      " [6.9350724]\n",
      " [6.9405985]\n",
      " [6.923809 ]]\n"
     ]
    }
   ],
   "source": [
    "scaler.scale_\n",
    "\n",
    "y_pred = model.predict(testX)\n",
    "y_pred = scaler.inverse_transform(y_pred)\n",
    "print(y_pred[:10])"
   ]
  },
  {
   "cell_type": "code",
   "execution_count": 101,
   "metadata": {
    "colab": {
     "base_uri": "https://localhost:8080/"
    },
    "id": "GO_huAGAkjmG",
    "outputId": "ee15cd99-f25a-462e-f7fb-3438044f864d"
   },
   "outputs": [
    {
     "name": "stdout",
     "output_type": "stream",
     "text": [
      "[[6.9346]\n",
      " [6.9524]\n",
      " [6.967 ]\n",
      " [6.9608]\n",
      " [6.9453]\n",
      " [6.9362]\n",
      " [6.9436]\n",
      " [6.9494]\n",
      " [6.9318]\n",
      " [6.9208]]\n"
     ]
    }
   ],
   "source": [
    "testY = np.array(testY).reshape(-1,1)\n",
    "testY = scaler.inverse_transform(testY)\n",
    "print(testY[:10])"
   ]
  },
  {
   "cell_type": "code",
   "execution_count": 102,
   "metadata": {
    "colab": {
     "base_uri": "https://localhost:8080/",
     "height": 355
    },
    "id": "8fnVbF6xk8HH",
    "outputId": "5cc1297b-21c8-4c69-dbb7-52291c50697e"
   },
   "outputs": [
    {
     "data": {
      "text/plain": [
       "<matplotlib.legend.Legend at 0x1572f4370>"
      ]
     },
     "execution_count": 102,
     "metadata": {},
     "output_type": "execute_result"
    },
    {
     "data": {
      "image/png": "[encoded data removed]",
      "text/plain": [
       "<Figure size 720x360 with 1 Axes>"
      ]
     },
     "metadata": {
      "needs_background": "light"
     },
     "output_type": "display_data"
    }
   ],
   "source": [
    "plt.figure(figsize=(10,5))\n",
    "plt.title('Predicted and actual close price of USDCNY')\n",
    "plt.plot(testY , label = 'Actual', color = 'b')\n",
    "plt.plot(y_pred , label = 'Predicted', color = 'r')\n",
    "plt.legend()"
   ]
  },
  {
   "cell_type": "code",
   "execution_count": 103,
   "metadata": {
    "colab": {
     "base_uri": "https://localhost:8080/"
    },
    "id": "sCP5hR0LlCzH",
    "outputId": "cc530444-4701-46e4-be6d-df1196b545e5"
   },
   "outputs": [
    {
     "data": {
      "text/plain": [
       "0.0002610251037346049"
      ]
     },
     "execution_count": 103,
     "metadata": {},
     "output_type": "execute_result"
    }
   ],
   "source": [
    "from sklearn.metrics import mean_squared_error\n",
    "mean_squared_error(testY, y_pred)"
   ]
  },
  {
   "cell_type": "code",
   "execution_count": 104,
   "metadata": {
    "colab": {
     "base_uri": "https://localhost:8080/"
    },
    "id": "6qHwYfzolFfw",
    "outputId": "190cfabf-72b4-4f51-bdc5-99d912a9e0d8"
   },
   "outputs": [
    {
     "data": {
      "text/plain": [
       "0.011447768338750873"
      ]
     },
     "execution_count": 104,
     "metadata": {},
     "output_type": "execute_result"
    }
   ],
   "source": [
    "from sklearn.metrics import mean_absolute_error\n",
    "mean_absolute_error(testY, y_pred)"
   ]
  },
  {
   "cell_type": "code",
   "execution_count": null,
   "metadata": {},
   "outputs": [],
   "source": []
  },
  {
   "cell_type": "code",
   "execution_count": 105,
   "metadata": {},
   "outputs": [
    {
     "name": "stdout",
     "output_type": "stream",
     "text": [
      "Test R2: 0.9884286955023537\n"
     ]
    }
   ],
   "source": [
    "from sklearn.metrics import r2_score\n",
    "print(\"Test R2:\",r2_score(testY, y_pred))"
   ]
  },
  {
   "cell_type": "code",
   "execution_count": 106,
   "metadata": {},
   "outputs": [
    {
     "name": "stdout",
     "output_type": "stream",
     "text": [
      "Testing MAPE is 0.17%\n"
     ]
    }
   ],
   "source": [
    "mape_test = np.mean(np.abs((y_pred- testY) / testY)) * 100\n",
    "print('Testing MAPE is {:.2f}%'.format(mape_test))"
   ]
  },
  {
   "cell_type": "code",
   "execution_count": 107,
   "metadata": {},
   "outputs": [],
   "source": [
    "# convert an array of values into a dataset matrix\n",
    "def create_dataset(dataset, look_back=5):\n",
    "\tdataX, dataY = [], []\n",
    "\tfor i in range(len(dataset)-look_back-1):\n",
    "\t\ta = dataset[i:(i+look_back), 0]\n",
    "\t\tdataX.append(a)\n",
    "\t\tdataY.append(dataset[i + look_back, 0])\n",
    "\treturn np.array(dataX), np.array(dataY)"
   ]
  },
  {
   "cell_type": "code",
   "execution_count": 108,
   "metadata": {},
   "outputs": [],
   "source": [
    "# reshape\n",
    "look_back = 5\n",
    "trainX, trainY = create_dataset(train, look_back)\n",
    "testX, testY = create_dataset(test, look_back)"
   ]
  },
  {
   "cell_type": "code",
   "execution_count": 109,
   "metadata": {},
   "outputs": [
    {
     "name": "stdout",
     "output_type": "stream",
     "text": [
      "[[0.48866411 0.47854901 0.49337286 0.47636903 0.5103767 ]\n",
      " [0.47854901 0.49337286 0.47636903 0.5103767  0.51124869]\n",
      " [0.49337286 0.47636903 0.5103767  0.51124869 0.51866062]\n",
      " ...\n",
      " [0.7393617  0.74110569 0.74023369 0.73866411 0.73273457]\n",
      " [0.74110569 0.74023369 0.73866411 0.73273457 0.73282176]\n",
      " [0.74023369 0.73866411 0.73273457 0.73282176 0.73857691]] [0.51124869 0.51866062 0.50470875 ... 0.73282176 0.73857691 0.75095919]\n"
     ]
    }
   ],
   "source": [
    "print(trainX, trainY)"
   ]
  },
  {
   "cell_type": "code",
   "execution_count": 110,
   "metadata": {},
   "outputs": [],
   "source": [
    "# reshape input to be [samples, time steps, features]\n",
    "trainX = np.reshape(trainX, (trainX.shape[0], 1, trainX.shape[1]))\n",
    "testX = np.reshape(testX, (testX.shape[0], 1, testX.shape[1]))"
   ]
  },
  {
   "cell_type": "code",
   "execution_count": 111,
   "metadata": {},
   "outputs": [
    {
     "name": "stdout",
     "output_type": "stream",
     "text": [
      "Epoch 1/11\n",
      "2227/2227 [==============================] - 7s 2ms/step - loss: 0.0027\n",
      "Epoch 2/11\n",
      "2227/2227 [==============================] - 5s 2ms/step - loss: 3.5132e-04\n",
      "Epoch 3/11\n",
      "2227/2227 [==============================] - 5s 2ms/step - loss: 3.1298e-04\n",
      "Epoch 4/11\n",
      "2227/2227 [==============================] - 5s 2ms/step - loss: 2.8678e-04\n",
      "Epoch 5/11\n",
      "2227/2227 [==============================] - 6s 3ms/step - loss: 2.5987e-04\n",
      "Epoch 6/11\n",
      "2227/2227 [==============================] - 5s 2ms/step - loss: 2.4400e-04\n",
      "Epoch 7/11\n",
      "2227/2227 [==============================] - 5s 2ms/step - loss: 2.2878e-04\n",
      "Epoch 8/11\n",
      "2227/2227 [==============================] - 5s 2ms/step - loss: 2.3762e-04\n",
      "Epoch 9/11\n",
      "2227/2227 [==============================] - 5s 2ms/step - loss: 2.2536e-04\n",
      "Epoch 10/11\n",
      "2227/2227 [==============================] - 5s 2ms/step - loss: 2.1689e-04\n",
      "Epoch 11/11\n",
      "2227/2227 [==============================] - 5s 2ms/step - loss: 2.2723e-04\n"
     ]
    },
    {
     "data": {
      "text/plain": [
       "<keras.callbacks.History at 0x157640730>"
      ]
     },
     "execution_count": 111,
     "metadata": {},
     "output_type": "execute_result"
    }
   ],
   "source": [
    "# create and fit the LSTM network\n",
    "model = Sequential()\n",
    "model.add(LSTM(16, activation='tanh',input_shape=(1, look_back)))\n",
    "model.add(Dense(1))\n",
    "model.compile(loss='mean_squared_error', optimizer='adam')\n",
    "model.fit(trainX, trainY, epochs=11, batch_size=1)"
   ]
  },
  {
   "cell_type": "code",
   "execution_count": 112,
   "metadata": {},
   "outputs": [
    {
     "name": "stdout",
     "output_type": "stream",
     "text": [
      "Model: \"sequential_6\"\n",
      "_________________________________________________________________\n",
      "Layer (type)                 Output Shape              Param #   \n",
      "=================================================================\n",
      "lstm_6 (LSTM)                (None, 16)                1408      \n",
      "_________________________________________________________________\n",
      "dense_6 (Dense)              (None, 1)                 17        \n",
      "=================================================================\n",
      "Total params: 1,425\n",
      "Trainable params: 1,425\n",
      "Non-trainable params: 0\n",
      "_________________________________________________________________\n"
     ]
    }
   ],
   "source": [
    "model.summary()"
   ]
  },
  {
   "cell_type": "code",
   "execution_count": 113,
   "metadata": {},
   "outputs": [
    {
     "name": "stdout",
     "output_type": "stream",
     "text": [
      "[[6.9385357]\n",
      " [6.9300475]\n",
      " [6.9193726]\n",
      " [6.9203877]\n",
      " [6.925644 ]\n",
      " [6.916473 ]\n",
      " [6.905785 ]\n",
      " [6.901093 ]\n",
      " [6.8965826]\n",
      " [6.898501 ]]\n"
     ]
    }
   ],
   "source": [
    "scaler.scale_\n",
    "\n",
    "y_pred = model.predict(testX)\n",
    "y_pred = scaler.inverse_transform(y_pred)\n",
    "print(y_pred[:10])"
   ]
  },
  {
   "cell_type": "code",
   "execution_count": 114,
   "metadata": {},
   "outputs": [
    {
     "name": "stdout",
     "output_type": "stream",
     "text": [
      "[[6.9453]\n",
      " [6.9362]\n",
      " [6.9436]\n",
      " [6.9494]\n",
      " [6.9318]\n",
      " [6.9208]\n",
      " [6.9192]\n",
      " [6.9148]\n",
      " [6.9185]\n",
      " [6.9189]]\n"
     ]
    }
   ],
   "source": [
    "testY = np.array(testY).reshape(-1,1)\n",
    "testY = scaler.inverse_transform(testY)\n",
    "print(testY[:10])"
   ]
  },
  {
   "cell_type": "code",
   "execution_count": 115,
   "metadata": {},
   "outputs": [
    {
     "data": {
      "text/plain": [
       "<matplotlib.legend.Legend at 0x15797c2e0>"
      ]
     },
     "execution_count": 115,
     "metadata": {},
     "output_type": "execute_result"
    },
    {
     "data": {
      "image/png": "[encoded data removed]",
      "text/plain": [
       "<Figure size 720x360 with 1 Axes>"
      ]
     },
     "metadata": {
      "needs_background": "light"
     },
     "output_type": "display_data"
    }
   ],
   "source": [
    "plt.figure(figsize=(10,5))\n",
    "plt.title('Predicted and actual close price of USDCNY')\n",
    "plt.plot(testY , label = 'Actual', color = 'b')\n",
    "plt.plot(y_pred , label = 'Predicted', color = 'r')\n",
    "plt.legend()"
   ]
  },
  {
   "cell_type": "code",
   "execution_count": 116,
   "metadata": {},
   "outputs": [
    {
     "data": {
      "text/plain": [
       "0.0002904361420043971"
      ]
     },
     "execution_count": 116,
     "metadata": {},
     "output_type": "execute_result"
    }
   ],
   "source": [
    "from sklearn.metrics import mean_squared_error\n",
    "mean_squared_error(testY, y_pred)"
   ]
  },
  {
   "cell_type": "code",
   "execution_count": 117,
   "metadata": {},
   "outputs": [
    {
     "data": {
      "text/plain": [
       "0.012676918957609008"
      ]
     },
     "execution_count": 117,
     "metadata": {},
     "output_type": "execute_result"
    }
   ],
   "source": [
    "from sklearn.metrics import mean_absolute_error\n",
    "mean_absolute_error(testY, y_pred)"
   ]
  },
  {
   "cell_type": "code",
   "execution_count": 118,
   "metadata": {},
   "outputs": [
    {
     "name": "stdout",
     "output_type": "stream",
     "text": [
      "Test R2: 0.9859287254239936\n"
     ]
    }
   ],
   "source": [
    "from sklearn.metrics import r2_score\n",
    "print(\"Test R2:\",r2_score(testY, y_pred))"
   ]
  },
  {
   "cell_type": "code",
   "execution_count": 119,
   "metadata": {},
   "outputs": [
    {
     "name": "stdout",
     "output_type": "stream",
     "text": [
      "Testing MAPE is 0.19%\n"
     ]
    }
   ],
   "source": [
    "mape_test = np.mean(np.abs((y_pred- testY) / testY)) * 100\n",
    "print('Testing MAPE is {:.2f}%'.format(mape_test))"
   ]
  },
  {
   "cell_type": "code",
   "execution_count": 120,
   "metadata": {},
   "outputs": [],
   "source": [
    "# convert an array of values into a dataset matrix\n",
    "def create_dataset(dataset, look_back=7):\n",
    "\tdataX, dataY = [], []\n",
    "\tfor i in range(len(dataset)-look_back-1):\n",
    "\t\ta = dataset[i:(i+look_back), 0]\n",
    "\t\tdataX.append(a)\n",
    "\t\tdataY.append(dataset[i + look_back, 0])\n",
    "\treturn np.array(dataX), np.array(dataY)"
   ]
  },
  {
   "cell_type": "code",
   "execution_count": 121,
   "metadata": {},
   "outputs": [],
   "source": [
    "# reshape\n",
    "look_back = 7\n",
    "trainX, trainY = create_dataset(train, look_back)\n",
    "testX, testY = create_dataset(test, look_back)"
   ]
  },
  {
   "cell_type": "code",
   "execution_count": 122,
   "metadata": {},
   "outputs": [
    {
     "name": "stdout",
     "output_type": "stream",
     "text": [
      "[[0.48866411 0.47854901 0.49337286 ... 0.5103767  0.51124869 0.51866062]\n",
      " [0.47854901 0.49337286 0.47636903 ... 0.51124869 0.51866062 0.50470875]\n",
      " [0.49337286 0.47636903 0.5103767  ... 0.51866062 0.50470875 0.49093129]\n",
      " ...\n",
      " [0.73604813 0.73386815 0.7393617  ... 0.74023369 0.73866411 0.73273457]\n",
      " [0.73386815 0.7393617  0.74110569 ... 0.73866411 0.73273457 0.73282176]\n",
      " [0.7393617  0.74110569 0.74023369 ... 0.73273457 0.73282176 0.73857691]] [0.50470875 0.49093129 0.49223927 ... 0.73282176 0.73857691 0.75095919]\n"
     ]
    }
   ],
   "source": [
    "print(trainX, trainY)"
   ]
  },
  {
   "cell_type": "code",
   "execution_count": 123,
   "metadata": {},
   "outputs": [],
   "source": [
    "# reshape input to be [samples, time steps, features]\n",
    "trainX = np.reshape(trainX, (trainX.shape[0], 1, trainX.shape[1]))\n",
    "testX = np.reshape(testX, (testX.shape[0], 1, testX.shape[1]))"
   ]
  },
  {
   "cell_type": "code",
   "execution_count": 124,
   "metadata": {},
   "outputs": [
    {
     "name": "stdout",
     "output_type": "stream",
     "text": [
      "Epoch 1/11\n",
      "2225/2225 [==============================] - 6s 2ms/step - loss: 0.0026\n",
      "Epoch 2/11\n",
      "2225/2225 [==============================] - 4s 2ms/step - loss: 4.2332e-04\n",
      "Epoch 3/11\n",
      "2225/2225 [==============================] - 5s 2ms/step - loss: 3.5877e-04\n",
      "Epoch 4/11\n",
      "2225/2225 [==============================] - 5s 2ms/step - loss: 3.1468e-04\n",
      "Epoch 5/11\n",
      "2225/2225 [==============================] - 5s 2ms/step - loss: 2.9432e-04\n",
      "Epoch 6/11\n",
      "2225/2225 [==============================] - 4s 2ms/step - loss: 2.7910e-04\n",
      "Epoch 7/11\n",
      "2225/2225 [==============================] - 4s 2ms/step - loss: 2.6208e-04\n",
      "Epoch 8/11\n",
      "2225/2225 [==============================] - 5s 2ms/step - loss: 2.4343e-04A: 0s - loss: 2.48\n",
      "Epoch 9/11\n",
      "2225/2225 [==============================] - 5s 2ms/step - loss: 2.4774e-04\n",
      "Epoch 10/11\n",
      "2225/2225 [==============================] - 5s 2ms/step - loss: 2.3859e-04\n",
      "Epoch 11/11\n",
      "2225/2225 [==============================] - 6s 3ms/step - loss: 2.3390e-04\n"
     ]
    },
    {
     "data": {
      "text/plain": [
       "<keras.callbacks.History at 0x157b539a0>"
      ]
     },
     "execution_count": 124,
     "metadata": {},
     "output_type": "execute_result"
    }
   ],
   "source": [
    "# create and fit the LSTM network\n",
    "model = Sequential()\n",
    "model.add(LSTM(16, activation='tanh',input_shape=(1, look_back)))\n",
    "model.add(Dense(1))\n",
    "model.compile(loss='mean_squared_error', optimizer='adam')\n",
    "model.fit(trainX, trainY, epochs=11, batch_size=1)"
   ]
  },
  {
   "cell_type": "code",
   "execution_count": 125,
   "metadata": {},
   "outputs": [
    {
     "name": "stdout",
     "output_type": "stream",
     "text": [
      "Model: \"sequential_7\"\n",
      "_________________________________________________________________\n",
      "Layer (type)                 Output Shape              Param #   \n",
      "=================================================================\n",
      "lstm_7 (LSTM)                (None, 16)                1536      \n",
      "_________________________________________________________________\n",
      "dense_7 (Dense)              (None, 1)                 17        \n",
      "=================================================================\n",
      "Total params: 1,553\n",
      "Trainable params: 1,553\n",
      "Non-trainable params: 0\n",
      "_________________________________________________________________\n"
     ]
    }
   ],
   "source": [
    "model.summary()"
   ]
  },
  {
   "cell_type": "code",
   "execution_count": 126,
   "metadata": {},
   "outputs": [
    {
     "name": "stdout",
     "output_type": "stream",
     "text": [
      "[[6.9200335]\n",
      " [6.918768 ]\n",
      " [6.9204373]\n",
      " [6.91305  ]\n",
      " [6.9043465]\n",
      " [6.8997054]\n",
      " [6.8943787]\n",
      " [6.8933325]\n",
      " [6.8952203]\n",
      " [6.8931203]]\n"
     ]
    }
   ],
   "source": [
    "scaler.scale_\n",
    "\n",
    "y_pred = model.predict(testX)\n",
    "y_pred = scaler.inverse_transform(y_pred)\n",
    "print(y_pred[:10])"
   ]
  },
  {
   "cell_type": "code",
   "execution_count": 127,
   "metadata": {},
   "outputs": [
    {
     "name": "stdout",
     "output_type": "stream",
     "text": [
      "[[6.9436]\n",
      " [6.9494]\n",
      " [6.9318]\n",
      " [6.9208]\n",
      " [6.9192]\n",
      " [6.9148]\n",
      " [6.9185]\n",
      " [6.9189]\n",
      " [6.9119]\n",
      " [6.8849]]\n"
     ]
    }
   ],
   "source": [
    "testY = np.array(testY).reshape(-1,1)\n",
    "testY = scaler.inverse_transform(testY)\n",
    "print(testY[:10])"
   ]
  },
  {
   "cell_type": "code",
   "execution_count": 128,
   "metadata": {},
   "outputs": [
    {
     "data": {
      "text/plain": [
       "<matplotlib.legend.Legend at 0x157dc8f70>"
      ]
     },
     "execution_count": 128,
     "metadata": {},
     "output_type": "execute_result"
    },
    {
     "data": {
      "image/png": "[encoded data removed]",
      "text/plain": [
       "<Figure size 720x360 with 1 Axes>"
      ]
     },
     "metadata": {
      "needs_background": "light"
     },
     "output_type": "display_data"
    }
   ],
   "source": [
    "plt.figure(figsize=(10,5))\n",
    "plt.title('Predicted and actual close price of USDCNY')\n",
    "plt.plot(testY , label = 'Actual', color = 'b')\n",
    "plt.plot(y_pred , label = 'Predicted', color = 'r')\n",
    "plt.legend()"
   ]
  },
  {
   "cell_type": "code",
   "execution_count": 129,
   "metadata": {},
   "outputs": [
    {
     "data": {
      "text/plain": [
       "0.00033502502277785683"
      ]
     },
     "execution_count": 129,
     "metadata": {},
     "output_type": "execute_result"
    }
   ],
   "source": [
    "from sklearn.metrics import mean_squared_error\n",
    "mean_squared_error(testY, y_pred)"
   ]
  },
  {
   "cell_type": "code",
   "execution_count": 130,
   "metadata": {},
   "outputs": [
    {
     "data": {
      "text/plain": [
       "0.01399870482722775"
      ]
     },
     "execution_count": 130,
     "metadata": {},
     "output_type": "execute_result"
    }
   ],
   "source": [
    "from sklearn.metrics import mean_absolute_error\n",
    "mean_absolute_error(testY, y_pred)"
   ]
  },
  {
   "cell_type": "code",
   "execution_count": 131,
   "metadata": {},
   "outputs": [
    {
     "name": "stdout",
     "output_type": "stream",
     "text": [
      "Test R2: 0.9830030697334917\n"
     ]
    }
   ],
   "source": [
    "from sklearn.metrics import r2_score\n",
    "print(\"Test R2:\",r2_score(testY, y_pred))"
   ]
  },
  {
   "cell_type": "code",
   "execution_count": 132,
   "metadata": {},
   "outputs": [
    {
     "name": "stdout",
     "output_type": "stream",
     "text": [
      "Testing MAPE is 0.21%\n"
     ]
    }
   ],
   "source": [
    "mape_test = np.mean(np.abs((y_pred- testY) / testY)) * 100\n",
    "print('Testing MAPE is {:.2f}%'.format(mape_test))"
   ]
  },
  {
   "cell_type": "code",
   "execution_count": 133,
   "metadata": {},
   "outputs": [],
   "source": [
    "# convert an array of values into a dataset matrix\n",
    "def create_dataset(dataset, look_back=3):\n",
    "\tdataX, dataY = [], []\n",
    "\tfor i in range(len(dataset)-look_back-1):\n",
    "\t\ta = dataset[i:(i+look_back), 0]\n",
    "\t\tdataX.append(a)\n",
    "\t\tdataY.append(dataset[i + look_back, 0])\n",
    "\treturn np.array(dataX), np.array(dataY)"
   ]
  },
  {
   "cell_type": "code",
   "execution_count": 134,
   "metadata": {},
   "outputs": [],
   "source": [
    "# reshape\n",
    "look_back = 3\n",
    "trainX, trainY = create_dataset(train, look_back)\n",
    "testX, testY = create_dataset(test, look_back)"
   ]
  },
  {
   "cell_type": "code",
   "execution_count": 135,
   "metadata": {},
   "outputs": [
    {
     "name": "stdout",
     "output_type": "stream",
     "text": [
      "[[0.48866411 0.47854901 0.49337286]\n",
      " [0.47854901 0.49337286 0.47636903]\n",
      " [0.49337286 0.47636903 0.5103767 ]\n",
      " ...\n",
      " [0.74023369 0.73866411 0.73273457]\n",
      " [0.73866411 0.73273457 0.73282176]\n",
      " [0.73273457 0.73282176 0.73857691]] [0.47636903 0.5103767  0.51124869 ... 0.73282176 0.73857691 0.75095919]\n"
     ]
    }
   ],
   "source": [
    "print(trainX, trainY)"
   ]
  },
  {
   "cell_type": "code",
   "execution_count": 136,
   "metadata": {},
   "outputs": [],
   "source": [
    "# reshape input to be [samples, time steps, features]\n",
    "trainX = np.reshape(trainX, (trainX.shape[0], 1, trainX.shape[1]))\n",
    "testX = np.reshape(testX, (testX.shape[0], 1, testX.shape[1]))"
   ]
  },
  {
   "cell_type": "code",
   "execution_count": 137,
   "metadata": {},
   "outputs": [
    {
     "name": "stdout",
     "output_type": "stream",
     "text": [
      "Epoch 1/11\n",
      "2229/2229 [==============================] - 7s 2ms/step - loss: 0.0040\n",
      "Epoch 2/11\n",
      "2229/2229 [==============================] - 6s 3ms/step - loss: 2.5037e-04\n",
      "Epoch 3/11\n",
      "2229/2229 [==============================] - 5s 2ms/step - loss: 2.4387e-04\n",
      "Epoch 4/11\n",
      "2229/2229 [==============================] - 5s 2ms/step - loss: 2.3160e-04A: 0s - \n",
      "Epoch 5/11\n",
      "2229/2229 [==============================] - 6s 3ms/step - loss: 2.2061e-04\n",
      "Epoch 6/11\n",
      "2229/2229 [==============================] - 5s 2ms/step - loss: 2.2901e-04A: 0s - loss: 2.\n",
      "Epoch 7/11\n",
      "2229/2229 [==============================] - 5s 2ms/step - loss: 2.2743e-04\n",
      "Epoch 8/11\n",
      "2229/2229 [==============================] - 6s 3ms/step - loss: 2.2006e-04A: 0s - loss: 2.2092 - ETA: 0s - loss\n",
      "Epoch 9/11\n",
      "2229/2229 [==============================] - 5s 2ms/step - loss: 2.1687e-04\n",
      "Epoch 10/11\n",
      "2229/2229 [==============================] - 5s 2ms/step - loss: 2.1119e-04\n",
      "Epoch 11/11\n",
      "2229/2229 [==============================] - 5s 2ms/step - loss: 2.0613e-04\n"
     ]
    },
    {
     "data": {
      "text/plain": [
       "<keras.callbacks.History at 0x157f8a970>"
      ]
     },
     "execution_count": 137,
     "metadata": {},
     "output_type": "execute_result"
    }
   ],
   "source": [
    "# create and fit the LSTM network\n",
    "model = Sequential()\n",
    "model.add(LSTM(16, activation='tanh',input_shape=(1, look_back)))\n",
    "model.add(Dense(1))\n",
    "model.compile(loss='mean_squared_error', optimizer='adam')\n",
    "model.fit(trainX, trainY, epochs=11, batch_size=1)"
   ]
  },
  {
   "cell_type": "code",
   "execution_count": 138,
   "metadata": {},
   "outputs": [
    {
     "name": "stdout",
     "output_type": "stream",
     "text": [
      "Model: \"sequential_8\"\n",
      "_________________________________________________________________\n",
      "Layer (type)                 Output Shape              Param #   \n",
      "=================================================================\n",
      "lstm_8 (LSTM)                (None, 16)                1280      \n",
      "_________________________________________________________________\n",
      "dense_8 (Dense)              (None, 1)                 17        \n",
      "=================================================================\n",
      "Total params: 1,297\n",
      "Trainable params: 1,297\n",
      "Non-trainable params: 0\n",
      "_________________________________________________________________\n"
     ]
    }
   ],
   "source": [
    "model.summary()"
   ]
  },
  {
   "cell_type": "code",
   "execution_count": 139,
   "metadata": {},
   "outputs": [
    {
     "name": "stdout",
     "output_type": "stream",
     "text": [
      "[[6.9262986]\n",
      " [6.93677  ]\n",
      " [6.9380956]\n",
      " [6.9283495]\n",
      " [6.9185247]\n",
      " [6.919482 ]\n",
      " [6.9241667]\n",
      " [6.9156985]\n",
      " [6.9050384]\n",
      " [6.899952 ]]\n"
     ]
    }
   ],
   "source": [
    "scaler.scale_\n",
    "\n",
    "y_pred = model.predict(testX)\n",
    "y_pred = scaler.inverse_transform(y_pred)\n",
    "print(y_pred[:10])"
   ]
  },
  {
   "cell_type": "code",
   "execution_count": 140,
   "metadata": {},
   "outputs": [
    {
     "name": "stdout",
     "output_type": "stream",
     "text": [
      "[[6.967 ]\n",
      " [6.9608]\n",
      " [6.9453]\n",
      " [6.9362]\n",
      " [6.9436]\n",
      " [6.9494]\n",
      " [6.9318]\n",
      " [6.9208]\n",
      " [6.9192]\n",
      " [6.9148]]\n"
     ]
    }
   ],
   "source": [
    "testY = np.array(testY).reshape(-1,1)\n",
    "testY = scaler.inverse_transform(testY)\n",
    "print(testY[:10])"
   ]
  },
  {
   "cell_type": "code",
   "execution_count": 141,
   "metadata": {},
   "outputs": [
    {
     "data": {
      "text/plain": [
       "<matplotlib.legend.Legend at 0x1582524c0>"
      ]
     },
     "execution_count": 141,
     "metadata": {},
     "output_type": "execute_result"
    },
    {
     "data": {
      "image/png": "[encoded data removed]",
      "text/plain": [
       "<Figure size 720x360 with 1 Axes>"
      ]
     },
     "metadata": {
      "needs_background": "light"
     },
     "output_type": "display_data"
    }
   ],
   "source": [
    "plt.figure(figsize=(10,5))\n",
    "plt.title('Predicted and actual close price of USDCNY')\n",
    "plt.plot(testY , label = 'Actual', color = 'b')\n",
    "plt.plot(y_pred , label = 'Predicted', color = 'r')\n",
    "plt.legend()"
   ]
  },
  {
   "cell_type": "code",
   "execution_count": 142,
   "metadata": {
    "scrolled": true
   },
   "outputs": [
    {
     "name": "stdout",
     "output_type": "stream",
     "text": [
      "Test R2: 0.9845202045906686\n"
     ]
    }
   ],
   "source": [
    "from sklearn.metrics import r2_score\n",
    "print(\"Test R2:\",r2_score(testY, y_pred))"
   ]
  },
  {
   "cell_type": "code",
   "execution_count": 143,
   "metadata": {},
   "outputs": [
    {
     "data": {
      "text/plain": [
       "0.01413011311479051"
      ]
     },
     "execution_count": 143,
     "metadata": {},
     "output_type": "execute_result"
    }
   ],
   "source": [
    "from sklearn.metrics import mean_absolute_error\n",
    "mean_absolute_error(testY, y_pred)"
   ]
  },
  {
   "cell_type": "code",
   "execution_count": 144,
   "metadata": {},
   "outputs": [
    {
     "data": {
      "text/plain": [
       "0.0003354792109473751"
      ]
     },
     "execution_count": 144,
     "metadata": {},
     "output_type": "execute_result"
    }
   ],
   "source": [
    "from sklearn.metrics import mean_squared_error\n",
    "mean_squared_error(testY, y_pred)"
   ]
  },
  {
   "cell_type": "code",
   "execution_count": 145,
   "metadata": {},
   "outputs": [
    {
     "name": "stdout",
     "output_type": "stream",
     "text": [
      "Testing MAPE is 0.21%\n"
     ]
    }
   ],
   "source": [
    "mape_test = np.mean(np.abs((y_pred- testY) / testY)) * 100\n",
    "print('Testing MAPE is {:.2f}%'.format(mape_test))"
   ]
  },
  {
   "cell_type": "code",
   "execution_count": null,
   "metadata": {},
   "outputs": [],
   "source": []
  }
 ],
 "metadata": {
  "colab": {
   "collapsed_sections": [],
   "name": "LSTM look back=3.ipynb",
   "provenance": []
  },
  "kernelspec": {
   "display_name": "Python 3",
   "language": "python",
   "name": "python3"
  },
  "language_info": {
   "codemirror_mode": {
    "name": "ipython",
    "version": 3
   },
   "file_extension": ".py",
   "mimetype": "text/x-python",
   "name": "python",
   "nbconvert_exporter": "python",
   "pygments_lexer": "ipython3",
   "version": "3.8.8"
  }
 },
 "nbformat": 4,
 "nbformat_minor": 1
}
