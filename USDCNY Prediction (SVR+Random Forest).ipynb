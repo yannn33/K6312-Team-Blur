{
 "cells": [
  {
   "cell_type": "code",
   "execution_count": 1,
   "id": "3fb50f38",
   "metadata": {
    "ExecuteTime": {
     "end_time": "2021-11-23T12:26:24.854318Z",
     "start_time": "2021-11-23T12:26:24.811433Z"
    }
   },
   "outputs": [],
   "source": [
    "import pandas as pd\n",
    "import numpy as np\n",
    "import matplotlib.pyplot as plt\n",
    "import seaborn as sns; sns.set()\n",
    "%matplotlib inline"
   ]
  },
  {
   "cell_type": "code",
   "execution_count": 2,
   "id": "5f827e4d",
   "metadata": {
    "ExecuteTime": {
     "end_time": "2021-11-23T12:26:27.855194Z",
     "start_time": "2021-11-23T12:26:27.744766Z"
    }
   },
   "outputs": [
    {
     "data": {
      "text/html": [
       "<div>\n",
       "<style scoped>\n",
       "    .dataframe tbody tr th:only-of-type {\n",
       "        vertical-align: middle;\n",
       "    }\n",
       "\n",
       "    .dataframe tbody tr th {\n",
       "        vertical-align: top;\n",
       "    }\n",
       "\n",
       "    .dataframe thead th {\n",
       "        text-align: right;\n",
       "    }\n",
       "</style>\n",
       "<table border=\"1\" class=\"dataframe\">\n",
       "  <thead>\n",
       "    <tr style=\"text-align: right;\">\n",
       "      <th></th>\n",
       "      <th>slug</th>\n",
       "      <th>date</th>\n",
       "      <th>open</th>\n",
       "      <th>high</th>\n",
       "      <th>low</th>\n",
       "      <th>close</th>\n",
       "      <th>currency</th>\n",
       "    </tr>\n",
       "  </thead>\n",
       "  <tbody>\n",
       "    <tr>\n",
       "      <th>0</th>\n",
       "      <td>USD/CNY</td>\n",
       "      <td>2011/1/3</td>\n",
       "      <td>6.5800</td>\n",
       "      <td>6.5800</td>\n",
       "      <td>6.5800</td>\n",
       "      <td>6.5916</td>\n",
       "      <td>CNY</td>\n",
       "    </tr>\n",
       "    <tr>\n",
       "      <th>1</th>\n",
       "      <td>USD/CNY</td>\n",
       "      <td>2011/1/4</td>\n",
       "      <td>6.5988</td>\n",
       "      <td>6.6000</td>\n",
       "      <td>6.5970</td>\n",
       "      <td>6.5800</td>\n",
       "      <td>CNY</td>\n",
       "    </tr>\n",
       "    <tr>\n",
       "      <th>2</th>\n",
       "      <td>USD/CNY</td>\n",
       "      <td>2011/1/5</td>\n",
       "      <td>6.6112</td>\n",
       "      <td>6.6112</td>\n",
       "      <td>6.5775</td>\n",
       "      <td>6.5970</td>\n",
       "      <td>CNY</td>\n",
       "    </tr>\n",
       "    <tr>\n",
       "      <th>3</th>\n",
       "      <td>USD/CNY</td>\n",
       "      <td>2011/1/6</td>\n",
       "      <td>6.6134</td>\n",
       "      <td>6.6165</td>\n",
       "      <td>6.6134</td>\n",
       "      <td>6.5775</td>\n",
       "      <td>CNY</td>\n",
       "    </tr>\n",
       "    <tr>\n",
       "      <th>4</th>\n",
       "      <td>USD/CNY</td>\n",
       "      <td>2011/1/7</td>\n",
       "      <td>6.6209</td>\n",
       "      <td>6.6209</td>\n",
       "      <td>6.6175</td>\n",
       "      <td>6.6165</td>\n",
       "      <td>CNY</td>\n",
       "    </tr>\n",
       "  </tbody>\n",
       "</table>\n",
       "</div>"
      ],
      "text/plain": [
       "      slug      date    open    high     low   close currency\n",
       "0  USD/CNY  2011/1/3  6.5800  6.5800  6.5800  6.5916      CNY\n",
       "1  USD/CNY  2011/1/4  6.5988  6.6000  6.5970  6.5800      CNY\n",
       "2  USD/CNY  2011/1/5  6.6112  6.6112  6.5775  6.5970      CNY\n",
       "3  USD/CNY  2011/1/6  6.6134  6.6165  6.6134  6.5775      CNY\n",
       "4  USD/CNY  2011/1/7  6.6209  6.6209  6.6175  6.6165      CNY"
      ]
     },
     "execution_count": 2,
     "metadata": {},
     "output_type": "execute_result"
    }
   ],
   "source": [
    "from pandas import read_csv\n",
    "er = pd.read_csv(\"USDCNY(2011-2021).csv\", header=0)\n",
    "er.head(5)"
   ]
  },
  {
   "cell_type": "code",
   "execution_count": 3,
   "id": "ef6fbe86",
   "metadata": {
    "ExecuteTime": {
     "end_time": "2021-11-23T12:26:30.152158Z",
     "start_time": "2021-11-23T12:26:30.119336Z"
    }
   },
   "outputs": [],
   "source": [
    "er.date = pd.to_datetime(er.date)\n",
    "er.set_index(\"date\", inplace=True)"
   ]
  },
  {
   "cell_type": "code",
   "execution_count": 4,
   "id": "75de7bae",
   "metadata": {
    "ExecuteTime": {
     "end_time": "2021-11-23T12:26:32.147699Z",
     "start_time": "2021-11-23T12:26:32.089897Z"
    }
   },
   "outputs": [
    {
     "data": {
      "text/html": [
       "<div>\n",
       "<style scoped>\n",
       "    .dataframe tbody tr th:only-of-type {\n",
       "        vertical-align: middle;\n",
       "    }\n",
       "\n",
       "    .dataframe tbody tr th {\n",
       "        vertical-align: top;\n",
       "    }\n",
       "\n",
       "    .dataframe thead th {\n",
       "        text-align: right;\n",
       "    }\n",
       "</style>\n",
       "<table border=\"1\" class=\"dataframe\">\n",
       "  <thead>\n",
       "    <tr style=\"text-align: right;\">\n",
       "      <th></th>\n",
       "      <th>slug</th>\n",
       "      <th>open</th>\n",
       "      <th>high</th>\n",
       "      <th>low</th>\n",
       "      <th>close</th>\n",
       "      <th>currency</th>\n",
       "    </tr>\n",
       "    <tr>\n",
       "      <th>date</th>\n",
       "      <th></th>\n",
       "      <th></th>\n",
       "      <th></th>\n",
       "      <th></th>\n",
       "      <th></th>\n",
       "      <th></th>\n",
       "    </tr>\n",
       "  </thead>\n",
       "  <tbody>\n",
       "    <tr>\n",
       "      <th>2011-01-03</th>\n",
       "      <td>USD/CNY</td>\n",
       "      <td>6.5800</td>\n",
       "      <td>6.5800</td>\n",
       "      <td>6.5800</td>\n",
       "      <td>6.5916</td>\n",
       "      <td>CNY</td>\n",
       "    </tr>\n",
       "    <tr>\n",
       "      <th>2011-01-04</th>\n",
       "      <td>USD/CNY</td>\n",
       "      <td>6.5988</td>\n",
       "      <td>6.6000</td>\n",
       "      <td>6.5970</td>\n",
       "      <td>6.5800</td>\n",
       "      <td>CNY</td>\n",
       "    </tr>\n",
       "    <tr>\n",
       "      <th>2011-01-05</th>\n",
       "      <td>USD/CNY</td>\n",
       "      <td>6.6112</td>\n",
       "      <td>6.6112</td>\n",
       "      <td>6.5775</td>\n",
       "      <td>6.5970</td>\n",
       "      <td>CNY</td>\n",
       "    </tr>\n",
       "    <tr>\n",
       "      <th>2011-01-06</th>\n",
       "      <td>USD/CNY</td>\n",
       "      <td>6.6134</td>\n",
       "      <td>6.6165</td>\n",
       "      <td>6.6134</td>\n",
       "      <td>6.5775</td>\n",
       "      <td>CNY</td>\n",
       "    </tr>\n",
       "    <tr>\n",
       "      <th>2011-01-07</th>\n",
       "      <td>USD/CNY</td>\n",
       "      <td>6.6209</td>\n",
       "      <td>6.6209</td>\n",
       "      <td>6.6175</td>\n",
       "      <td>6.6165</td>\n",
       "      <td>CNY</td>\n",
       "    </tr>\n",
       "  </tbody>\n",
       "</table>\n",
       "</div>"
      ],
      "text/plain": [
       "               slug    open    high     low   close currency\n",
       "date                                                        \n",
       "2011-01-03  USD/CNY  6.5800  6.5800  6.5800  6.5916      CNY\n",
       "2011-01-04  USD/CNY  6.5988  6.6000  6.5970  6.5800      CNY\n",
       "2011-01-05  USD/CNY  6.6112  6.6112  6.5775  6.5970      CNY\n",
       "2011-01-06  USD/CNY  6.6134  6.6165  6.6134  6.5775      CNY\n",
       "2011-01-07  USD/CNY  6.6209  6.6209  6.6175  6.6165      CNY"
      ]
     },
     "execution_count": 4,
     "metadata": {},
     "output_type": "execute_result"
    }
   ],
   "source": [
    "er.head()"
   ]
  },
  {
   "cell_type": "code",
   "execution_count": 5,
   "id": "5185a6ef",
   "metadata": {
    "ExecuteTime": {
     "end_time": "2021-11-23T12:26:34.376848Z",
     "start_time": "2021-11-23T12:26:34.312598Z"
    }
   },
   "outputs": [
    {
     "data": {
      "text/html": [
       "<div>\n",
       "<style scoped>\n",
       "    .dataframe tbody tr th:only-of-type {\n",
       "        vertical-align: middle;\n",
       "    }\n",
       "\n",
       "    .dataframe tbody tr th {\n",
       "        vertical-align: top;\n",
       "    }\n",
       "\n",
       "    .dataframe thead th {\n",
       "        text-align: right;\n",
       "    }\n",
       "</style>\n",
       "<table border=\"1\" class=\"dataframe\">\n",
       "  <thead>\n",
       "    <tr style=\"text-align: right;\">\n",
       "      <th></th>\n",
       "      <th>slug</th>\n",
       "      <th>open</th>\n",
       "      <th>high</th>\n",
       "      <th>low</th>\n",
       "      <th>close</th>\n",
       "      <th>currency</th>\n",
       "    </tr>\n",
       "    <tr>\n",
       "      <th>date</th>\n",
       "      <th></th>\n",
       "      <th></th>\n",
       "      <th></th>\n",
       "      <th></th>\n",
       "      <th></th>\n",
       "      <th></th>\n",
       "    </tr>\n",
       "  </thead>\n",
       "  <tbody>\n",
       "    <tr>\n",
       "      <th>2021-08-24</th>\n",
       "      <td>USD/CNY</td>\n",
       "      <td>6.4800</td>\n",
       "      <td>6.4832</td>\n",
       "      <td>6.4686</td>\n",
       "      <td>6.4800</td>\n",
       "      <td>CNY</td>\n",
       "    </tr>\n",
       "    <tr>\n",
       "      <th>2021-08-25</th>\n",
       "      <td>USD/CNY</td>\n",
       "      <td>6.4699</td>\n",
       "      <td>6.4783</td>\n",
       "      <td>6.4675</td>\n",
       "      <td>6.4699</td>\n",
       "      <td>CNY</td>\n",
       "    </tr>\n",
       "    <tr>\n",
       "      <th>2021-08-26</th>\n",
       "      <td>USD/CNY</td>\n",
       "      <td>6.4749</td>\n",
       "      <td>6.4856</td>\n",
       "      <td>6.4725</td>\n",
       "      <td>6.4749</td>\n",
       "      <td>CNY</td>\n",
       "    </tr>\n",
       "    <tr>\n",
       "      <th>2021-08-27</th>\n",
       "      <td>USD/CNY</td>\n",
       "      <td>6.4805</td>\n",
       "      <td>6.4867</td>\n",
       "      <td>6.4694</td>\n",
       "      <td>6.4805</td>\n",
       "      <td>CNY</td>\n",
       "    </tr>\n",
       "    <tr>\n",
       "      <th>2021-08-30</th>\n",
       "      <td>USD/CNY</td>\n",
       "      <td>6.4711</td>\n",
       "      <td>6.4717</td>\n",
       "      <td>6.4620</td>\n",
       "      <td>6.4658</td>\n",
       "      <td>CNY</td>\n",
       "    </tr>\n",
       "  </tbody>\n",
       "</table>\n",
       "</div>"
      ],
      "text/plain": [
       "               slug    open    high     low   close currency\n",
       "date                                                        \n",
       "2021-08-24  USD/CNY  6.4800  6.4832  6.4686  6.4800      CNY\n",
       "2021-08-25  USD/CNY  6.4699  6.4783  6.4675  6.4699      CNY\n",
       "2021-08-26  USD/CNY  6.4749  6.4856  6.4725  6.4749      CNY\n",
       "2021-08-27  USD/CNY  6.4805  6.4867  6.4694  6.4805      CNY\n",
       "2021-08-30  USD/CNY  6.4711  6.4717  6.4620  6.4658      CNY"
      ]
     },
     "execution_count": 5,
     "metadata": {},
     "output_type": "execute_result"
    }
   ],
   "source": [
    "er.tail()"
   ]
  },
  {
   "cell_type": "code",
   "execution_count": 6,
   "id": "f0a2acb2",
   "metadata": {
    "ExecuteTime": {
     "end_time": "2021-11-23T12:26:37.361315Z",
     "start_time": "2021-11-23T12:26:37.346066Z"
    }
   },
   "outputs": [],
   "source": [
    "er_price = er[['close']]"
   ]
  },
  {
   "cell_type": "code",
   "execution_count": 7,
   "id": "9baad304",
   "metadata": {
    "ExecuteTime": {
     "end_time": "2021-11-23T12:26:38.523735Z",
     "start_time": "2021-11-23T12:26:38.510770Z"
    }
   },
   "outputs": [],
   "source": [
    "valid_start = '2019-8-1'\n",
    "test_start =  '2020-8-3'"
   ]
  },
  {
   "cell_type": "code",
   "execution_count": 8,
   "id": "5307d1b6",
   "metadata": {
    "ExecuteTime": {
     "end_time": "2021-11-23T12:26:40.978206Z",
     "start_time": "2021-11-23T12:26:39.695601Z"
    }
   },
   "outputs": [
    {
     "data": {
      "image/png": "[encoded data removed]",
      "text/plain": [
       "<Figure size 864x360 with 1 Axes>"
      ]
     },
     "metadata": {
      "needs_background": "light"
     },
     "output_type": "display_data"
    }
   ],
   "source": [
    "er_price[: valid_start][['close']].rename(columns={'close':'train'}) \\\n",
    "    .join(er_price[valid_start: test_start][['close']] \\\n",
    "          .rename(columns={'close':'validation'}), how='outer') \\\n",
    "    .join(er_price[test_start:][['close']].rename(columns={'close':'test'}), how='outer') \\\n",
    "    .plot(y=['train', 'validation', 'test'], figsize=(12, 5), fontsize=12)\n",
    "plt.xlabel('Time', fontsize=15)\n",
    "plt.ylabel('USD/CNY Daily Price', fontsize=12)\n",
    "plt.show()"
   ]
  },
  {
   "cell_type": "markdown",
   "id": "46393f32",
   "metadata": {},
   "source": [
    "# SVR model when K=1"
   ]
  },
  {
   "cell_type": "code",
   "execution_count": 9,
   "id": "38e59a32",
   "metadata": {
    "ExecuteTime": {
     "end_time": "2021-11-23T12:26:43.367698Z",
     "start_time": "2021-11-23T12:26:43.356121Z"
    }
   },
   "outputs": [],
   "source": [
    "K = 1\n",
    "HORIZON = 1"
   ]
  },
  {
   "cell_type": "code",
   "execution_count": 10,
   "id": "b4faedc3",
   "metadata": {
    "ExecuteTime": {
     "end_time": "2021-11-23T12:26:44.987342Z",
     "start_time": "2021-11-23T12:26:44.971311Z"
    }
   },
   "outputs": [],
   "source": [
    "train_er = er_price[:valid_start].copy()"
   ]
  },
  {
   "cell_type": "code",
   "execution_count": 11,
   "id": "e29be17e",
   "metadata": {
    "ExecuteTime": {
     "end_time": "2021-11-23T12:26:47.840624Z",
     "start_time": "2021-11-23T12:26:46.663937Z"
    }
   },
   "outputs": [
    {
     "name": "stdout",
     "output_type": "stream",
     "text": [
      "               close\n",
      "date                \n",
      "2011-01-03  0.593959\n",
      "2011-01-04  0.581664\n",
      "2019-07-31  0.903445\n",
      "2019-08-01  0.903233\n"
     ]
    },
    {
     "data": {
      "image/png": "[encoded data removed]",
      "text/plain": [
       "<Figure size 432x288 with 1 Axes>"
      ]
     },
     "metadata": {
      "needs_background": "light"
     },
     "output_type": "display_data"
    }
   ],
   "source": [
    "from sklearn.preprocessing import MinMaxScaler\n",
    "scaler = MinMaxScaler()\n",
    "train_er['close'] = scaler.fit_transform(train_er)\n",
    "print(train_er.head(2).append(train_er.tail(2)))\n",
    "train_er.rename(columns={'close':'after scaling'}).plot.hist(bins=100, fontsize=12)\n",
    "plt.show()"
   ]
  },
  {
   "cell_type": "code",
   "execution_count": 12,
   "id": "1350bdb9",
   "metadata": {
    "ExecuteTime": {
     "end_time": "2021-11-23T12:26:50.776511Z",
     "start_time": "2021-11-23T12:26:50.710691Z"
    }
   },
   "outputs": [
    {
     "data": {
      "text/html": [
       "<div>\n",
       "<style scoped>\n",
       "    .dataframe tbody tr th:only-of-type {\n",
       "        vertical-align: middle;\n",
       "    }\n",
       "\n",
       "    .dataframe tbody tr th {\n",
       "        vertical-align: top;\n",
       "    }\n",
       "\n",
       "    .dataframe thead th {\n",
       "        text-align: right;\n",
       "    }\n",
       "</style>\n",
       "<table border=\"1\" class=\"dataframe\">\n",
       "  <thead>\n",
       "    <tr style=\"text-align: right;\">\n",
       "      <th></th>\n",
       "      <th>close</th>\n",
       "      <th>close_t+1</th>\n",
       "    </tr>\n",
       "    <tr>\n",
       "      <th>date</th>\n",
       "      <th></th>\n",
       "      <th></th>\n",
       "    </tr>\n",
       "  </thead>\n",
       "  <tbody>\n",
       "    <tr>\n",
       "      <th>2011-01-03</th>\n",
       "      <td>0.593959</td>\n",
       "      <td>0.581664</td>\n",
       "    </tr>\n",
       "    <tr>\n",
       "      <th>2011-01-04</th>\n",
       "      <td>0.581664</td>\n",
       "      <td>0.599682</td>\n",
       "    </tr>\n",
       "  </tbody>\n",
       "</table>\n",
       "</div>"
      ],
      "text/plain": [
       "               close  close_t+1\n",
       "date                           \n",
       "2011-01-03  0.593959   0.581664\n",
       "2011-01-04  0.581664   0.599682"
      ]
     },
     "execution_count": 12,
     "metadata": {},
     "output_type": "execute_result"
    }
   ],
   "source": [
    "train_shifted = train_er\n",
    "train_shifted['close_t+1'] = train_er['close'].shift(-1)\n",
    "train_shifted.head(2)"
   ]
  },
  {
   "cell_type": "code",
   "execution_count": 13,
   "id": "5b77fbe0",
   "metadata": {
    "ExecuteTime": {
     "end_time": "2021-11-23T12:26:53.191778Z",
     "start_time": "2021-11-23T12:26:53.114798Z"
    }
   },
   "outputs": [
    {
     "data": {
      "text/html": [
       "<div>\n",
       "<style scoped>\n",
       "    .dataframe tbody tr th:only-of-type {\n",
       "        vertical-align: middle;\n",
       "    }\n",
       "\n",
       "    .dataframe tbody tr th {\n",
       "        vertical-align: top;\n",
       "    }\n",
       "\n",
       "    .dataframe thead th {\n",
       "        text-align: right;\n",
       "    }\n",
       "</style>\n",
       "<table border=\"1\" class=\"dataframe\">\n",
       "  <thead>\n",
       "    <tr style=\"text-align: right;\">\n",
       "      <th></th>\n",
       "      <th>close</th>\n",
       "      <th>close_t+1</th>\n",
       "      <th>close_t-0</th>\n",
       "    </tr>\n",
       "    <tr>\n",
       "      <th>date</th>\n",
       "      <th></th>\n",
       "      <th></th>\n",
       "      <th></th>\n",
       "    </tr>\n",
       "  </thead>\n",
       "  <tbody>\n",
       "    <tr>\n",
       "      <th>2011-01-03</th>\n",
       "      <td>0.593959</td>\n",
       "      <td>0.581664</td>\n",
       "      <td>0.593959</td>\n",
       "    </tr>\n",
       "    <tr>\n",
       "      <th>2011-01-04</th>\n",
       "      <td>0.581664</td>\n",
       "      <td>0.599682</td>\n",
       "      <td>0.581664</td>\n",
       "    </tr>\n",
       "    <tr>\n",
       "      <th>2011-01-05</th>\n",
       "      <td>0.599682</td>\n",
       "      <td>0.579014</td>\n",
       "      <td>0.599682</td>\n",
       "    </tr>\n",
       "    <tr>\n",
       "      <th>2011-01-06</th>\n",
       "      <td>0.579014</td>\n",
       "      <td>0.620350</td>\n",
       "      <td>0.579014</td>\n",
       "    </tr>\n",
       "    <tr>\n",
       "      <th>2011-01-07</th>\n",
       "      <td>0.620350</td>\n",
       "      <td>0.621410</td>\n",
       "      <td>0.620350</td>\n",
       "    </tr>\n",
       "  </tbody>\n",
       "</table>\n",
       "</div>"
      ],
      "text/plain": [
       "               close  close_t+1  close_t-0\n",
       "date                                      \n",
       "2011-01-03  0.593959   0.581664   0.593959\n",
       "2011-01-04  0.581664   0.599682   0.581664\n",
       "2011-01-05  0.599682   0.579014   0.599682\n",
       "2011-01-06  0.579014   0.620350   0.579014\n",
       "2011-01-07  0.620350   0.621410   0.620350"
      ]
     },
     "execution_count": 13,
     "metadata": {},
     "output_type": "execute_result"
    }
   ],
   "source": [
    "for t in range(K):\n",
    "    train_shifted['close_t-{}'.format(t)] = train_shifted['close'].shift(t)\n",
    "train_shifted.head()"
   ]
  },
  {
   "cell_type": "code",
   "execution_count": 14,
   "id": "46bade2f",
   "metadata": {
    "ExecuteTime": {
     "end_time": "2021-11-23T12:27:00.865289Z",
     "start_time": "2021-11-23T12:27:00.806448Z"
    }
   },
   "outputs": [
    {
     "data": {
      "text/html": [
       "<div>\n",
       "<style scoped>\n",
       "    .dataframe tbody tr th:only-of-type {\n",
       "        vertical-align: middle;\n",
       "    }\n",
       "\n",
       "    .dataframe tbody tr th {\n",
       "        vertical-align: top;\n",
       "    }\n",
       "\n",
       "    .dataframe thead th {\n",
       "        text-align: right;\n",
       "    }\n",
       "</style>\n",
       "<table border=\"1\" class=\"dataframe\">\n",
       "  <thead>\n",
       "    <tr style=\"text-align: right;\">\n",
       "      <th></th>\n",
       "      <th>close</th>\n",
       "      <th>close_t+1</th>\n",
       "      <th>close_t-0</th>\n",
       "    </tr>\n",
       "    <tr>\n",
       "      <th>date</th>\n",
       "      <th></th>\n",
       "      <th></th>\n",
       "      <th></th>\n",
       "    </tr>\n",
       "  </thead>\n",
       "  <tbody>\n",
       "    <tr>\n",
       "      <th>2011-01-03</th>\n",
       "      <td>0.593959</td>\n",
       "      <td>0.581664</td>\n",
       "      <td>0.593959</td>\n",
       "    </tr>\n",
       "    <tr>\n",
       "      <th>2011-01-04</th>\n",
       "      <td>0.581664</td>\n",
       "      <td>0.599682</td>\n",
       "      <td>0.581664</td>\n",
       "    </tr>\n",
       "    <tr>\n",
       "      <th>2011-01-05</th>\n",
       "      <td>0.599682</td>\n",
       "      <td>0.579014</td>\n",
       "      <td>0.599682</td>\n",
       "    </tr>\n",
       "    <tr>\n",
       "      <th>2011-01-06</th>\n",
       "      <td>0.579014</td>\n",
       "      <td>0.620350</td>\n",
       "      <td>0.579014</td>\n",
       "    </tr>\n",
       "    <tr>\n",
       "      <th>2011-01-07</th>\n",
       "      <td>0.620350</td>\n",
       "      <td>0.621410</td>\n",
       "      <td>0.620350</td>\n",
       "    </tr>\n",
       "  </tbody>\n",
       "</table>\n",
       "</div>"
      ],
      "text/plain": [
       "               close  close_t+1  close_t-0\n",
       "date                                      \n",
       "2011-01-03  0.593959   0.581664   0.593959\n",
       "2011-01-04  0.581664   0.599682   0.581664\n",
       "2011-01-05  0.599682   0.579014   0.599682\n",
       "2011-01-06  0.579014   0.620350   0.579014\n",
       "2011-01-07  0.620350   0.621410   0.620350"
      ]
     },
     "execution_count": 14,
     "metadata": {},
     "output_type": "execute_result"
    }
   ],
   "source": [
    "train_shifted = train_shifted.dropna(how='any')\n",
    "train_shifted.head()"
   ]
  },
  {
   "cell_type": "code",
   "execution_count": 15,
   "id": "19a048a3",
   "metadata": {
    "ExecuteTime": {
     "end_time": "2021-11-23T12:28:26.627632Z",
     "start_time": "2021-11-23T12:28:26.607855Z"
    }
   },
   "outputs": [],
   "source": [
    "y_data = ['close_t+1']\n",
    "X_data = ['close_t-{}'.format(idx) for idx in range(0, K)]"
   ]
  },
  {
   "cell_type": "code",
   "execution_count": 16,
   "id": "80b4e7d7",
   "metadata": {
    "ExecuteTime": {
     "end_time": "2021-11-23T12:28:37.388805Z",
     "start_time": "2021-11-23T12:28:37.357058Z"
    }
   },
   "outputs": [
    {
     "name": "stdout",
     "output_type": "stream",
     "text": [
      "(2233, 1)\n",
      "(2233, 1)\n"
     ]
    }
   ],
   "source": [
    "y_train = train_shifted[y_data].values\n",
    "print(y_train.shape)\n",
    "X_train = train_shifted[X_data].values\n",
    "print(X_train.shape)"
   ]
  },
  {
   "cell_type": "code",
   "execution_count": 17,
   "id": "f39f9aff",
   "metadata": {
    "ExecuteTime": {
     "end_time": "2021-11-23T12:28:40.914510Z",
     "start_time": "2021-11-23T12:28:40.896524Z"
    }
   },
   "outputs": [],
   "source": [
    "from sklearn.svm import SVR\n",
    "\n",
    "from sklearn.metrics import r2_score"
   ]
  },
  {
   "cell_type": "code",
   "execution_count": 18,
   "id": "ecd0e629",
   "metadata": {
    "ExecuteTime": {
     "end_time": "2021-11-23T12:41:34.388306Z",
     "start_time": "2021-11-23T12:41:34.188559Z"
    },
    "scrolled": true
   },
   "outputs": [
    {
     "name": "stderr",
     "output_type": "stream",
     "text": [
      "/Users/yanzi/opt/anaconda3/lib/python3.8/site-packages/sklearn/utils/validation.py:985: DataConversionWarning: A column-vector y was passed when a 1d array was expected. Please change the shape of y to (n_samples, ), for example using ravel().\n",
      "  y = column_or_1d(y, warn=True)\n"
     ]
    },
    {
     "data": {
      "text/plain": [
       "SVR(C=100, epsilon=0.01, gamma=0.005)"
      ]
     },
     "execution_count": 18,
     "metadata": {},
     "output_type": "execute_result"
    }
   ],
   "source": [
    "svr0 = SVR(kernel='rbf',gamma=0.005, C=100,epsilon=0.01)\n",
    "svr0.fit(X_train, y_train)"
   ]
  },
  {
   "cell_type": "code",
   "execution_count": 19,
   "id": "b3e419c0",
   "metadata": {
    "ExecuteTime": {
     "end_time": "2021-11-23T12:41:42.649811Z",
     "start_time": "2021-11-23T12:41:42.629825Z"
    }
   },
   "outputs": [],
   "source": [
    "index_pre = er_price.index.get_loc(valid_start) - K\n",
    "true_valid_start = er_price.index[index_pre]"
   ]
  },
  {
   "cell_type": "code",
   "execution_count": 20,
   "id": "61ff56e3",
   "metadata": {
    "ExecuteTime": {
     "end_time": "2021-11-23T12:41:45.023016Z",
     "start_time": "2021-11-23T12:41:44.974932Z"
    }
   },
   "outputs": [
    {
     "name": "stdout",
     "output_type": "stream",
     "text": [
      "               close\n",
      "date                \n",
      "2019-07-31  0.903445\n",
      "2019-08-01  0.903233\n",
      "2020-07-31  1.034552\n",
      "2020-08-03  0.999470\n"
     ]
    }
   ],
   "source": [
    "val_df = er_price[true_valid_start:test_start].copy()\n",
    "val_df['close'] = scaler.transform(val_df)\n",
    "print(val_df.head(2).append(val_df.tail(2)))"
   ]
  },
  {
   "cell_type": "code",
   "execution_count": 21,
   "id": "2b51077f",
   "metadata": {
    "ExecuteTime": {
     "end_time": "2021-11-23T12:41:47.883665Z",
     "start_time": "2021-11-23T12:41:47.832753Z"
    }
   },
   "outputs": [],
   "source": [
    "valid_shifted = val_df.copy()\n",
    "valid_shifted['close_t+1'] = val_df['close'].shift(-1)\n",
    "for t in range(K):\n",
    "     valid_shifted['close_t-{}'.format(t)] = valid_shifted['close'].shift(t)\n",
    "valid_shifted = valid_shifted.dropna(how='any')\n",
    "y_valid = valid_shifted[y_data].values\n",
    "X_valid = valid_shifted[X_data].values"
   ]
  },
  {
   "cell_type": "code",
   "execution_count": 22,
   "id": "52bfe9cf",
   "metadata": {
    "ExecuteTime": {
     "end_time": "2021-11-23T12:41:49.909801Z",
     "start_time": "2021-11-23T12:41:49.825544Z"
    }
   },
   "outputs": [
    {
     "data": {
      "text/html": [
       "<div>\n",
       "<style scoped>\n",
       "    .dataframe tbody tr th:only-of-type {\n",
       "        vertical-align: middle;\n",
       "    }\n",
       "\n",
       "    .dataframe tbody tr th {\n",
       "        vertical-align: top;\n",
       "    }\n",
       "\n",
       "    .dataframe thead th {\n",
       "        text-align: right;\n",
       "    }\n",
       "</style>\n",
       "<table border=\"1\" class=\"dataframe\">\n",
       "  <thead>\n",
       "    <tr style=\"text-align: right;\">\n",
       "      <th></th>\n",
       "      <th>timestamp</th>\n",
       "      <th>h</th>\n",
       "      <th>prediction1</th>\n",
       "      <th>actual</th>\n",
       "    </tr>\n",
       "  </thead>\n",
       "  <tbody>\n",
       "    <tr>\n",
       "      <th>0</th>\n",
       "      <td>2019-07-31</td>\n",
       "      <td>t+1</td>\n",
       "      <td>6.883211</td>\n",
       "      <td>6.8834</td>\n",
       "    </tr>\n",
       "    <tr>\n",
       "      <th>1</th>\n",
       "      <td>2019-08-01</td>\n",
       "      <td>t+1</td>\n",
       "      <td>6.883011</td>\n",
       "      <td>6.8978</td>\n",
       "    </tr>\n",
       "    <tr>\n",
       "      <th>2</th>\n",
       "      <td>2019-08-02</td>\n",
       "      <td>t+1</td>\n",
       "      <td>6.897368</td>\n",
       "      <td>6.9392</td>\n",
       "    </tr>\n",
       "    <tr>\n",
       "      <th>3</th>\n",
       "      <td>2019-08-05</td>\n",
       "      <td>t+1</td>\n",
       "      <td>6.938627</td>\n",
       "      <td>7.0497</td>\n",
       "    </tr>\n",
       "    <tr>\n",
       "      <th>4</th>\n",
       "      <td>2019-08-06</td>\n",
       "      <td>t+1</td>\n",
       "      <td>7.048625</td>\n",
       "      <td>7.0256</td>\n",
       "    </tr>\n",
       "  </tbody>\n",
       "</table>\n",
       "</div>"
      ],
      "text/plain": [
       "   timestamp    h  prediction1  actual\n",
       "0 2019-07-31  t+1     6.883211  6.8834\n",
       "1 2019-08-01  t+1     6.883011  6.8978\n",
       "2 2019-08-02  t+1     6.897368  6.9392\n",
       "3 2019-08-05  t+1     6.938627  7.0497\n",
       "4 2019-08-06  t+1     7.048625  7.0256"
      ]
     },
     "execution_count": 22,
     "metadata": {},
     "output_type": "execute_result"
    }
   ],
   "source": [
    "predictions = svr0.predict(X_valid)\n",
    "eval_df = pd.DataFrame(predictions, columns=['t+'+str(t) for t in range(1, HORIZON+1)])\n",
    "eval_df['timestamp'] = valid_shifted.index\n",
    "eval_df = pd.melt(eval_df, id_vars='timestamp', value_name='prediction1', var_name='h')\n",
    "eval_df['actual'] = np.transpose(y_valid).ravel()\n",
    "eval_df[['prediction1', 'actual']] = scaler.inverse_transform(eval_df[['prediction1', 'actual']])\n",
    "eval_df.head()"
   ]
  },
  {
   "cell_type": "code",
   "execution_count": 23,
   "id": "dff39164",
   "metadata": {
    "ExecuteTime": {
     "end_time": "2021-11-23T12:41:52.013805Z",
     "start_time": "2021-11-23T12:41:51.995861Z"
    }
   },
   "outputs": [],
   "source": [
    "# Metrics\n",
    "from sklearn.metrics import mean_squared_error, mean_absolute_error, median_absolute_error\n",
    "from sklearn.preprocessing import MinMaxScaler\n",
    "from sklearn.metrics import r2_score"
   ]
  },
  {
   "cell_type": "code",
   "execution_count": 24,
   "id": "30ea972a",
   "metadata": {
    "ExecuteTime": {
     "end_time": "2021-11-23T12:41:53.855546Z",
     "start_time": "2021-11-23T12:41:53.822963Z"
    }
   },
   "outputs": [
    {
     "name": "stdout",
     "output_type": "stream",
     "text": [
      "Valid MAE: 0.014311757938500338\n",
      "Valid MSE: 0.00043606425802136117\n",
      "Valid R2: 0.9019800627647736\n",
      "Valid MAPE is 0.19%\n"
     ]
    }
   ],
   "source": [
    "svr0_pred = svr0.predict(X_valid)\n",
    "print('Valid MAE:',mean_absolute_error(y_valid, svr0_pred))\n",
    "print('Valid MSE:',mean_squared_error(y_valid, svr0_pred))\n",
    "print(\"Valid R2:\",r2_score(y_valid, svr0_pred))\n",
    "mape_test = np.mean(np.abs((eval_df['prediction1'] - eval_df['actual']) / eval_df['actual'])) * 100\n",
    "print('Valid MAPE is {:.2f}%'.format(mape_test))"
   ]
  },
  {
   "cell_type": "code",
   "execution_count": 25,
   "id": "84f183bc",
   "metadata": {
    "ExecuteTime": {
     "end_time": "2021-11-23T12:45:39.434957Z",
     "start_time": "2021-11-23T12:45:39.417972Z"
    }
   },
   "outputs": [],
   "source": [
    "index_pre = er_price.index.get_loc(test_start) - K"
   ]
  },
  {
   "cell_type": "code",
   "execution_count": 26,
   "id": "caf28e57",
   "metadata": {
    "ExecuteTime": {
     "end_time": "2021-11-23T12:45:41.514153Z",
     "start_time": "2021-11-23T12:45:41.480704Z"
    }
   },
   "outputs": [
    {
     "name": "stdout",
     "output_type": "stream",
     "text": [
      "               close\n",
      "date                \n",
      "2020-07-31  1.034552\n",
      "2020-08-03  0.999470\n",
      "2021-08-27  0.476206\n",
      "2021-08-30  0.460625\n"
     ]
    }
   ],
   "source": [
    "true_valid_start = er_price.index[index_pre]\n",
    "test_df = er_price[true_valid_start:].copy()\n",
    "test_df['close'] = scaler.transform(test_df)\n",
    "print(test_df.head(2).append(test_df.tail(2)))"
   ]
  },
  {
   "cell_type": "code",
   "execution_count": 27,
   "id": "dad0ed57",
   "metadata": {
    "ExecuteTime": {
     "end_time": "2021-11-23T12:45:45.117050Z",
     "start_time": "2021-11-23T12:45:45.067659Z"
    }
   },
   "outputs": [],
   "source": [
    "test_shifted = test_df.copy()\n",
    "test_shifted['close_t+1'] = test_shifted['close'].shift(-1)\n",
    "for t in range(0, K):\n",
    "     test_shifted['close_t-{}'.format(t)] = test_shifted['close'].shift(t)\n",
    "test_shifted = test_shifted.dropna(how='any')\n",
    "y_test = test_shifted[y_data].values\n",
    "X_test = test_shifted[X_data].values"
   ]
  },
  {
   "cell_type": "code",
   "execution_count": 28,
   "id": "1278ee8c",
   "metadata": {
    "ExecuteTime": {
     "end_time": "2021-11-23T12:46:03.832944Z",
     "start_time": "2021-11-23T12:46:03.797818Z"
    }
   },
   "outputs": [],
   "source": [
    "predictions = svr0.predict(X_test)"
   ]
  },
  {
   "cell_type": "code",
   "execution_count": 29,
   "id": "c5df2cc0",
   "metadata": {
    "ExecuteTime": {
     "end_time": "2021-11-23T12:46:06.776788Z",
     "start_time": "2021-11-23T12:46:06.695110Z"
    }
   },
   "outputs": [
    {
     "data": {
      "text/html": [
       "<div>\n",
       "<style scoped>\n",
       "    .dataframe tbody tr th:only-of-type {\n",
       "        vertical-align: middle;\n",
       "    }\n",
       "\n",
       "    .dataframe tbody tr th {\n",
       "        vertical-align: top;\n",
       "    }\n",
       "\n",
       "    .dataframe thead th {\n",
       "        text-align: right;\n",
       "    }\n",
       "</style>\n",
       "<table border=\"1\" class=\"dataframe\">\n",
       "  <thead>\n",
       "    <tr style=\"text-align: right;\">\n",
       "      <th></th>\n",
       "      <th>date</th>\n",
       "      <th>h</th>\n",
       "      <th>prediction1</th>\n",
       "      <th>actual</th>\n",
       "    </tr>\n",
       "  </thead>\n",
       "  <tbody>\n",
       "    <tr>\n",
       "      <th>0</th>\n",
       "      <td>2020-07-31</td>\n",
       "      <td>t+1</td>\n",
       "      <td>7.006441</td>\n",
       "      <td>6.9742</td>\n",
       "    </tr>\n",
       "    <tr>\n",
       "      <th>1</th>\n",
       "      <td>2020-08-03</td>\n",
       "      <td>t+1</td>\n",
       "      <td>6.973489</td>\n",
       "      <td>6.9794</td>\n",
       "    </tr>\n",
       "    <tr>\n",
       "      <th>2</th>\n",
       "      <td>2020-08-04</td>\n",
       "      <td>t+1</td>\n",
       "      <td>6.978667</td>\n",
       "      <td>6.9727</td>\n",
       "    </tr>\n",
       "    <tr>\n",
       "      <th>3</th>\n",
       "      <td>2020-08-05</td>\n",
       "      <td>t+1</td>\n",
       "      <td>6.971995</td>\n",
       "      <td>6.9346</td>\n",
       "    </tr>\n",
       "    <tr>\n",
       "      <th>4</th>\n",
       "      <td>2020-08-06</td>\n",
       "      <td>t+1</td>\n",
       "      <td>6.934044</td>\n",
       "      <td>6.9524</td>\n",
       "    </tr>\n",
       "  </tbody>\n",
       "</table>\n",
       "</div>"
      ],
      "text/plain": [
       "        date    h  prediction1  actual\n",
       "0 2020-07-31  t+1     7.006441  6.9742\n",
       "1 2020-08-03  t+1     6.973489  6.9794\n",
       "2 2020-08-04  t+1     6.978667  6.9727\n",
       "3 2020-08-05  t+1     6.971995  6.9346\n",
       "4 2020-08-06  t+1     6.934044  6.9524"
      ]
     },
     "execution_count": 29,
     "metadata": {},
     "output_type": "execute_result"
    }
   ],
   "source": [
    "eval_df = pd.DataFrame(predictions, columns=['t+'+str(t) for t in range(1, HORIZON+1)])\n",
    "eval_df['date'] = test_shifted.index\n",
    "eval_df = pd.melt(eval_df, id_vars='date', value_name='prediction1', var_name='h')\n",
    "eval_df['actual'] = np.transpose(y_test).ravel()\n",
    "eval_df[['prediction1', 'actual']] = scaler.inverse_transform(eval_df[['prediction1', 'actual']])\n",
    "eval_df.head()"
   ]
  },
  {
   "cell_type": "code",
   "execution_count": 30,
   "id": "2c07fbb1",
   "metadata": {
    "ExecuteTime": {
     "end_time": "2021-11-23T12:47:35.325800Z",
     "start_time": "2021-11-23T12:47:35.276888Z"
    }
   },
   "outputs": [
    {
     "name": "stdout",
     "output_type": "stream",
     "text": [
      "Test MAE: 0.012036739139647057\n",
      "Test MSE: 0.00029711770423616744\n",
      "Test R2: 0.989004263474302\n",
      "Test MAPE is 0.17%\n"
     ]
    }
   ],
   "source": [
    "svr0_pred = svr0.predict(X_test)\n",
    "print('Test MAE:',mean_absolute_error(y_test, svr0_pred))\n",
    "print('Test MSE:',mean_squared_error(y_test, svr0_pred))\n",
    "print(\"Test R2:\",r2_score(y_test, svr0_pred))\n",
    "mape_test = np.mean(np.abs((eval_df['prediction1'] - eval_df['actual']) / eval_df['actual'])) * 100\n",
    "print('Test MAPE is {:.2f}%'.format(mape_test))"
   ]
  },
  {
   "cell_type": "code",
   "execution_count": 31,
   "id": "ec5c8509",
   "metadata": {
    "scrolled": true
   },
   "outputs": [
    {
     "data": {
      "image/png": "[encoded data removed]",
      "text/plain": [
       "<Figure size 1080x576 with 1 Axes>"
      ]
     },
     "metadata": {
      "needs_background": "light"
     },
     "output_type": "display_data"
    }
   ],
   "source": [
    "eval_df.plot(x='date', y=['prediction1', 'actual'], style=['r', 'b'], figsize=(15, 8))\n",
    "plt.title('Predicted and actual close price of USDCNY')\n",
    "plt.xlabel('date', fontsize=12)\n",
    "plt.ylabel('load', fontsize=12)\n",
    "plt.show()"
   ]
  },
  {
   "cell_type": "markdown",
   "id": "61cec1e6",
   "metadata": {},
   "source": [
    "# Random Forest model when K=1"
   ]
  },
  {
   "cell_type": "code",
   "execution_count": 32,
   "id": "d8ed089b",
   "metadata": {},
   "outputs": [],
   "source": [
    "from sklearn.ensemble import RandomForestRegressor"
   ]
  },
  {
   "cell_type": "code",
   "execution_count": 33,
   "id": "1573edfe",
   "metadata": {},
   "outputs": [
    {
     "name": "stdout",
     "output_type": "stream",
     "text": [
      "               close\n",
      "date                \n",
      "2020-07-31  1.034552\n",
      "2020-08-03  0.999470\n",
      "2021-08-27  0.476206\n",
      "2021-08-30  0.460625\n"
     ]
    }
   ],
   "source": [
    "index_pre = er_price.index.get_loc(test_start) - K\n",
    "true_valid_start = er_price.index[index_pre]\n",
    "test_df = er_price[true_valid_start:].copy()\n",
    "test_df['close'] = scaler.transform(test_df)\n",
    "print(test_df.head(2).append(test_df.tail(2)))"
   ]
  },
  {
   "cell_type": "code",
   "execution_count": 34,
   "id": "3d5e6a86",
   "metadata": {},
   "outputs": [
    {
     "name": "stderr",
     "output_type": "stream",
     "text": [
      "/var/folders/v3/450qq1rj1dg9h7f9glq8l6wh0000gn/T/ipykernel_65888/464134978.py:3: DataConversionWarning: A column-vector y was passed when a 1d array was expected. Please change the shape of y to (n_samples,), for example using ravel().\n",
      "  rfg.fit(X_train, y_train)\n"
     ]
    }
   ],
   "source": [
    "#Random Forest\n",
    "rfg = RandomForestRegressor()\n",
    "rfg.fit(X_train, y_train)\n",
    "rfg_pred = rfg.predict(X_test)"
   ]
  },
  {
   "cell_type": "code",
   "execution_count": 35,
   "id": "3bd97c89",
   "metadata": {},
   "outputs": [],
   "source": [
    "test_shifted = test_df.copy()\n",
    "test_shifted['close_t+1'] = test_shifted['close'].shift(-1)\n",
    "for t in range(0, K):\n",
    "     test_shifted['close_t-{}'.format(t)] = test_shifted['close'].shift(t)\n",
    "test_shifted = test_shifted.dropna(how='any')\n",
    "y_test = test_shifted[y_data].values\n",
    "X_test = test_shifted[X_data].values"
   ]
  },
  {
   "cell_type": "code",
   "execution_count": 36,
   "id": "fa65572f",
   "metadata": {},
   "outputs": [],
   "source": [
    "predictions = rfg.predict(X_test)"
   ]
  },
  {
   "cell_type": "code",
   "execution_count": 37,
   "id": "cc0bae13",
   "metadata": {},
   "outputs": [
    {
     "data": {
      "text/html": [
       "<div>\n",
       "<style scoped>\n",
       "    .dataframe tbody tr th:only-of-type {\n",
       "        vertical-align: middle;\n",
       "    }\n",
       "\n",
       "    .dataframe tbody tr th {\n",
       "        vertical-align: top;\n",
       "    }\n",
       "\n",
       "    .dataframe thead th {\n",
       "        text-align: right;\n",
       "    }\n",
       "</style>\n",
       "<table border=\"1\" class=\"dataframe\">\n",
       "  <thead>\n",
       "    <tr style=\"text-align: right;\">\n",
       "      <th></th>\n",
       "      <th>date</th>\n",
       "      <th>h</th>\n",
       "      <th>prediction1</th>\n",
       "      <th>actual</th>\n",
       "    </tr>\n",
       "  </thead>\n",
       "  <tbody>\n",
       "    <tr>\n",
       "      <th>0</th>\n",
       "      <td>2020-07-31</td>\n",
       "      <td>t+1</td>\n",
       "      <td>6.935459</td>\n",
       "      <td>6.9742</td>\n",
       "    </tr>\n",
       "    <tr>\n",
       "      <th>1</th>\n",
       "      <td>2020-08-03</td>\n",
       "      <td>t+1</td>\n",
       "      <td>6.935459</td>\n",
       "      <td>6.9794</td>\n",
       "    </tr>\n",
       "    <tr>\n",
       "      <th>2</th>\n",
       "      <td>2020-08-04</td>\n",
       "      <td>t+1</td>\n",
       "      <td>6.935459</td>\n",
       "      <td>6.9727</td>\n",
       "    </tr>\n",
       "    <tr>\n",
       "      <th>3</th>\n",
       "      <td>2020-08-05</td>\n",
       "      <td>t+1</td>\n",
       "      <td>6.935459</td>\n",
       "      <td>6.9346</td>\n",
       "    </tr>\n",
       "    <tr>\n",
       "      <th>4</th>\n",
       "      <td>2020-08-06</td>\n",
       "      <td>t+1</td>\n",
       "      <td>6.931674</td>\n",
       "      <td>6.9524</td>\n",
       "    </tr>\n",
       "  </tbody>\n",
       "</table>\n",
       "</div>"
      ],
      "text/plain": [
       "        date    h  prediction1  actual\n",
       "0 2020-07-31  t+1     6.935459  6.9742\n",
       "1 2020-08-03  t+1     6.935459  6.9794\n",
       "2 2020-08-04  t+1     6.935459  6.9727\n",
       "3 2020-08-05  t+1     6.935459  6.9346\n",
       "4 2020-08-06  t+1     6.931674  6.9524"
      ]
     },
     "execution_count": 37,
     "metadata": {},
     "output_type": "execute_result"
    }
   ],
   "source": [
    "eval_df = pd.DataFrame(predictions, columns=['t+'+str(t) for t in range(1, HORIZON+1)])\n",
    "eval_df['date'] = test_shifted.index\n",
    "eval_df = pd.melt(eval_df, id_vars='date', value_name='prediction1', var_name='h')\n",
    "eval_df['actual'] = np.transpose(y_test).ravel()\n",
    "eval_df[['prediction1', 'actual']] = scaler.inverse_transform(eval_df[['prediction1', 'actual']])\n",
    "eval_df.head()"
   ]
  },
  {
   "cell_type": "code",
   "execution_count": 38,
   "id": "d05d03e7",
   "metadata": {},
   "outputs": [
    {
     "data": {
      "image/png": "[encoded data removed]",
      "text/plain": [
       "<Figure size 1080x576 with 1 Axes>"
      ]
     },
     "metadata": {
      "needs_background": "light"
     },
     "output_type": "display_data"
    }
   ],
   "source": [
    "eval_df.plot(x='date', y=['prediction1', 'actual'], style=['r', 'b'], figsize=(15, 8))\n",
    "plt.title('Predicted and actual close price of USDCNY')\n",
    "plt.xlabel('date', fontsize=12)\n",
    "plt.ylabel('load', fontsize=12)\n",
    "plt.show()"
   ]
  },
  {
   "cell_type": "code",
   "execution_count": 39,
   "id": "efa40e44",
   "metadata": {},
   "outputs": [
    {
     "name": "stdout",
     "output_type": "stream",
     "text": [
      "Test MAE: 0.01616287568163218\n",
      "Test MSE: 0.000505102359475637\n",
      "Test R2: 0.9813071641840372\n",
      "Testing MAPE is 0.23%\n"
     ]
    }
   ],
   "source": [
    "print('Test MAE:',mean_absolute_error(y_test, rfg_pred))\n",
    "print('Test MSE:',mean_squared_error(y_test, rfg_pred))\n",
    "print(\"Test R2:\",r2_score(y_test,rfg_pred))\n",
    "mape_test = np.mean(np.abs((eval_df['prediction1'] - eval_df['actual']) / eval_df['actual'])) * 100\n",
    "print('Testing MAPE is {:.2f}%'.format(mape_test))"
   ]
  },
  {
   "cell_type": "markdown",
   "id": "94d15c6d",
   "metadata": {},
   "source": [
    "# SVR model when K=3"
   ]
  },
  {
   "cell_type": "code",
   "execution_count": 40,
   "id": "828b277c",
   "metadata": {},
   "outputs": [],
   "source": [
    "K = 3\n",
    "HORIZON = 1"
   ]
  },
  {
   "cell_type": "code",
   "execution_count": 41,
   "id": "11a8640f",
   "metadata": {},
   "outputs": [],
   "source": [
    "train_er = er_price[:valid_start].copy()"
   ]
  },
  {
   "cell_type": "code",
   "execution_count": 42,
   "id": "f9ec7882",
   "metadata": {},
   "outputs": [
    {
     "name": "stdout",
     "output_type": "stream",
     "text": [
      "               close\n",
      "date                \n",
      "2011-01-03  0.593959\n",
      "2011-01-04  0.581664\n",
      "2019-07-31  0.903445\n",
      "2019-08-01  0.903233\n"
     ]
    },
    {
     "data": {
      "image/png": "[encoded data removed]",
      "text/plain": [
       "<Figure size 432x288 with 1 Axes>"
      ]
     },
     "metadata": {
      "needs_background": "light"
     },
     "output_type": "display_data"
    }
   ],
   "source": [
    "from sklearn.preprocessing import MinMaxScaler\n",
    "scaler = MinMaxScaler()\n",
    "train_er['close'] = scaler.fit_transform(train_er)\n",
    "print(train_er.head(2).append(train_er.tail(2)))\n",
    "train_er.rename(columns={'close':'after scaling'}).plot.hist(bins=100, fontsize=12)\n",
    "plt.show()"
   ]
  },
  {
   "cell_type": "code",
   "execution_count": 43,
   "id": "c4f43036",
   "metadata": {},
   "outputs": [
    {
     "data": {
      "text/html": [
       "<div>\n",
       "<style scoped>\n",
       "    .dataframe tbody tr th:only-of-type {\n",
       "        vertical-align: middle;\n",
       "    }\n",
       "\n",
       "    .dataframe tbody tr th {\n",
       "        vertical-align: top;\n",
       "    }\n",
       "\n",
       "    .dataframe thead th {\n",
       "        text-align: right;\n",
       "    }\n",
       "</style>\n",
       "<table border=\"1\" class=\"dataframe\">\n",
       "  <thead>\n",
       "    <tr style=\"text-align: right;\">\n",
       "      <th></th>\n",
       "      <th>close</th>\n",
       "      <th>close_t+1</th>\n",
       "    </tr>\n",
       "    <tr>\n",
       "      <th>date</th>\n",
       "      <th></th>\n",
       "      <th></th>\n",
       "    </tr>\n",
       "  </thead>\n",
       "  <tbody>\n",
       "    <tr>\n",
       "      <th>2011-01-03</th>\n",
       "      <td>0.593959</td>\n",
       "      <td>0.581664</td>\n",
       "    </tr>\n",
       "    <tr>\n",
       "      <th>2011-01-04</th>\n",
       "      <td>0.581664</td>\n",
       "      <td>0.599682</td>\n",
       "    </tr>\n",
       "  </tbody>\n",
       "</table>\n",
       "</div>"
      ],
      "text/plain": [
       "               close  close_t+1\n",
       "date                           \n",
       "2011-01-03  0.593959   0.581664\n",
       "2011-01-04  0.581664   0.599682"
      ]
     },
     "execution_count": 43,
     "metadata": {},
     "output_type": "execute_result"
    }
   ],
   "source": [
    "train_shifted = train_er\n",
    "train_shifted['close_t+1'] = train_er['close'].shift(-1)\n",
    "train_shifted.head(2)"
   ]
  },
  {
   "cell_type": "code",
   "execution_count": 44,
   "id": "d8a051b1",
   "metadata": {},
   "outputs": [
    {
     "data": {
      "text/html": [
       "<div>\n",
       "<style scoped>\n",
       "    .dataframe tbody tr th:only-of-type {\n",
       "        vertical-align: middle;\n",
       "    }\n",
       "\n",
       "    .dataframe tbody tr th {\n",
       "        vertical-align: top;\n",
       "    }\n",
       "\n",
       "    .dataframe thead th {\n",
       "        text-align: right;\n",
       "    }\n",
       "</style>\n",
       "<table border=\"1\" class=\"dataframe\">\n",
       "  <thead>\n",
       "    <tr style=\"text-align: right;\">\n",
       "      <th></th>\n",
       "      <th>close</th>\n",
       "      <th>close_t+1</th>\n",
       "      <th>close_t-0</th>\n",
       "      <th>close_t-1</th>\n",
       "      <th>close_t-2</th>\n",
       "    </tr>\n",
       "    <tr>\n",
       "      <th>date</th>\n",
       "      <th></th>\n",
       "      <th></th>\n",
       "      <th></th>\n",
       "      <th></th>\n",
       "      <th></th>\n",
       "    </tr>\n",
       "  </thead>\n",
       "  <tbody>\n",
       "    <tr>\n",
       "      <th>2011-01-03</th>\n",
       "      <td>0.593959</td>\n",
       "      <td>0.581664</td>\n",
       "      <td>0.593959</td>\n",
       "      <td>NaN</td>\n",
       "      <td>NaN</td>\n",
       "    </tr>\n",
       "    <tr>\n",
       "      <th>2011-01-04</th>\n",
       "      <td>0.581664</td>\n",
       "      <td>0.599682</td>\n",
       "      <td>0.581664</td>\n",
       "      <td>0.593959</td>\n",
       "      <td>NaN</td>\n",
       "    </tr>\n",
       "    <tr>\n",
       "      <th>2011-01-05</th>\n",
       "      <td>0.599682</td>\n",
       "      <td>0.579014</td>\n",
       "      <td>0.599682</td>\n",
       "      <td>0.581664</td>\n",
       "      <td>0.593959</td>\n",
       "    </tr>\n",
       "    <tr>\n",
       "      <th>2011-01-06</th>\n",
       "      <td>0.579014</td>\n",
       "      <td>0.620350</td>\n",
       "      <td>0.579014</td>\n",
       "      <td>0.599682</td>\n",
       "      <td>0.581664</td>\n",
       "    </tr>\n",
       "    <tr>\n",
       "      <th>2011-01-07</th>\n",
       "      <td>0.620350</td>\n",
       "      <td>0.621410</td>\n",
       "      <td>0.620350</td>\n",
       "      <td>0.579014</td>\n",
       "      <td>0.599682</td>\n",
       "    </tr>\n",
       "  </tbody>\n",
       "</table>\n",
       "</div>"
      ],
      "text/plain": [
       "               close  close_t+1  close_t-0  close_t-1  close_t-2\n",
       "date                                                            \n",
       "2011-01-03  0.593959   0.581664   0.593959        NaN        NaN\n",
       "2011-01-04  0.581664   0.599682   0.581664   0.593959        NaN\n",
       "2011-01-05  0.599682   0.579014   0.599682   0.581664   0.593959\n",
       "2011-01-06  0.579014   0.620350   0.579014   0.599682   0.581664\n",
       "2011-01-07  0.620350   0.621410   0.620350   0.579014   0.599682"
      ]
     },
     "execution_count": 44,
     "metadata": {},
     "output_type": "execute_result"
    }
   ],
   "source": [
    "for t in range(K):\n",
    "    train_shifted['close_t-{}'.format(t)] = train_shifted['close'].shift(t)\n",
    "train_shifted.head()"
   ]
  },
  {
   "cell_type": "code",
   "execution_count": 45,
   "id": "68dbaa8e",
   "metadata": {},
   "outputs": [
    {
     "data": {
      "text/html": [
       "<div>\n",
       "<style scoped>\n",
       "    .dataframe tbody tr th:only-of-type {\n",
       "        vertical-align: middle;\n",
       "    }\n",
       "\n",
       "    .dataframe tbody tr th {\n",
       "        vertical-align: top;\n",
       "    }\n",
       "\n",
       "    .dataframe thead th {\n",
       "        text-align: right;\n",
       "    }\n",
       "</style>\n",
       "<table border=\"1\" class=\"dataframe\">\n",
       "  <thead>\n",
       "    <tr style=\"text-align: right;\">\n",
       "      <th></th>\n",
       "      <th>close</th>\n",
       "      <th>close_t+1</th>\n",
       "      <th>close_t-0</th>\n",
       "      <th>close_t-1</th>\n",
       "      <th>close_t-2</th>\n",
       "    </tr>\n",
       "    <tr>\n",
       "      <th>date</th>\n",
       "      <th></th>\n",
       "      <th></th>\n",
       "      <th></th>\n",
       "      <th></th>\n",
       "      <th></th>\n",
       "    </tr>\n",
       "  </thead>\n",
       "  <tbody>\n",
       "    <tr>\n",
       "      <th>2011-01-05</th>\n",
       "      <td>0.599682</td>\n",
       "      <td>0.579014</td>\n",
       "      <td>0.599682</td>\n",
       "      <td>0.581664</td>\n",
       "      <td>0.593959</td>\n",
       "    </tr>\n",
       "    <tr>\n",
       "      <th>2011-01-06</th>\n",
       "      <td>0.579014</td>\n",
       "      <td>0.620350</td>\n",
       "      <td>0.579014</td>\n",
       "      <td>0.599682</td>\n",
       "      <td>0.581664</td>\n",
       "    </tr>\n",
       "    <tr>\n",
       "      <th>2011-01-07</th>\n",
       "      <td>0.620350</td>\n",
       "      <td>0.621410</td>\n",
       "      <td>0.620350</td>\n",
       "      <td>0.579014</td>\n",
       "      <td>0.599682</td>\n",
       "    </tr>\n",
       "    <tr>\n",
       "      <th>2011-01-10</th>\n",
       "      <td>0.621410</td>\n",
       "      <td>0.630419</td>\n",
       "      <td>0.621410</td>\n",
       "      <td>0.620350</td>\n",
       "      <td>0.579014</td>\n",
       "    </tr>\n",
       "    <tr>\n",
       "      <th>2011-01-11</th>\n",
       "      <td>0.630419</td>\n",
       "      <td>0.613461</td>\n",
       "      <td>0.630419</td>\n",
       "      <td>0.621410</td>\n",
       "      <td>0.620350</td>\n",
       "    </tr>\n",
       "  </tbody>\n",
       "</table>\n",
       "</div>"
      ],
      "text/plain": [
       "               close  close_t+1  close_t-0  close_t-1  close_t-2\n",
       "date                                                            \n",
       "2011-01-05  0.599682   0.579014   0.599682   0.581664   0.593959\n",
       "2011-01-06  0.579014   0.620350   0.579014   0.599682   0.581664\n",
       "2011-01-07  0.620350   0.621410   0.620350   0.579014   0.599682\n",
       "2011-01-10  0.621410   0.630419   0.621410   0.620350   0.579014\n",
       "2011-01-11  0.630419   0.613461   0.630419   0.621410   0.620350"
      ]
     },
     "execution_count": 45,
     "metadata": {},
     "output_type": "execute_result"
    }
   ],
   "source": [
    "train_shifted = train_shifted.dropna(how='any')\n",
    "train_shifted.head()"
   ]
  },
  {
   "cell_type": "code",
   "execution_count": 46,
   "id": "37f30c57",
   "metadata": {},
   "outputs": [],
   "source": [
    "y_data = ['close_t+1']\n",
    "X_data = ['close_t-{}'.format(idx) for idx in range(0, K)]"
   ]
  },
  {
   "cell_type": "code",
   "execution_count": 47,
   "id": "1713d94d",
   "metadata": {},
   "outputs": [
    {
     "name": "stdout",
     "output_type": "stream",
     "text": [
      "(2231, 1)\n",
      "(2231, 3)\n"
     ]
    }
   ],
   "source": [
    "y_train = train_shifted[y_data].values\n",
    "print(y_train.shape)\n",
    "X_train = train_shifted[X_data].values\n",
    "print(X_train.shape)"
   ]
  },
  {
   "cell_type": "code",
   "execution_count": 48,
   "id": "233acbce",
   "metadata": {},
   "outputs": [],
   "source": [
    "from sklearn.svm import SVR\n",
    "\n",
    "from sklearn.metrics import r2_score"
   ]
  },
  {
   "cell_type": "code",
   "execution_count": 49,
   "id": "770fa4c7",
   "metadata": {},
   "outputs": [
    {
     "name": "stderr",
     "output_type": "stream",
     "text": [
      "/Users/yanzi/opt/anaconda3/lib/python3.8/site-packages/sklearn/utils/validation.py:985: DataConversionWarning: A column-vector y was passed when a 1d array was expected. Please change the shape of y to (n_samples, ), for example using ravel().\n",
      "  y = column_or_1d(y, warn=True)\n"
     ]
    },
    {
     "data": {
      "text/plain": [
       "SVR(C=100, epsilon=0.01, gamma=0.005)"
      ]
     },
     "execution_count": 49,
     "metadata": {},
     "output_type": "execute_result"
    }
   ],
   "source": [
    "svr0 = SVR(kernel='rbf',gamma=0.005, C=100,epsilon=0.01)\n",
    "svr0.fit(X_train, y_train)"
   ]
  },
  {
   "cell_type": "code",
   "execution_count": 50,
   "id": "354b830b",
   "metadata": {},
   "outputs": [],
   "source": [
    "index_pre = er_price.index.get_loc(valid_start) - K\n",
    "true_valid_start = er_price.index[index_pre]"
   ]
  },
  {
   "cell_type": "code",
   "execution_count": 51,
   "id": "5b0e7b88",
   "metadata": {},
   "outputs": [
    {
     "name": "stdout",
     "output_type": "stream",
     "text": [
      "               close\n",
      "date                \n",
      "2019-07-29  0.897721\n",
      "2019-07-30  0.912772\n",
      "2020-07-31  1.034552\n",
      "2020-08-03  0.999470\n"
     ]
    }
   ],
   "source": [
    "val_df = er_price[true_valid_start:test_start].copy()\n",
    "val_df['close'] = scaler.transform(val_df)\n",
    "print(val_df.head(2).append(val_df.tail(2)))"
   ]
  },
  {
   "cell_type": "code",
   "execution_count": 52,
   "id": "3f8a4237",
   "metadata": {},
   "outputs": [],
   "source": [
    "valid_shifted = val_df.copy()\n",
    "valid_shifted['close_t+1'] = val_df['close'].shift(-1)\n",
    "for t in range(K):\n",
    "     valid_shifted['close_t-{}'.format(t)] = valid_shifted['close'].shift(t)\n",
    "valid_shifted = valid_shifted.dropna(how='any')\n",
    "y_valid = valid_shifted[y_data].values\n",
    "X_valid = valid_shifted[X_data].values"
   ]
  },
  {
   "cell_type": "code",
   "execution_count": 53,
   "id": "54627911",
   "metadata": {},
   "outputs": [
    {
     "data": {
      "text/html": [
       "<div>\n",
       "<style scoped>\n",
       "    .dataframe tbody tr th:only-of-type {\n",
       "        vertical-align: middle;\n",
       "    }\n",
       "\n",
       "    .dataframe tbody tr th {\n",
       "        vertical-align: top;\n",
       "    }\n",
       "\n",
       "    .dataframe thead th {\n",
       "        text-align: right;\n",
       "    }\n",
       "</style>\n",
       "<table border=\"1\" class=\"dataframe\">\n",
       "  <thead>\n",
       "    <tr style=\"text-align: right;\">\n",
       "      <th></th>\n",
       "      <th>timestamp</th>\n",
       "      <th>h</th>\n",
       "      <th>prediction3</th>\n",
       "      <th>actual</th>\n",
       "    </tr>\n",
       "  </thead>\n",
       "  <tbody>\n",
       "    <tr>\n",
       "      <th>0</th>\n",
       "      <td>2019-07-31</td>\n",
       "      <td>t+1</td>\n",
       "      <td>6.884418</td>\n",
       "      <td>6.8834</td>\n",
       "    </tr>\n",
       "    <tr>\n",
       "      <th>1</th>\n",
       "      <td>2019-08-01</td>\n",
       "      <td>t+1</td>\n",
       "      <td>6.884103</td>\n",
       "      <td>6.8978</td>\n",
       "    </tr>\n",
       "    <tr>\n",
       "      <th>2</th>\n",
       "      <td>2019-08-02</td>\n",
       "      <td>t+1</td>\n",
       "      <td>6.895335</td>\n",
       "      <td>6.9392</td>\n",
       "    </tr>\n",
       "    <tr>\n",
       "      <th>3</th>\n",
       "      <td>2019-08-05</td>\n",
       "      <td>t+1</td>\n",
       "      <td>6.930861</td>\n",
       "      <td>7.0497</td>\n",
       "    </tr>\n",
       "    <tr>\n",
       "      <th>4</th>\n",
       "      <td>2019-08-06</td>\n",
       "      <td>t+1</td>\n",
       "      <td>7.026773</td>\n",
       "      <td>7.0256</td>\n",
       "    </tr>\n",
       "  </tbody>\n",
       "</table>\n",
       "</div>"
      ],
      "text/plain": [
       "   timestamp    h  prediction3  actual\n",
       "0 2019-07-31  t+1     6.884418  6.8834\n",
       "1 2019-08-01  t+1     6.884103  6.8978\n",
       "2 2019-08-02  t+1     6.895335  6.9392\n",
       "3 2019-08-05  t+1     6.930861  7.0497\n",
       "4 2019-08-06  t+1     7.026773  7.0256"
      ]
     },
     "execution_count": 53,
     "metadata": {},
     "output_type": "execute_result"
    }
   ],
   "source": [
    "predictions = svr0.predict(X_valid)\n",
    "eval_df = pd.DataFrame(predictions, columns=['t+'+str(t) for t in range(1, HORIZON+1)])\n",
    "eval_df['timestamp'] = valid_shifted.index\n",
    "eval_df = pd.melt(eval_df, id_vars='timestamp', value_name='prediction3', var_name='h')\n",
    "eval_df['actual'] = np.transpose(y_valid).ravel()\n",
    "eval_df[['prediction3', 'actual']] = scaler.inverse_transform(eval_df[['prediction3', 'actual']])\n",
    "eval_df.head()"
   ]
  },
  {
   "cell_type": "code",
   "execution_count": 54,
   "id": "b1bff255",
   "metadata": {},
   "outputs": [],
   "source": [
    "# Metrics\n",
    "from sklearn.metrics import mean_squared_error, mean_absolute_error, median_absolute_error\n",
    "from sklearn.preprocessing import MinMaxScaler\n",
    "from sklearn.metrics import r2_score"
   ]
  },
  {
   "cell_type": "code",
   "execution_count": 55,
   "id": "d6965b80",
   "metadata": {},
   "outputs": [
    {
     "name": "stdout",
     "output_type": "stream",
     "text": [
      "Valid MAE: 0.014092858792982435\n",
      "Valid MSE: 0.00044290876916060174\n",
      "Valid R2: 0.9004415313673177\n",
      "Valid MAPE is 0.19%\n"
     ]
    }
   ],
   "source": [
    "svr0_pred = svr0.predict(X_valid)\n",
    "print('Valid MAE:',mean_absolute_error(y_valid, svr0_pred))\n",
    "print('Valid MSE:',mean_squared_error(y_valid, svr0_pred))\n",
    "print(\"Valid R2:\",r2_score(y_valid, svr0_pred))\n",
    "mape_test = np.mean(np.abs((eval_df['prediction3'] - eval_df['actual']) / eval_df['actual'])) * 100\n",
    "print('Valid MAPE is {:.2f}%'.format(mape_test))"
   ]
  },
  {
   "cell_type": "code",
   "execution_count": 56,
   "id": "566e9a5d",
   "metadata": {},
   "outputs": [],
   "source": [
    "index_pre = er_price.index.get_loc(test_start) - K"
   ]
  },
  {
   "cell_type": "code",
   "execution_count": 57,
   "id": "8dffc40c",
   "metadata": {},
   "outputs": [
    {
     "name": "stdout",
     "output_type": "stream",
     "text": [
      "               close\n",
      "date                \n",
      "2020-07-29  1.026497\n",
      "2020-07-30  1.027133\n",
      "2021-08-27  0.476206\n",
      "2021-08-30  0.460625\n"
     ]
    }
   ],
   "source": [
    "true_valid_start = er_price.index[index_pre]\n",
    "test_df = er_price[true_valid_start:].copy()\n",
    "test_df['close'] = scaler.transform(test_df)\n",
    "print(test_df.head(2).append(test_df.tail(2)))"
   ]
  },
  {
   "cell_type": "code",
   "execution_count": 58,
   "id": "e46b2394",
   "metadata": {},
   "outputs": [],
   "source": [
    "test_shifted = test_df.copy()\n",
    "test_shifted['close_t+1'] = test_shifted['close'].shift(-1)\n",
    "for t in range(0, K):\n",
    "     test_shifted['close_t-{}'.format(t)] = test_shifted['close'].shift(t)\n",
    "test_shifted = test_shifted.dropna(how='any')\n",
    "y_test = test_shifted[y_data].values\n",
    "X_test = test_shifted[X_data].values"
   ]
  },
  {
   "cell_type": "code",
   "execution_count": 59,
   "id": "c940b652",
   "metadata": {},
   "outputs": [],
   "source": [
    "predictions = svr0.predict(X_test)"
   ]
  },
  {
   "cell_type": "code",
   "execution_count": 60,
   "id": "ddbe4153",
   "metadata": {},
   "outputs": [
    {
     "data": {
      "text/html": [
       "<div>\n",
       "<style scoped>\n",
       "    .dataframe tbody tr th:only-of-type {\n",
       "        vertical-align: middle;\n",
       "    }\n",
       "\n",
       "    .dataframe tbody tr th {\n",
       "        vertical-align: top;\n",
       "    }\n",
       "\n",
       "    .dataframe thead th {\n",
       "        text-align: right;\n",
       "    }\n",
       "</style>\n",
       "<table border=\"1\" class=\"dataframe\">\n",
       "  <thead>\n",
       "    <tr style=\"text-align: right;\">\n",
       "      <th></th>\n",
       "      <th>date</th>\n",
       "      <th>h</th>\n",
       "      <th>prediction3</th>\n",
       "      <th>actual</th>\n",
       "    </tr>\n",
       "  </thead>\n",
       "  <tbody>\n",
       "    <tr>\n",
       "      <th>0</th>\n",
       "      <td>2020-07-31</td>\n",
       "      <td>t+1</td>\n",
       "      <td>7.005248</td>\n",
       "      <td>6.9742</td>\n",
       "    </tr>\n",
       "    <tr>\n",
       "      <th>1</th>\n",
       "      <td>2020-08-03</td>\n",
       "      <td>t+1</td>\n",
       "      <td>6.979064</td>\n",
       "      <td>6.9794</td>\n",
       "    </tr>\n",
       "    <tr>\n",
       "      <th>2</th>\n",
       "      <td>2020-08-04</td>\n",
       "      <td>t+1</td>\n",
       "      <td>6.979946</td>\n",
       "      <td>6.9727</td>\n",
       "    </tr>\n",
       "    <tr>\n",
       "      <th>3</th>\n",
       "      <td>2020-08-05</td>\n",
       "      <td>t+1</td>\n",
       "      <td>6.973085</td>\n",
       "      <td>6.9346</td>\n",
       "    </tr>\n",
       "    <tr>\n",
       "      <th>4</th>\n",
       "      <td>2020-08-06</td>\n",
       "      <td>t+1</td>\n",
       "      <td>6.941499</td>\n",
       "      <td>6.9524</td>\n",
       "    </tr>\n",
       "  </tbody>\n",
       "</table>\n",
       "</div>"
      ],
      "text/plain": [
       "        date    h  prediction3  actual\n",
       "0 2020-07-31  t+1     7.005248  6.9742\n",
       "1 2020-08-03  t+1     6.979064  6.9794\n",
       "2 2020-08-04  t+1     6.979946  6.9727\n",
       "3 2020-08-05  t+1     6.973085  6.9346\n",
       "4 2020-08-06  t+1     6.941499  6.9524"
      ]
     },
     "execution_count": 60,
     "metadata": {},
     "output_type": "execute_result"
    }
   ],
   "source": [
    "eval_df = pd.DataFrame(predictions, columns=['t+'+str(t) for t in range(1, HORIZON+1)])\n",
    "eval_df['date'] = test_shifted.index\n",
    "eval_df = pd.melt(eval_df, id_vars='date', value_name='prediction3', var_name='h')\n",
    "eval_df['actual'] = np.transpose(y_test).ravel()\n",
    "eval_df[['prediction3', 'actual']] = scaler.inverse_transform(eval_df[['prediction3', 'actual']])\n",
    "eval_df.head()"
   ]
  },
  {
   "cell_type": "code",
   "execution_count": 61,
   "id": "9f395310",
   "metadata": {},
   "outputs": [
    {
     "name": "stdout",
     "output_type": "stream",
     "text": [
      "Test MAE: 0.012039909045139496\n",
      "Test MSE: 0.00029901968438673763\n",
      "Test R2: 0.9889338749639084\n",
      "Test MAPE is 0.17%\n"
     ]
    }
   ],
   "source": [
    "svr0_pred = svr0.predict(X_test)\n",
    "print('Test MAE:',mean_absolute_error(y_test, svr0_pred))\n",
    "print('Test MSE:',mean_squared_error(y_test, svr0_pred))\n",
    "print(\"Test R2:\",r2_score(y_test, svr0_pred))\n",
    "mape_test = np.mean(np.abs((eval_df['prediction3'] - eval_df['actual']) / eval_df['actual'])) * 100\n",
    "print('Test MAPE is {:.2f}%'.format(mape_test))"
   ]
  },
  {
   "cell_type": "code",
   "execution_count": 62,
   "id": "daac7fe6",
   "metadata": {},
   "outputs": [
    {
     "data": {
      "image/png": "[encoded data removed]",
      "text/plain": [
       "<Figure size 1080x576 with 1 Axes>"
      ]
     },
     "metadata": {
      "needs_background": "light"
     },
     "output_type": "display_data"
    }
   ],
   "source": [
    "eval_df.plot(x='date', y=['prediction3', 'actual'], style=['r', 'b'], figsize=(15, 8))\n",
    "plt.title('Predicted and actual close price of USDCNY')\n",
    "plt.xlabel('date', fontsize=12)\n",
    "plt.ylabel('load', fontsize=12)\n",
    "plt.show()"
   ]
  },
  {
   "cell_type": "markdown",
   "id": "f13e8676",
   "metadata": {},
   "source": [
    "# Random Forest model when K=3"
   ]
  },
  {
   "cell_type": "code",
   "execution_count": 63,
   "id": "fd4519cf",
   "metadata": {},
   "outputs": [],
   "source": [
    "from sklearn.ensemble import RandomForestRegressor"
   ]
  },
  {
   "cell_type": "code",
   "execution_count": 64,
   "id": "ecae61e6",
   "metadata": {},
   "outputs": [
    {
     "name": "stdout",
     "output_type": "stream",
     "text": [
      "               close\n",
      "date                \n",
      "2020-07-29  1.026497\n",
      "2020-07-30  1.027133\n",
      "2021-08-27  0.476206\n",
      "2021-08-30  0.460625\n"
     ]
    }
   ],
   "source": [
    "index_pre = er_price.index.get_loc(test_start) - K\n",
    "true_valid_start = er_price.index[index_pre]\n",
    "test_df = er_price[true_valid_start:].copy()\n",
    "test_df['close'] = scaler.transform(test_df)\n",
    "print(test_df.head(2).append(test_df.tail(2)))"
   ]
  },
  {
   "cell_type": "code",
   "execution_count": 65,
   "id": "d151a860",
   "metadata": {},
   "outputs": [
    {
     "name": "stderr",
     "output_type": "stream",
     "text": [
      "/var/folders/v3/450qq1rj1dg9h7f9glq8l6wh0000gn/T/ipykernel_65888/464134978.py:3: DataConversionWarning: A column-vector y was passed when a 1d array was expected. Please change the shape of y to (n_samples,), for example using ravel().\n",
      "  rfg.fit(X_train, y_train)\n"
     ]
    }
   ],
   "source": [
    "#Random Forest\n",
    "rfg = RandomForestRegressor()\n",
    "rfg.fit(X_train, y_train)\n",
    "rfg_pred = rfg.predict(X_test)"
   ]
  },
  {
   "cell_type": "code",
   "execution_count": 66,
   "id": "8a7cd812",
   "metadata": {},
   "outputs": [],
   "source": [
    "test_shifted = test_df.copy()\n",
    "test_shifted['close_t+1'] = test_shifted['close'].shift(-1)\n",
    "for t in range(0, K):\n",
    "     test_shifted['close_t-{}'.format(t)] = test_shifted['close'].shift(t)\n",
    "test_shifted = test_shifted.dropna(how='any')\n",
    "y_test = test_shifted[y_data].values\n",
    "X_test = test_shifted[X_data].values"
   ]
  },
  {
   "cell_type": "code",
   "execution_count": 67,
   "id": "06909048",
   "metadata": {},
   "outputs": [],
   "source": [
    "predictions = rfg.predict(X_test)"
   ]
  },
  {
   "cell_type": "code",
   "execution_count": 68,
   "id": "bdd9111d",
   "metadata": {},
   "outputs": [
    {
     "data": {
      "text/html": [
       "<div>\n",
       "<style scoped>\n",
       "    .dataframe tbody tr th:only-of-type {\n",
       "        vertical-align: middle;\n",
       "    }\n",
       "\n",
       "    .dataframe tbody tr th {\n",
       "        vertical-align: top;\n",
       "    }\n",
       "\n",
       "    .dataframe thead th {\n",
       "        text-align: right;\n",
       "    }\n",
       "</style>\n",
       "<table border=\"1\" class=\"dataframe\">\n",
       "  <thead>\n",
       "    <tr style=\"text-align: right;\">\n",
       "      <th></th>\n",
       "      <th>date</th>\n",
       "      <th>h</th>\n",
       "      <th>prediction3</th>\n",
       "      <th>actual</th>\n",
       "    </tr>\n",
       "  </thead>\n",
       "  <tbody>\n",
       "    <tr>\n",
       "      <th>0</th>\n",
       "      <td>2020-07-31</td>\n",
       "      <td>t+1</td>\n",
       "      <td>6.935351</td>\n",
       "      <td>6.9742</td>\n",
       "    </tr>\n",
       "    <tr>\n",
       "      <th>1</th>\n",
       "      <td>2020-08-03</td>\n",
       "      <td>t+1</td>\n",
       "      <td>6.935351</td>\n",
       "      <td>6.9794</td>\n",
       "    </tr>\n",
       "    <tr>\n",
       "      <th>2</th>\n",
       "      <td>2020-08-04</td>\n",
       "      <td>t+1</td>\n",
       "      <td>6.935351</td>\n",
       "      <td>6.9727</td>\n",
       "    </tr>\n",
       "    <tr>\n",
       "      <th>3</th>\n",
       "      <td>2020-08-05</td>\n",
       "      <td>t+1</td>\n",
       "      <td>6.935351</td>\n",
       "      <td>6.9346</td>\n",
       "    </tr>\n",
       "    <tr>\n",
       "      <th>4</th>\n",
       "      <td>2020-08-06</td>\n",
       "      <td>t+1</td>\n",
       "      <td>6.931241</td>\n",
       "      <td>6.9524</td>\n",
       "    </tr>\n",
       "  </tbody>\n",
       "</table>\n",
       "</div>"
      ],
      "text/plain": [
       "        date    h  prediction3  actual\n",
       "0 2020-07-31  t+1     6.935351  6.9742\n",
       "1 2020-08-03  t+1     6.935351  6.9794\n",
       "2 2020-08-04  t+1     6.935351  6.9727\n",
       "3 2020-08-05  t+1     6.935351  6.9346\n",
       "4 2020-08-06  t+1     6.931241  6.9524"
      ]
     },
     "execution_count": 68,
     "metadata": {},
     "output_type": "execute_result"
    }
   ],
   "source": [
    "eval_df = pd.DataFrame(predictions, columns=['t+'+str(t) for t in range(1, HORIZON+1)])\n",
    "eval_df['date'] = test_shifted.index\n",
    "eval_df = pd.melt(eval_df, id_vars='date', value_name='prediction3', var_name='h')\n",
    "eval_df['actual'] = np.transpose(y_test).ravel()\n",
    "eval_df[['prediction3', 'actual']] = scaler.inverse_transform(eval_df[['prediction3', 'actual']])\n",
    "eval_df.head()"
   ]
  },
  {
   "cell_type": "code",
   "execution_count": 69,
   "id": "d12567cf",
   "metadata": {},
   "outputs": [
    {
     "data": {
      "image/png": "[encoded data removed]",
      "text/plain": [
       "<Figure size 1080x576 with 1 Axes>"
      ]
     },
     "metadata": {
      "needs_background": "light"
     },
     "output_type": "display_data"
    }
   ],
   "source": [
    "eval_df.plot(x='date', y=['prediction3', 'actual'], style=['r', 'b'], figsize=(15, 8))\n",
    "plt.title('Predicted and actual close price of USDCNY')\n",
    "plt.xlabel('date', fontsize=12)\n",
    "plt.ylabel('load', fontsize=12)\n",
    "plt.show()"
   ]
  },
  {
   "cell_type": "code",
   "execution_count": 70,
   "id": "b98b166b",
   "metadata": {},
   "outputs": [
    {
     "name": "stdout",
     "output_type": "stream",
     "text": [
      "Test MAE: 0.014165644218637707\n",
      "Test MSE: 0.00037441943706123526\n",
      "Test R2: 0.9861434797680282\n",
      "Testing MAPE is 0.20%\n"
     ]
    }
   ],
   "source": [
    "print('Test MAE:',mean_absolute_error(y_test, rfg_pred))\n",
    "print('Test MSE:',mean_squared_error(y_test, rfg_pred))\n",
    "print(\"Test R2:\",r2_score(y_test,rfg_pred))\n",
    "mape_test = np.mean(np.abs((eval_df['prediction3'] - eval_df['actual']) / eval_df['actual'])) * 100\n",
    "print('Testing MAPE is {:.2f}%'.format(mape_test))"
   ]
  },
  {
   "cell_type": "markdown",
   "id": "ebcdcaa1",
   "metadata": {},
   "source": [
    "# SVR model when K=5"
   ]
  },
  {
   "cell_type": "code",
   "execution_count": 71,
   "id": "95e10c00",
   "metadata": {},
   "outputs": [],
   "source": [
    "K = 5\n",
    "HORIZON = 1"
   ]
  },
  {
   "cell_type": "code",
   "execution_count": 72,
   "id": "cb076d34",
   "metadata": {},
   "outputs": [],
   "source": [
    "train_er = er_price[:valid_start].copy()"
   ]
  },
  {
   "cell_type": "code",
   "execution_count": 73,
   "id": "9e7902c9",
   "metadata": {},
   "outputs": [
    {
     "name": "stdout",
     "output_type": "stream",
     "text": [
      "               close\n",
      "date                \n",
      "2011-01-03  0.593959\n",
      "2011-01-04  0.581664\n",
      "2019-07-31  0.903445\n",
      "2019-08-01  0.903233\n"
     ]
    },
    {
     "data": {
      "image/png": "[encoded data removed]",
      "text/plain": [
       "<Figure size 432x288 with 1 Axes>"
      ]
     },
     "metadata": {
      "needs_background": "light"
     },
     "output_type": "display_data"
    }
   ],
   "source": [
    "from sklearn.preprocessing import MinMaxScaler\n",
    "scaler = MinMaxScaler()\n",
    "train_er['close'] = scaler.fit_transform(train_er)\n",
    "print(train_er.head(2).append(train_er.tail(2)))\n",
    "train_er.rename(columns={'close':'after scaling'}).plot.hist(bins=100, fontsize=12)\n",
    "plt.show()"
   ]
  },
  {
   "cell_type": "code",
   "execution_count": 74,
   "id": "8708c1b3",
   "metadata": {},
   "outputs": [
    {
     "data": {
      "text/html": [
       "<div>\n",
       "<style scoped>\n",
       "    .dataframe tbody tr th:only-of-type {\n",
       "        vertical-align: middle;\n",
       "    }\n",
       "\n",
       "    .dataframe tbody tr th {\n",
       "        vertical-align: top;\n",
       "    }\n",
       "\n",
       "    .dataframe thead th {\n",
       "        text-align: right;\n",
       "    }\n",
       "</style>\n",
       "<table border=\"1\" class=\"dataframe\">\n",
       "  <thead>\n",
       "    <tr style=\"text-align: right;\">\n",
       "      <th></th>\n",
       "      <th>close</th>\n",
       "      <th>close_t+1</th>\n",
       "    </tr>\n",
       "    <tr>\n",
       "      <th>date</th>\n",
       "      <th></th>\n",
       "      <th></th>\n",
       "    </tr>\n",
       "  </thead>\n",
       "  <tbody>\n",
       "    <tr>\n",
       "      <th>2011-01-03</th>\n",
       "      <td>0.593959</td>\n",
       "      <td>0.581664</td>\n",
       "    </tr>\n",
       "    <tr>\n",
       "      <th>2011-01-04</th>\n",
       "      <td>0.581664</td>\n",
       "      <td>0.599682</td>\n",
       "    </tr>\n",
       "  </tbody>\n",
       "</table>\n",
       "</div>"
      ],
      "text/plain": [
       "               close  close_t+1\n",
       "date                           \n",
       "2011-01-03  0.593959   0.581664\n",
       "2011-01-04  0.581664   0.599682"
      ]
     },
     "execution_count": 74,
     "metadata": {},
     "output_type": "execute_result"
    }
   ],
   "source": [
    "train_shifted = train_er\n",
    "train_shifted['close_t+1'] = train_er['close'].shift(-1)\n",
    "train_shifted.head(2)"
   ]
  },
  {
   "cell_type": "code",
   "execution_count": 75,
   "id": "ac537b1c",
   "metadata": {},
   "outputs": [
    {
     "data": {
      "text/html": [
       "<div>\n",
       "<style scoped>\n",
       "    .dataframe tbody tr th:only-of-type {\n",
       "        vertical-align: middle;\n",
       "    }\n",
       "\n",
       "    .dataframe tbody tr th {\n",
       "        vertical-align: top;\n",
       "    }\n",
       "\n",
       "    .dataframe thead th {\n",
       "        text-align: right;\n",
       "    }\n",
       "</style>\n",
       "<table border=\"1\" class=\"dataframe\">\n",
       "  <thead>\n",
       "    <tr style=\"text-align: right;\">\n",
       "      <th></th>\n",
       "      <th>close</th>\n",
       "      <th>close_t+1</th>\n",
       "      <th>close_t-0</th>\n",
       "      <th>close_t-1</th>\n",
       "      <th>close_t-2</th>\n",
       "      <th>close_t-3</th>\n",
       "      <th>close_t-4</th>\n",
       "    </tr>\n",
       "    <tr>\n",
       "      <th>date</th>\n",
       "      <th></th>\n",
       "      <th></th>\n",
       "      <th></th>\n",
       "      <th></th>\n",
       "      <th></th>\n",
       "      <th></th>\n",
       "      <th></th>\n",
       "    </tr>\n",
       "  </thead>\n",
       "  <tbody>\n",
       "    <tr>\n",
       "      <th>2011-01-03</th>\n",
       "      <td>0.593959</td>\n",
       "      <td>0.581664</td>\n",
       "      <td>0.593959</td>\n",
       "      <td>NaN</td>\n",
       "      <td>NaN</td>\n",
       "      <td>NaN</td>\n",
       "      <td>NaN</td>\n",
       "    </tr>\n",
       "    <tr>\n",
       "      <th>2011-01-04</th>\n",
       "      <td>0.581664</td>\n",
       "      <td>0.599682</td>\n",
       "      <td>0.581664</td>\n",
       "      <td>0.593959</td>\n",
       "      <td>NaN</td>\n",
       "      <td>NaN</td>\n",
       "      <td>NaN</td>\n",
       "    </tr>\n",
       "    <tr>\n",
       "      <th>2011-01-05</th>\n",
       "      <td>0.599682</td>\n",
       "      <td>0.579014</td>\n",
       "      <td>0.599682</td>\n",
       "      <td>0.581664</td>\n",
       "      <td>0.593959</td>\n",
       "      <td>NaN</td>\n",
       "      <td>NaN</td>\n",
       "    </tr>\n",
       "    <tr>\n",
       "      <th>2011-01-06</th>\n",
       "      <td>0.579014</td>\n",
       "      <td>0.620350</td>\n",
       "      <td>0.579014</td>\n",
       "      <td>0.599682</td>\n",
       "      <td>0.581664</td>\n",
       "      <td>0.593959</td>\n",
       "      <td>NaN</td>\n",
       "    </tr>\n",
       "    <tr>\n",
       "      <th>2011-01-07</th>\n",
       "      <td>0.620350</td>\n",
       "      <td>0.621410</td>\n",
       "      <td>0.620350</td>\n",
       "      <td>0.579014</td>\n",
       "      <td>0.599682</td>\n",
       "      <td>0.581664</td>\n",
       "      <td>0.593959</td>\n",
       "    </tr>\n",
       "  </tbody>\n",
       "</table>\n",
       "</div>"
      ],
      "text/plain": [
       "               close  close_t+1  close_t-0  close_t-1  close_t-2  close_t-3  \\\n",
       "date                                                                          \n",
       "2011-01-03  0.593959   0.581664   0.593959        NaN        NaN        NaN   \n",
       "2011-01-04  0.581664   0.599682   0.581664   0.593959        NaN        NaN   \n",
       "2011-01-05  0.599682   0.579014   0.599682   0.581664   0.593959        NaN   \n",
       "2011-01-06  0.579014   0.620350   0.579014   0.599682   0.581664   0.593959   \n",
       "2011-01-07  0.620350   0.621410   0.620350   0.579014   0.599682   0.581664   \n",
       "\n",
       "            close_t-4  \n",
       "date                   \n",
       "2011-01-03        NaN  \n",
       "2011-01-04        NaN  \n",
       "2011-01-05        NaN  \n",
       "2011-01-06        NaN  \n",
       "2011-01-07   0.593959  "
      ]
     },
     "execution_count": 75,
     "metadata": {},
     "output_type": "execute_result"
    }
   ],
   "source": [
    "for t in range(K):\n",
    "    train_shifted['close_t-{}'.format(t)] = train_shifted['close'].shift(t)\n",
    "train_shifted.head()"
   ]
  },
  {
   "cell_type": "code",
   "execution_count": 76,
   "id": "f4ac1f43",
   "metadata": {},
   "outputs": [
    {
     "data": {
      "text/html": [
       "<div>\n",
       "<style scoped>\n",
       "    .dataframe tbody tr th:only-of-type {\n",
       "        vertical-align: middle;\n",
       "    }\n",
       "\n",
       "    .dataframe tbody tr th {\n",
       "        vertical-align: top;\n",
       "    }\n",
       "\n",
       "    .dataframe thead th {\n",
       "        text-align: right;\n",
       "    }\n",
       "</style>\n",
       "<table border=\"1\" class=\"dataframe\">\n",
       "  <thead>\n",
       "    <tr style=\"text-align: right;\">\n",
       "      <th></th>\n",
       "      <th>close</th>\n",
       "      <th>close_t+1</th>\n",
       "      <th>close_t-0</th>\n",
       "      <th>close_t-1</th>\n",
       "      <th>close_t-2</th>\n",
       "      <th>close_t-3</th>\n",
       "      <th>close_t-4</th>\n",
       "    </tr>\n",
       "    <tr>\n",
       "      <th>date</th>\n",
       "      <th></th>\n",
       "      <th></th>\n",
       "      <th></th>\n",
       "      <th></th>\n",
       "      <th></th>\n",
       "      <th></th>\n",
       "      <th></th>\n",
       "    </tr>\n",
       "  </thead>\n",
       "  <tbody>\n",
       "    <tr>\n",
       "      <th>2011-01-07</th>\n",
       "      <td>0.620350</td>\n",
       "      <td>0.621410</td>\n",
       "      <td>0.620350</td>\n",
       "      <td>0.579014</td>\n",
       "      <td>0.599682</td>\n",
       "      <td>0.581664</td>\n",
       "      <td>0.593959</td>\n",
       "    </tr>\n",
       "    <tr>\n",
       "      <th>2011-01-10</th>\n",
       "      <td>0.621410</td>\n",
       "      <td>0.630419</td>\n",
       "      <td>0.621410</td>\n",
       "      <td>0.620350</td>\n",
       "      <td>0.579014</td>\n",
       "      <td>0.599682</td>\n",
       "      <td>0.581664</td>\n",
       "    </tr>\n",
       "    <tr>\n",
       "      <th>2011-01-11</th>\n",
       "      <td>0.630419</td>\n",
       "      <td>0.613461</td>\n",
       "      <td>0.630419</td>\n",
       "      <td>0.621410</td>\n",
       "      <td>0.620350</td>\n",
       "      <td>0.579014</td>\n",
       "      <td>0.599682</td>\n",
       "    </tr>\n",
       "    <tr>\n",
       "      <th>2011-01-12</th>\n",
       "      <td>0.613461</td>\n",
       "      <td>0.596714</td>\n",
       "      <td>0.613461</td>\n",
       "      <td>0.630419</td>\n",
       "      <td>0.621410</td>\n",
       "      <td>0.620350</td>\n",
       "      <td>0.579014</td>\n",
       "    </tr>\n",
       "    <tr>\n",
       "      <th>2011-01-13</th>\n",
       "      <td>0.596714</td>\n",
       "      <td>0.598304</td>\n",
       "      <td>0.596714</td>\n",
       "      <td>0.613461</td>\n",
       "      <td>0.630419</td>\n",
       "      <td>0.621410</td>\n",
       "      <td>0.620350</td>\n",
       "    </tr>\n",
       "  </tbody>\n",
       "</table>\n",
       "</div>"
      ],
      "text/plain": [
       "               close  close_t+1  close_t-0  close_t-1  close_t-2  close_t-3  \\\n",
       "date                                                                          \n",
       "2011-01-07  0.620350   0.621410   0.620350   0.579014   0.599682   0.581664   \n",
       "2011-01-10  0.621410   0.630419   0.621410   0.620350   0.579014   0.599682   \n",
       "2011-01-11  0.630419   0.613461   0.630419   0.621410   0.620350   0.579014   \n",
       "2011-01-12  0.613461   0.596714   0.613461   0.630419   0.621410   0.620350   \n",
       "2011-01-13  0.596714   0.598304   0.596714   0.613461   0.630419   0.621410   \n",
       "\n",
       "            close_t-4  \n",
       "date                   \n",
       "2011-01-07   0.593959  \n",
       "2011-01-10   0.581664  \n",
       "2011-01-11   0.599682  \n",
       "2011-01-12   0.579014  \n",
       "2011-01-13   0.620350  "
      ]
     },
     "execution_count": 76,
     "metadata": {},
     "output_type": "execute_result"
    }
   ],
   "source": [
    "train_shifted = train_shifted.dropna(how='any')\n",
    "train_shifted.head()"
   ]
  },
  {
   "cell_type": "code",
   "execution_count": 77,
   "id": "d30ec940",
   "metadata": {},
   "outputs": [],
   "source": [
    "y_data = ['close_t+1']\n",
    "X_data = ['close_t-{}'.format(idx) for idx in range(0, K)]"
   ]
  },
  {
   "cell_type": "code",
   "execution_count": 78,
   "id": "5363e213",
   "metadata": {},
   "outputs": [
    {
     "name": "stdout",
     "output_type": "stream",
     "text": [
      "(2229, 1)\n",
      "(2229, 5)\n"
     ]
    }
   ],
   "source": [
    "y_train = train_shifted[y_data].values\n",
    "print(y_train.shape)\n",
    "X_train = train_shifted[X_data].values\n",
    "print(X_train.shape)"
   ]
  },
  {
   "cell_type": "code",
   "execution_count": 79,
   "id": "146debdf",
   "metadata": {},
   "outputs": [],
   "source": [
    "from sklearn.svm import SVR\n",
    "\n",
    "from sklearn.metrics import r2_score"
   ]
  },
  {
   "cell_type": "code",
   "execution_count": 80,
   "id": "95cfe799",
   "metadata": {},
   "outputs": [
    {
     "name": "stderr",
     "output_type": "stream",
     "text": [
      "/Users/yanzi/opt/anaconda3/lib/python3.8/site-packages/sklearn/utils/validation.py:985: DataConversionWarning: A column-vector y was passed when a 1d array was expected. Please change the shape of y to (n_samples, ), for example using ravel().\n",
      "  y = column_or_1d(y, warn=True)\n"
     ]
    },
    {
     "data": {
      "text/plain": [
       "SVR(C=100, epsilon=0.01, gamma=0.005)"
      ]
     },
     "execution_count": 80,
     "metadata": {},
     "output_type": "execute_result"
    }
   ],
   "source": [
    "svr0 = SVR(kernel='rbf',gamma=0.005, C=100,epsilon=0.01)\n",
    "svr0.fit(X_train, y_train)"
   ]
  },
  {
   "cell_type": "code",
   "execution_count": 81,
   "id": "e8547d89",
   "metadata": {},
   "outputs": [],
   "source": [
    "index_pre = er_price.index.get_loc(valid_start) - K\n",
    "true_valid_start = er_price.index[index_pre]"
   ]
  },
  {
   "cell_type": "code",
   "execution_count": 82,
   "id": "62d4f71b",
   "metadata": {},
   "outputs": [
    {
     "name": "stdout",
     "output_type": "stream",
     "text": [
      "               close\n",
      "date                \n",
      "2019-07-25  0.890620\n",
      "2019-07-26  0.890726\n",
      "2020-07-31  1.034552\n",
      "2020-08-03  0.999470\n"
     ]
    }
   ],
   "source": [
    "val_df = er_price[true_valid_start:test_start].copy()\n",
    "val_df['close'] = scaler.transform(val_df)\n",
    "print(val_df.head(2).append(val_df.tail(2)))"
   ]
  },
  {
   "cell_type": "code",
   "execution_count": 83,
   "id": "36566e2e",
   "metadata": {},
   "outputs": [],
   "source": [
    "valid_shifted = val_df.copy()\n",
    "valid_shifted['close_t+1'] = val_df['close'].shift(-1)\n",
    "for t in range(K):\n",
    "     valid_shifted['close_t-{}'.format(t)] = valid_shifted['close'].shift(t)\n",
    "valid_shifted = valid_shifted.dropna(how='any')\n",
    "y_valid = valid_shifted[y_data].values\n",
    "X_valid = valid_shifted[X_data].values"
   ]
  },
  {
   "cell_type": "code",
   "execution_count": 84,
   "id": "374fc156",
   "metadata": {},
   "outputs": [
    {
     "data": {
      "text/html": [
       "<div>\n",
       "<style scoped>\n",
       "    .dataframe tbody tr th:only-of-type {\n",
       "        vertical-align: middle;\n",
       "    }\n",
       "\n",
       "    .dataframe tbody tr th {\n",
       "        vertical-align: top;\n",
       "    }\n",
       "\n",
       "    .dataframe thead th {\n",
       "        text-align: right;\n",
       "    }\n",
       "</style>\n",
       "<table border=\"1\" class=\"dataframe\">\n",
       "  <thead>\n",
       "    <tr style=\"text-align: right;\">\n",
       "      <th></th>\n",
       "      <th>timestamp</th>\n",
       "      <th>h</th>\n",
       "      <th>prediction5</th>\n",
       "      <th>actual</th>\n",
       "    </tr>\n",
       "  </thead>\n",
       "  <tbody>\n",
       "    <tr>\n",
       "      <th>0</th>\n",
       "      <td>2019-07-31</td>\n",
       "      <td>t+1</td>\n",
       "      <td>6.884458</td>\n",
       "      <td>6.8834</td>\n",
       "    </tr>\n",
       "    <tr>\n",
       "      <th>1</th>\n",
       "      <td>2019-08-01</td>\n",
       "      <td>t+1</td>\n",
       "      <td>6.884570</td>\n",
       "      <td>6.8978</td>\n",
       "    </tr>\n",
       "    <tr>\n",
       "      <th>2</th>\n",
       "      <td>2019-08-02</td>\n",
       "      <td>t+1</td>\n",
       "      <td>6.895025</td>\n",
       "      <td>6.9392</td>\n",
       "    </tr>\n",
       "    <tr>\n",
       "      <th>3</th>\n",
       "      <td>2019-08-05</td>\n",
       "      <td>t+1</td>\n",
       "      <td>6.930584</td>\n",
       "      <td>7.0497</td>\n",
       "    </tr>\n",
       "    <tr>\n",
       "      <th>4</th>\n",
       "      <td>2019-08-06</td>\n",
       "      <td>t+1</td>\n",
       "      <td>7.027280</td>\n",
       "      <td>7.0256</td>\n",
       "    </tr>\n",
       "  </tbody>\n",
       "</table>\n",
       "</div>"
      ],
      "text/plain": [
       "   timestamp    h  prediction5  actual\n",
       "0 2019-07-31  t+1     6.884458  6.8834\n",
       "1 2019-08-01  t+1     6.884570  6.8978\n",
       "2 2019-08-02  t+1     6.895025  6.9392\n",
       "3 2019-08-05  t+1     6.930584  7.0497\n",
       "4 2019-08-06  t+1     7.027280  7.0256"
      ]
     },
     "execution_count": 84,
     "metadata": {},
     "output_type": "execute_result"
    }
   ],
   "source": [
    "predictions = svr0.predict(X_valid)\n",
    "eval_df = pd.DataFrame(predictions, columns=['t+'+str(t) for t in range(1, HORIZON+1)])\n",
    "eval_df['timestamp'] = valid_shifted.index\n",
    "eval_df = pd.melt(eval_df, id_vars='timestamp', value_name='prediction5', var_name='h')\n",
    "eval_df['actual'] = np.transpose(y_valid).ravel()\n",
    "eval_df[['prediction5', 'actual']] = scaler.inverse_transform(eval_df[['prediction5', 'actual']])\n",
    "eval_df.head()"
   ]
  },
  {
   "cell_type": "code",
   "execution_count": 85,
   "id": "5c0c206e",
   "metadata": {},
   "outputs": [],
   "source": [
    "# Metrics\n",
    "from sklearn.metrics import mean_squared_error, mean_absolute_error, median_absolute_error\n",
    "from sklearn.preprocessing import MinMaxScaler\n",
    "from sklearn.metrics import r2_score"
   ]
  },
  {
   "cell_type": "code",
   "execution_count": 86,
   "id": "ebb1bbdd",
   "metadata": {},
   "outputs": [
    {
     "name": "stdout",
     "output_type": "stream",
     "text": [
      "Valid MAE: 0.014191476815441232\n",
      "Valid MSE: 0.0004452146055681995\n",
      "Valid R2: 0.899923217986228\n",
      "Valid MAPE is 0.19%\n"
     ]
    }
   ],
   "source": [
    "svr0_pred = svr0.predict(X_valid)\n",
    "print('Valid MAE:',mean_absolute_error(y_valid, svr0_pred))\n",
    "print('Valid MSE:',mean_squared_error(y_valid, svr0_pred))\n",
    "print(\"Valid R2:\",r2_score(y_valid, svr0_pred))\n",
    "mape_test = np.mean(np.abs((eval_df['prediction5'] - eval_df['actual']) / eval_df['actual'])) * 100\n",
    "print('Valid MAPE is {:.2f}%'.format(mape_test))"
   ]
  },
  {
   "cell_type": "code",
   "execution_count": 87,
   "id": "b44990e6",
   "metadata": {},
   "outputs": [],
   "source": [
    "index_pre = er_price.index.get_loc(test_start) - K"
   ]
  },
  {
   "cell_type": "code",
   "execution_count": 88,
   "id": "3d6c26d3",
   "metadata": {},
   "outputs": [
    {
     "name": "stdout",
     "output_type": "stream",
     "text": [
      "               close\n",
      "date                \n",
      "2020-07-27  1.043879\n",
      "2020-07-28  1.019608\n",
      "2021-08-27  0.476206\n",
      "2021-08-30  0.460625\n"
     ]
    }
   ],
   "source": [
    "true_valid_start = er_price.index[index_pre]\n",
    "test_df = er_price[true_valid_start:].copy()\n",
    "test_df['close'] = scaler.transform(test_df)\n",
    "print(test_df.head(2).append(test_df.tail(2)))"
   ]
  },
  {
   "cell_type": "code",
   "execution_count": 89,
   "id": "6ad0cb66",
   "metadata": {},
   "outputs": [],
   "source": [
    "test_shifted = test_df.copy()\n",
    "test_shifted['close_t+1'] = test_shifted['close'].shift(-1)\n",
    "for t in range(0, K):\n",
    "     test_shifted['close_t-{}'.format(t)] = test_shifted['close'].shift(t)\n",
    "test_shifted = test_shifted.dropna(how='any')\n",
    "y_test = test_shifted[y_data].values\n",
    "X_test = test_shifted[X_data].values"
   ]
  },
  {
   "cell_type": "code",
   "execution_count": 90,
   "id": "7d011157",
   "metadata": {},
   "outputs": [],
   "source": [
    "predictions = svr0.predict(X_test)"
   ]
  },
  {
   "cell_type": "code",
   "execution_count": 91,
   "id": "5578c789",
   "metadata": {},
   "outputs": [
    {
     "data": {
      "text/html": [
       "<div>\n",
       "<style scoped>\n",
       "    .dataframe tbody tr th:only-of-type {\n",
       "        vertical-align: middle;\n",
       "    }\n",
       "\n",
       "    .dataframe tbody tr th {\n",
       "        vertical-align: top;\n",
       "    }\n",
       "\n",
       "    .dataframe thead th {\n",
       "        text-align: right;\n",
       "    }\n",
       "</style>\n",
       "<table border=\"1\" class=\"dataframe\">\n",
       "  <thead>\n",
       "    <tr style=\"text-align: right;\">\n",
       "      <th></th>\n",
       "      <th>date</th>\n",
       "      <th>h</th>\n",
       "      <th>prediction5</th>\n",
       "      <th>actual</th>\n",
       "    </tr>\n",
       "  </thead>\n",
       "  <tbody>\n",
       "    <tr>\n",
       "      <th>0</th>\n",
       "      <td>2020-07-31</td>\n",
       "      <td>t+1</td>\n",
       "      <td>7.004346</td>\n",
       "      <td>6.9742</td>\n",
       "    </tr>\n",
       "    <tr>\n",
       "      <th>1</th>\n",
       "      <td>2020-08-03</td>\n",
       "      <td>t+1</td>\n",
       "      <td>6.978320</td>\n",
       "      <td>6.9794</td>\n",
       "    </tr>\n",
       "    <tr>\n",
       "      <th>2</th>\n",
       "      <td>2020-08-04</td>\n",
       "      <td>t+1</td>\n",
       "      <td>6.979512</td>\n",
       "      <td>6.9727</td>\n",
       "    </tr>\n",
       "    <tr>\n",
       "      <th>3</th>\n",
       "      <td>2020-08-05</td>\n",
       "      <td>t+1</td>\n",
       "      <td>6.971133</td>\n",
       "      <td>6.9346</td>\n",
       "    </tr>\n",
       "    <tr>\n",
       "      <th>4</th>\n",
       "      <td>2020-08-06</td>\n",
       "      <td>t+1</td>\n",
       "      <td>6.940486</td>\n",
       "      <td>6.9524</td>\n",
       "    </tr>\n",
       "  </tbody>\n",
       "</table>\n",
       "</div>"
      ],
      "text/plain": [
       "        date    h  prediction5  actual\n",
       "0 2020-07-31  t+1     7.004346  6.9742\n",
       "1 2020-08-03  t+1     6.978320  6.9794\n",
       "2 2020-08-04  t+1     6.979512  6.9727\n",
       "3 2020-08-05  t+1     6.971133  6.9346\n",
       "4 2020-08-06  t+1     6.940486  6.9524"
      ]
     },
     "execution_count": 91,
     "metadata": {},
     "output_type": "execute_result"
    }
   ],
   "source": [
    "eval_df = pd.DataFrame(predictions, columns=['t+'+str(t) for t in range(1, HORIZON+1)])\n",
    "eval_df['date'] = test_shifted.index\n",
    "eval_df = pd.melt(eval_df, id_vars='date', value_name='prediction5', var_name='h')\n",
    "eval_df['actual'] = np.transpose(y_test).ravel()\n",
    "eval_df[['prediction5', 'actual']] = scaler.inverse_transform(eval_df[['prediction5', 'actual']])\n",
    "eval_df.head()"
   ]
  },
  {
   "cell_type": "code",
   "execution_count": 92,
   "id": "6337089e",
   "metadata": {},
   "outputs": [
    {
     "name": "stdout",
     "output_type": "stream",
     "text": [
      "Test MAE: 0.012103245100652743\n",
      "Test MSE: 0.0002985404509785657\n",
      "Test R2: 0.9889516104411803\n",
      "Test MAPE is 0.17%\n"
     ]
    }
   ],
   "source": [
    "svr0_pred = svr0.predict(X_test)\n",
    "print('Test MAE:',mean_absolute_error(y_test, svr0_pred))\n",
    "print('Test MSE:',mean_squared_error(y_test, svr0_pred))\n",
    "print(\"Test R2:\",r2_score(y_test, svr0_pred))\n",
    "mape_test = np.mean(np.abs((eval_df['prediction5'] - eval_df['actual']) / eval_df['actual'])) * 100\n",
    "print('Test MAPE is {:.2f}%'.format(mape_test))"
   ]
  },
  {
   "cell_type": "code",
   "execution_count": 93,
   "id": "65c29441",
   "metadata": {},
   "outputs": [
    {
     "data": {
      "image/png": "[encoded data removed]",
      "text/plain": [
       "<Figure size 1080x576 with 1 Axes>"
      ]
     },
     "metadata": {
      "needs_background": "light"
     },
     "output_type": "display_data"
    }
   ],
   "source": [
    "eval_df.plot(x='date', y=['prediction5', 'actual'], style=['r', 'b'], figsize=(15, 8))\n",
    "plt.title('Predicted and actual close price of USDCNY')\n",
    "plt.xlabel('date', fontsize=12)\n",
    "plt.ylabel('load', fontsize=12)\n",
    "plt.show()"
   ]
  },
  {
   "cell_type": "markdown",
   "id": "74380cdb",
   "metadata": {},
   "source": [
    "# Random Forest model when K=5"
   ]
  },
  {
   "cell_type": "code",
   "execution_count": 94,
   "id": "c7955f7e",
   "metadata": {},
   "outputs": [],
   "source": [
    "from sklearn.ensemble import RandomForestRegressor"
   ]
  },
  {
   "cell_type": "code",
   "execution_count": 95,
   "id": "bb10126b",
   "metadata": {},
   "outputs": [
    {
     "name": "stdout",
     "output_type": "stream",
     "text": [
      "               close\n",
      "date                \n",
      "2020-07-27  1.043879\n",
      "2020-07-28  1.019608\n",
      "2021-08-27  0.476206\n",
      "2021-08-30  0.460625\n"
     ]
    }
   ],
   "source": [
    "index_pre = er_price.index.get_loc(test_start) - K\n",
    "true_valid_start = er_price.index[index_pre]\n",
    "test_df = er_price[true_valid_start:].copy()\n",
    "test_df['close'] = scaler.transform(test_df)\n",
    "print(test_df.head(2).append(test_df.tail(2)))"
   ]
  },
  {
   "cell_type": "code",
   "execution_count": 96,
   "id": "f7d1880e",
   "metadata": {},
   "outputs": [
    {
     "name": "stderr",
     "output_type": "stream",
     "text": [
      "/var/folders/v3/450qq1rj1dg9h7f9glq8l6wh0000gn/T/ipykernel_65888/464134978.py:3: DataConversionWarning: A column-vector y was passed when a 1d array was expected. Please change the shape of y to (n_samples,), for example using ravel().\n",
      "  rfg.fit(X_train, y_train)\n"
     ]
    }
   ],
   "source": [
    "#Random Forest\n",
    "rfg = RandomForestRegressor()\n",
    "rfg.fit(X_train, y_train)\n",
    "rfg_pred = rfg.predict(X_test)"
   ]
  },
  {
   "cell_type": "code",
   "execution_count": 97,
   "id": "6136087b",
   "metadata": {},
   "outputs": [],
   "source": [
    "test_shifted = test_df.copy()\n",
    "test_shifted['close_t+1'] = test_shifted['close'].shift(-1)\n",
    "for t in range(0, K):\n",
    "     test_shifted['close_t-{}'.format(t)] = test_shifted['close'].shift(t)\n",
    "test_shifted = test_shifted.dropna(how='any')\n",
    "y_test = test_shifted[y_data].values\n",
    "X_test = test_shifted[X_data].values"
   ]
  },
  {
   "cell_type": "code",
   "execution_count": 98,
   "id": "deae58ae",
   "metadata": {},
   "outputs": [],
   "source": [
    "predictions = rfg.predict(X_test)"
   ]
  },
  {
   "cell_type": "code",
   "execution_count": 99,
   "id": "fc8a59db",
   "metadata": {},
   "outputs": [
    {
     "data": {
      "text/html": [
       "<div>\n",
       "<style scoped>\n",
       "    .dataframe tbody tr th:only-of-type {\n",
       "        vertical-align: middle;\n",
       "    }\n",
       "\n",
       "    .dataframe tbody tr th {\n",
       "        vertical-align: top;\n",
       "    }\n",
       "\n",
       "    .dataframe thead th {\n",
       "        text-align: right;\n",
       "    }\n",
       "</style>\n",
       "<table border=\"1\" class=\"dataframe\">\n",
       "  <thead>\n",
       "    <tr style=\"text-align: right;\">\n",
       "      <th></th>\n",
       "      <th>date</th>\n",
       "      <th>h</th>\n",
       "      <th>prediction5</th>\n",
       "      <th>actual</th>\n",
       "    </tr>\n",
       "  </thead>\n",
       "  <tbody>\n",
       "    <tr>\n",
       "      <th>0</th>\n",
       "      <td>2020-07-31</td>\n",
       "      <td>t+1</td>\n",
       "      <td>6.932756</td>\n",
       "      <td>6.9742</td>\n",
       "    </tr>\n",
       "    <tr>\n",
       "      <th>1</th>\n",
       "      <td>2020-08-03</td>\n",
       "      <td>t+1</td>\n",
       "      <td>6.932756</td>\n",
       "      <td>6.9794</td>\n",
       "    </tr>\n",
       "    <tr>\n",
       "      <th>2</th>\n",
       "      <td>2020-08-04</td>\n",
       "      <td>t+1</td>\n",
       "      <td>6.932756</td>\n",
       "      <td>6.9727</td>\n",
       "    </tr>\n",
       "    <tr>\n",
       "      <th>3</th>\n",
       "      <td>2020-08-05</td>\n",
       "      <td>t+1</td>\n",
       "      <td>6.932756</td>\n",
       "      <td>6.9346</td>\n",
       "    </tr>\n",
       "    <tr>\n",
       "      <th>4</th>\n",
       "      <td>2020-08-06</td>\n",
       "      <td>t+1</td>\n",
       "      <td>6.934704</td>\n",
       "      <td>6.9524</td>\n",
       "    </tr>\n",
       "  </tbody>\n",
       "</table>\n",
       "</div>"
      ],
      "text/plain": [
       "        date    h  prediction5  actual\n",
       "0 2020-07-31  t+1     6.932756  6.9742\n",
       "1 2020-08-03  t+1     6.932756  6.9794\n",
       "2 2020-08-04  t+1     6.932756  6.9727\n",
       "3 2020-08-05  t+1     6.932756  6.9346\n",
       "4 2020-08-06  t+1     6.934704  6.9524"
      ]
     },
     "execution_count": 99,
     "metadata": {},
     "output_type": "execute_result"
    }
   ],
   "source": [
    "eval_df = pd.DataFrame(predictions, columns=['t+'+str(t) for t in range(1, HORIZON+1)])\n",
    "eval_df['date'] = test_shifted.index\n",
    "eval_df = pd.melt(eval_df, id_vars='date', value_name='prediction5', var_name='h')\n",
    "eval_df['actual'] = np.transpose(y_test).ravel()\n",
    "eval_df[['prediction5', 'actual']] = scaler.inverse_transform(eval_df[['prediction5', 'actual']])\n",
    "eval_df.head()"
   ]
  },
  {
   "cell_type": "code",
   "execution_count": 100,
   "id": "72545911",
   "metadata": {},
   "outputs": [
    {
     "data": {
      "image/png": "[encoded data removed]",
      "text/plain": [
       "<Figure size 1080x576 with 1 Axes>"
      ]
     },
     "metadata": {
      "needs_background": "light"
     },
     "output_type": "display_data"
    }
   ],
   "source": [
    "eval_df.plot(x='date', y=['prediction5', 'actual'], style=['r', 'b'], figsize=(15, 8))\n",
    "plt.title('Predicted and actual close price of USDCNY')\n",
    "plt.xlabel('date', fontsize=12)\n",
    "plt.ylabel('load', fontsize=12)\n",
    "plt.show()"
   ]
  },
  {
   "cell_type": "code",
   "execution_count": 101,
   "id": "9ea9e887",
   "metadata": {},
   "outputs": [
    {
     "name": "stdout",
     "output_type": "stream",
     "text": [
      "Test MAE: 0.01408513805830108\n",
      "Test MSE: 0.0003738927200208544\n",
      "Test R2: 0.9861629725202844\n",
      "Testing MAPE is 0.20%\n"
     ]
    }
   ],
   "source": [
    "print('Test MAE:',mean_absolute_error(y_test, rfg_pred))\n",
    "print('Test MSE:',mean_squared_error(y_test, rfg_pred))\n",
    "print(\"Test R2:\",r2_score(y_test,rfg_pred))\n",
    "mape_test = np.mean(np.abs((eval_df['prediction5'] - eval_df['actual']) / eval_df['actual'])) * 100\n",
    "print('Testing MAPE is {:.2f}%'.format(mape_test))"
   ]
  },
  {
   "cell_type": "markdown",
   "id": "10fc9c68",
   "metadata": {},
   "source": [
    "# SVR model when K=7"
   ]
  },
  {
   "cell_type": "code",
   "execution_count": 102,
   "id": "0fc60f1c",
   "metadata": {},
   "outputs": [],
   "source": [
    "K = 7\n",
    "HORIZON = 1"
   ]
  },
  {
   "cell_type": "code",
   "execution_count": 103,
   "id": "be1e4151",
   "metadata": {},
   "outputs": [],
   "source": [
    "train_er = er_price[:valid_start].copy()"
   ]
  },
  {
   "cell_type": "code",
   "execution_count": 104,
   "id": "03a16a01",
   "metadata": {},
   "outputs": [
    {
     "name": "stdout",
     "output_type": "stream",
     "text": [
      "               close\n",
      "date                \n",
      "2011-01-03  0.593959\n",
      "2011-01-04  0.581664\n",
      "2019-07-31  0.903445\n",
      "2019-08-01  0.903233\n"
     ]
    },
    {
     "data": {
      "image/png": "[encoded data removed]",
      "text/plain": [
       "<Figure size 432x288 with 1 Axes>"
      ]
     },
     "metadata": {
      "needs_background": "light"
     },
     "output_type": "display_data"
    }
   ],
   "source": [
    "from sklearn.preprocessing import MinMaxScaler\n",
    "scaler = MinMaxScaler()\n",
    "train_er['close'] = scaler.fit_transform(train_er)\n",
    "print(train_er.head(2).append(train_er.tail(2)))\n",
    "train_er.rename(columns={'close':'after scaling'}).plot.hist(bins=100, fontsize=12)\n",
    "plt.show()"
   ]
  },
  {
   "cell_type": "code",
   "execution_count": 105,
   "id": "92aaf31d",
   "metadata": {},
   "outputs": [
    {
     "data": {
      "text/html": [
       "<div>\n",
       "<style scoped>\n",
       "    .dataframe tbody tr th:only-of-type {\n",
       "        vertical-align: middle;\n",
       "    }\n",
       "\n",
       "    .dataframe tbody tr th {\n",
       "        vertical-align: top;\n",
       "    }\n",
       "\n",
       "    .dataframe thead th {\n",
       "        text-align: right;\n",
       "    }\n",
       "</style>\n",
       "<table border=\"1\" class=\"dataframe\">\n",
       "  <thead>\n",
       "    <tr style=\"text-align: right;\">\n",
       "      <th></th>\n",
       "      <th>close</th>\n",
       "      <th>close_t+1</th>\n",
       "    </tr>\n",
       "    <tr>\n",
       "      <th>date</th>\n",
       "      <th></th>\n",
       "      <th></th>\n",
       "    </tr>\n",
       "  </thead>\n",
       "  <tbody>\n",
       "    <tr>\n",
       "      <th>2011-01-03</th>\n",
       "      <td>0.593959</td>\n",
       "      <td>0.581664</td>\n",
       "    </tr>\n",
       "    <tr>\n",
       "      <th>2011-01-04</th>\n",
       "      <td>0.581664</td>\n",
       "      <td>0.599682</td>\n",
       "    </tr>\n",
       "  </tbody>\n",
       "</table>\n",
       "</div>"
      ],
      "text/plain": [
       "               close  close_t+1\n",
       "date                           \n",
       "2011-01-03  0.593959   0.581664\n",
       "2011-01-04  0.581664   0.599682"
      ]
     },
     "execution_count": 105,
     "metadata": {},
     "output_type": "execute_result"
    }
   ],
   "source": [
    "train_shifted = train_er\n",
    "train_shifted['close_t+1'] = train_er['close'].shift(-1)\n",
    "train_shifted.head(2)"
   ]
  },
  {
   "cell_type": "code",
   "execution_count": 106,
   "id": "8bb19e38",
   "metadata": {},
   "outputs": [
    {
     "data": {
      "text/html": [
       "<div>\n",
       "<style scoped>\n",
       "    .dataframe tbody tr th:only-of-type {\n",
       "        vertical-align: middle;\n",
       "    }\n",
       "\n",
       "    .dataframe tbody tr th {\n",
       "        vertical-align: top;\n",
       "    }\n",
       "\n",
       "    .dataframe thead th {\n",
       "        text-align: right;\n",
       "    }\n",
       "</style>\n",
       "<table border=\"1\" class=\"dataframe\">\n",
       "  <thead>\n",
       "    <tr style=\"text-align: right;\">\n",
       "      <th></th>\n",
       "      <th>close</th>\n",
       "      <th>close_t+1</th>\n",
       "      <th>close_t-0</th>\n",
       "      <th>close_t-1</th>\n",
       "      <th>close_t-2</th>\n",
       "      <th>close_t-3</th>\n",
       "      <th>close_t-4</th>\n",
       "      <th>close_t-5</th>\n",
       "      <th>close_t-6</th>\n",
       "    </tr>\n",
       "    <tr>\n",
       "      <th>date</th>\n",
       "      <th></th>\n",
       "      <th></th>\n",
       "      <th></th>\n",
       "      <th></th>\n",
       "      <th></th>\n",
       "      <th></th>\n",
       "      <th></th>\n",
       "      <th></th>\n",
       "      <th></th>\n",
       "    </tr>\n",
       "  </thead>\n",
       "  <tbody>\n",
       "    <tr>\n",
       "      <th>2011-01-03</th>\n",
       "      <td>0.593959</td>\n",
       "      <td>0.581664</td>\n",
       "      <td>0.593959</td>\n",
       "      <td>NaN</td>\n",
       "      <td>NaN</td>\n",
       "      <td>NaN</td>\n",
       "      <td>NaN</td>\n",
       "      <td>NaN</td>\n",
       "      <td>NaN</td>\n",
       "    </tr>\n",
       "    <tr>\n",
       "      <th>2011-01-04</th>\n",
       "      <td>0.581664</td>\n",
       "      <td>0.599682</td>\n",
       "      <td>0.581664</td>\n",
       "      <td>0.593959</td>\n",
       "      <td>NaN</td>\n",
       "      <td>NaN</td>\n",
       "      <td>NaN</td>\n",
       "      <td>NaN</td>\n",
       "      <td>NaN</td>\n",
       "    </tr>\n",
       "    <tr>\n",
       "      <th>2011-01-05</th>\n",
       "      <td>0.599682</td>\n",
       "      <td>0.579014</td>\n",
       "      <td>0.599682</td>\n",
       "      <td>0.581664</td>\n",
       "      <td>0.593959</td>\n",
       "      <td>NaN</td>\n",
       "      <td>NaN</td>\n",
       "      <td>NaN</td>\n",
       "      <td>NaN</td>\n",
       "    </tr>\n",
       "    <tr>\n",
       "      <th>2011-01-06</th>\n",
       "      <td>0.579014</td>\n",
       "      <td>0.620350</td>\n",
       "      <td>0.579014</td>\n",
       "      <td>0.599682</td>\n",
       "      <td>0.581664</td>\n",
       "      <td>0.593959</td>\n",
       "      <td>NaN</td>\n",
       "      <td>NaN</td>\n",
       "      <td>NaN</td>\n",
       "    </tr>\n",
       "    <tr>\n",
       "      <th>2011-01-07</th>\n",
       "      <td>0.620350</td>\n",
       "      <td>0.621410</td>\n",
       "      <td>0.620350</td>\n",
       "      <td>0.579014</td>\n",
       "      <td>0.599682</td>\n",
       "      <td>0.581664</td>\n",
       "      <td>0.593959</td>\n",
       "      <td>NaN</td>\n",
       "      <td>NaN</td>\n",
       "    </tr>\n",
       "  </tbody>\n",
       "</table>\n",
       "</div>"
      ],
      "text/plain": [
       "               close  close_t+1  close_t-0  close_t-1  close_t-2  close_t-3  \\\n",
       "date                                                                          \n",
       "2011-01-03  0.593959   0.581664   0.593959        NaN        NaN        NaN   \n",
       "2011-01-04  0.581664   0.599682   0.581664   0.593959        NaN        NaN   \n",
       "2011-01-05  0.599682   0.579014   0.599682   0.581664   0.593959        NaN   \n",
       "2011-01-06  0.579014   0.620350   0.579014   0.599682   0.581664   0.593959   \n",
       "2011-01-07  0.620350   0.621410   0.620350   0.579014   0.599682   0.581664   \n",
       "\n",
       "            close_t-4  close_t-5  close_t-6  \n",
       "date                                         \n",
       "2011-01-03        NaN        NaN        NaN  \n",
       "2011-01-04        NaN        NaN        NaN  \n",
       "2011-01-05        NaN        NaN        NaN  \n",
       "2011-01-06        NaN        NaN        NaN  \n",
       "2011-01-07   0.593959        NaN        NaN  "
      ]
     },
     "execution_count": 106,
     "metadata": {},
     "output_type": "execute_result"
    }
   ],
   "source": [
    "for t in range(K):\n",
    "    train_shifted['close_t-{}'.format(t)] = train_shifted['close'].shift(t)\n",
    "train_shifted.head()"
   ]
  },
  {
   "cell_type": "code",
   "execution_count": 107,
   "id": "9b1dd065",
   "metadata": {},
   "outputs": [
    {
     "data": {
      "text/html": [
       "<div>\n",
       "<style scoped>\n",
       "    .dataframe tbody tr th:only-of-type {\n",
       "        vertical-align: middle;\n",
       "    }\n",
       "\n",
       "    .dataframe tbody tr th {\n",
       "        vertical-align: top;\n",
       "    }\n",
       "\n",
       "    .dataframe thead th {\n",
       "        text-align: right;\n",
       "    }\n",
       "</style>\n",
       "<table border=\"1\" class=\"dataframe\">\n",
       "  <thead>\n",
       "    <tr style=\"text-align: right;\">\n",
       "      <th></th>\n",
       "      <th>close</th>\n",
       "      <th>close_t+1</th>\n",
       "      <th>close_t-0</th>\n",
       "      <th>close_t-1</th>\n",
       "      <th>close_t-2</th>\n",
       "      <th>close_t-3</th>\n",
       "      <th>close_t-4</th>\n",
       "      <th>close_t-5</th>\n",
       "      <th>close_t-6</th>\n",
       "    </tr>\n",
       "    <tr>\n",
       "      <th>date</th>\n",
       "      <th></th>\n",
       "      <th></th>\n",
       "      <th></th>\n",
       "      <th></th>\n",
       "      <th></th>\n",
       "      <th></th>\n",
       "      <th></th>\n",
       "      <th></th>\n",
       "      <th></th>\n",
       "    </tr>\n",
       "  </thead>\n",
       "  <tbody>\n",
       "    <tr>\n",
       "      <th>2011-01-11</th>\n",
       "      <td>0.630419</td>\n",
       "      <td>0.613461</td>\n",
       "      <td>0.630419</td>\n",
       "      <td>0.621410</td>\n",
       "      <td>0.620350</td>\n",
       "      <td>0.579014</td>\n",
       "      <td>0.599682</td>\n",
       "      <td>0.581664</td>\n",
       "      <td>0.593959</td>\n",
       "    </tr>\n",
       "    <tr>\n",
       "      <th>2011-01-12</th>\n",
       "      <td>0.613461</td>\n",
       "      <td>0.596714</td>\n",
       "      <td>0.613461</td>\n",
       "      <td>0.630419</td>\n",
       "      <td>0.621410</td>\n",
       "      <td>0.620350</td>\n",
       "      <td>0.579014</td>\n",
       "      <td>0.599682</td>\n",
       "      <td>0.581664</td>\n",
       "    </tr>\n",
       "    <tr>\n",
       "      <th>2011-01-13</th>\n",
       "      <td>0.596714</td>\n",
       "      <td>0.598304</td>\n",
       "      <td>0.596714</td>\n",
       "      <td>0.613461</td>\n",
       "      <td>0.630419</td>\n",
       "      <td>0.621410</td>\n",
       "      <td>0.620350</td>\n",
       "      <td>0.579014</td>\n",
       "      <td>0.599682</td>\n",
       "    </tr>\n",
       "    <tr>\n",
       "      <th>2011-01-14</th>\n",
       "      <td>0.598304</td>\n",
       "      <td>0.580816</td>\n",
       "      <td>0.598304</td>\n",
       "      <td>0.596714</td>\n",
       "      <td>0.613461</td>\n",
       "      <td>0.630419</td>\n",
       "      <td>0.621410</td>\n",
       "      <td>0.620350</td>\n",
       "      <td>0.579014</td>\n",
       "    </tr>\n",
       "    <tr>\n",
       "      <th>2011-01-17</th>\n",
       "      <td>0.580816</td>\n",
       "      <td>0.585162</td>\n",
       "      <td>0.580816</td>\n",
       "      <td>0.598304</td>\n",
       "      <td>0.596714</td>\n",
       "      <td>0.613461</td>\n",
       "      <td>0.630419</td>\n",
       "      <td>0.621410</td>\n",
       "      <td>0.620350</td>\n",
       "    </tr>\n",
       "  </tbody>\n",
       "</table>\n",
       "</div>"
      ],
      "text/plain": [
       "               close  close_t+1  close_t-0  close_t-1  close_t-2  close_t-3  \\\n",
       "date                                                                          \n",
       "2011-01-11  0.630419   0.613461   0.630419   0.621410   0.620350   0.579014   \n",
       "2011-01-12  0.613461   0.596714   0.613461   0.630419   0.621410   0.620350   \n",
       "2011-01-13  0.596714   0.598304   0.596714   0.613461   0.630419   0.621410   \n",
       "2011-01-14  0.598304   0.580816   0.598304   0.596714   0.613461   0.630419   \n",
       "2011-01-17  0.580816   0.585162   0.580816   0.598304   0.596714   0.613461   \n",
       "\n",
       "            close_t-4  close_t-5  close_t-6  \n",
       "date                                         \n",
       "2011-01-11   0.599682   0.581664   0.593959  \n",
       "2011-01-12   0.579014   0.599682   0.581664  \n",
       "2011-01-13   0.620350   0.579014   0.599682  \n",
       "2011-01-14   0.621410   0.620350   0.579014  \n",
       "2011-01-17   0.630419   0.621410   0.620350  "
      ]
     },
     "execution_count": 107,
     "metadata": {},
     "output_type": "execute_result"
    }
   ],
   "source": [
    "train_shifted = train_shifted.dropna(how='any')\n",
    "train_shifted.head()"
   ]
  },
  {
   "cell_type": "code",
   "execution_count": 108,
   "id": "5ee5d3b0",
   "metadata": {},
   "outputs": [],
   "source": [
    "y_data = ['close_t+1']\n",
    "X_data = ['close_t-{}'.format(idx) for idx in range(0, K)]"
   ]
  },
  {
   "cell_type": "code",
   "execution_count": 109,
   "id": "feb83783",
   "metadata": {},
   "outputs": [
    {
     "name": "stdout",
     "output_type": "stream",
     "text": [
      "(2227, 1)\n",
      "(2227, 7)\n"
     ]
    }
   ],
   "source": [
    "y_train = train_shifted[y_data].values\n",
    "print(y_train.shape)\n",
    "X_train = train_shifted[X_data].values\n",
    "print(X_train.shape)"
   ]
  },
  {
   "cell_type": "code",
   "execution_count": 110,
   "id": "1c55c7a6",
   "metadata": {},
   "outputs": [],
   "source": [
    "from sklearn.svm import SVR\n",
    "\n",
    "from sklearn.metrics import r2_score"
   ]
  },
  {
   "cell_type": "code",
   "execution_count": 111,
   "id": "8b827b8a",
   "metadata": {},
   "outputs": [
    {
     "name": "stderr",
     "output_type": "stream",
     "text": [
      "/Users/yanzi/opt/anaconda3/lib/python3.8/site-packages/sklearn/utils/validation.py:985: DataConversionWarning: A column-vector y was passed when a 1d array was expected. Please change the shape of y to (n_samples, ), for example using ravel().\n",
      "  y = column_or_1d(y, warn=True)\n"
     ]
    },
    {
     "data": {
      "text/plain": [
       "SVR(C=100, epsilon=0.01, gamma=0.005)"
      ]
     },
     "execution_count": 111,
     "metadata": {},
     "output_type": "execute_result"
    }
   ],
   "source": [
    "svr0 = SVR(kernel='rbf',gamma=0.005, C=100,epsilon=0.01)\n",
    "svr0.fit(X_train, y_train)"
   ]
  },
  {
   "cell_type": "code",
   "execution_count": 112,
   "id": "7f7de00d",
   "metadata": {},
   "outputs": [],
   "source": [
    "index_pre = er_price.index.get_loc(valid_start) - K\n",
    "true_valid_start = er_price.index[index_pre]"
   ]
  },
  {
   "cell_type": "code",
   "execution_count": 113,
   "id": "4640f2b1",
   "metadata": {},
   "outputs": [
    {
     "name": "stdout",
     "output_type": "stream",
     "text": [
      "               close\n",
      "date                \n",
      "2019-07-23  0.899735\n",
      "2019-07-24  0.897827\n",
      "2020-07-31  1.034552\n",
      "2020-08-03  0.999470\n"
     ]
    }
   ],
   "source": [
    "val_df = er_price[true_valid_start:test_start].copy()\n",
    "val_df['close'] = scaler.transform(val_df)\n",
    "print(val_df.head(2).append(val_df.tail(2)))"
   ]
  },
  {
   "cell_type": "code",
   "execution_count": 114,
   "id": "f28112f9",
   "metadata": {},
   "outputs": [],
   "source": [
    "valid_shifted = val_df.copy()\n",
    "valid_shifted['close_t+1'] = val_df['close'].shift(-1)\n",
    "for t in range(K):\n",
    "     valid_shifted['close_t-{}'.format(t)] = valid_shifted['close'].shift(t)\n",
    "valid_shifted = valid_shifted.dropna(how='any')\n",
    "y_valid = valid_shifted[y_data].values\n",
    "X_valid = valid_shifted[X_data].values"
   ]
  },
  {
   "cell_type": "code",
   "execution_count": 115,
   "id": "c54645b5",
   "metadata": {},
   "outputs": [
    {
     "data": {
      "text/html": [
       "<div>\n",
       "<style scoped>\n",
       "    .dataframe tbody tr th:only-of-type {\n",
       "        vertical-align: middle;\n",
       "    }\n",
       "\n",
       "    .dataframe tbody tr th {\n",
       "        vertical-align: top;\n",
       "    }\n",
       "\n",
       "    .dataframe thead th {\n",
       "        text-align: right;\n",
       "    }\n",
       "</style>\n",
       "<table border=\"1\" class=\"dataframe\">\n",
       "  <thead>\n",
       "    <tr style=\"text-align: right;\">\n",
       "      <th></th>\n",
       "      <th>timestamp</th>\n",
       "      <th>h</th>\n",
       "      <th>prediction7</th>\n",
       "      <th>actual</th>\n",
       "    </tr>\n",
       "  </thead>\n",
       "  <tbody>\n",
       "    <tr>\n",
       "      <th>0</th>\n",
       "      <td>2019-07-31</td>\n",
       "      <td>t+1</td>\n",
       "      <td>6.883974</td>\n",
       "      <td>6.8834</td>\n",
       "    </tr>\n",
       "    <tr>\n",
       "      <th>1</th>\n",
       "      <td>2019-08-01</td>\n",
       "      <td>t+1</td>\n",
       "      <td>6.884160</td>\n",
       "      <td>6.8978</td>\n",
       "    </tr>\n",
       "    <tr>\n",
       "      <th>2</th>\n",
       "      <td>2019-08-02</td>\n",
       "      <td>t+1</td>\n",
       "      <td>6.895043</td>\n",
       "      <td>6.9392</td>\n",
       "    </tr>\n",
       "    <tr>\n",
       "      <th>3</th>\n",
       "      <td>2019-08-05</td>\n",
       "      <td>t+1</td>\n",
       "      <td>6.931131</td>\n",
       "      <td>7.0497</td>\n",
       "    </tr>\n",
       "    <tr>\n",
       "      <th>4</th>\n",
       "      <td>2019-08-06</td>\n",
       "      <td>t+1</td>\n",
       "      <td>7.028145</td>\n",
       "      <td>7.0256</td>\n",
       "    </tr>\n",
       "  </tbody>\n",
       "</table>\n",
       "</div>"
      ],
      "text/plain": [
       "   timestamp    h  prediction7  actual\n",
       "0 2019-07-31  t+1     6.883974  6.8834\n",
       "1 2019-08-01  t+1     6.884160  6.8978\n",
       "2 2019-08-02  t+1     6.895043  6.9392\n",
       "3 2019-08-05  t+1     6.931131  7.0497\n",
       "4 2019-08-06  t+1     7.028145  7.0256"
      ]
     },
     "execution_count": 115,
     "metadata": {},
     "output_type": "execute_result"
    }
   ],
   "source": [
    "predictions = svr0.predict(X_valid)\n",
    "eval_df = pd.DataFrame(predictions, columns=['t+'+str(t) for t in range(1, HORIZON+1)])\n",
    "eval_df['timestamp'] = valid_shifted.index\n",
    "eval_df = pd.melt(eval_df, id_vars='timestamp', value_name='prediction7', var_name='h')\n",
    "eval_df['actual'] = np.transpose(y_valid).ravel()\n",
    "eval_df[['prediction7', 'actual']] = scaler.inverse_transform(eval_df[['prediction7', 'actual']])\n",
    "eval_df.head()"
   ]
  },
  {
   "cell_type": "code",
   "execution_count": 116,
   "id": "871dd1dd",
   "metadata": {},
   "outputs": [],
   "source": [
    "# Metrics\n",
    "from sklearn.metrics import mean_squared_error, mean_absolute_error, median_absolute_error\n",
    "from sklearn.preprocessing import MinMaxScaler\n",
    "from sklearn.metrics import r2_score"
   ]
  },
  {
   "cell_type": "code",
   "execution_count": 117,
   "id": "536420bf",
   "metadata": {},
   "outputs": [
    {
     "name": "stdout",
     "output_type": "stream",
     "text": [
      "Valid MAE: 0.014453722002763335\n",
      "Valid MSE: 0.0004498561643197331\n",
      "Valid R2: 0.898879873366416\n",
      "Valid MAPE is 0.19%\n"
     ]
    }
   ],
   "source": [
    "svr0_pred = svr0.predict(X_valid)\n",
    "print('Valid MAE:',mean_absolute_error(y_valid, svr0_pred))\n",
    "print('Valid MSE:',mean_squared_error(y_valid, svr0_pred))\n",
    "print(\"Valid R2:\",r2_score(y_valid, svr0_pred))\n",
    "mape_test = np.mean(np.abs((eval_df['prediction7'] - eval_df['actual']) / eval_df['actual'])) * 100\n",
    "print('Valid MAPE is {:.2f}%'.format(mape_test))"
   ]
  },
  {
   "cell_type": "code",
   "execution_count": 118,
   "id": "eb37965c",
   "metadata": {},
   "outputs": [],
   "source": [
    "index_pre = er_price.index.get_loc(test_start) - K"
   ]
  },
  {
   "cell_type": "code",
   "execution_count": 119,
   "id": "280ecc98",
   "metadata": {},
   "outputs": [
    {
     "name": "stdout",
     "output_type": "stream",
     "text": [
      "               close\n",
      "date                \n",
      "2020-07-23  1.025437\n",
      "2020-07-24  1.030101\n",
      "2021-08-27  0.476206\n",
      "2021-08-30  0.460625\n"
     ]
    }
   ],
   "source": [
    "true_valid_start = er_price.index[index_pre]\n",
    "test_df = er_price[true_valid_start:].copy()\n",
    "test_df['close'] = scaler.transform(test_df)\n",
    "print(test_df.head(2).append(test_df.tail(2)))"
   ]
  },
  {
   "cell_type": "code",
   "execution_count": 120,
   "id": "35494d84",
   "metadata": {},
   "outputs": [],
   "source": [
    "test_shifted = test_df.copy()\n",
    "test_shifted['close_t+1'] = test_shifted['close'].shift(-1)\n",
    "for t in range(0, K):\n",
    "     test_shifted['close_t-{}'.format(t)] = test_shifted['close'].shift(t)\n",
    "test_shifted = test_shifted.dropna(how='any')\n",
    "y_test = test_shifted[y_data].values\n",
    "X_test = test_shifted[X_data].values"
   ]
  },
  {
   "cell_type": "code",
   "execution_count": 121,
   "id": "85bc9f7d",
   "metadata": {},
   "outputs": [],
   "source": [
    "predictions = svr0.predict(X_test)"
   ]
  },
  {
   "cell_type": "code",
   "execution_count": 122,
   "id": "908a25b4",
   "metadata": {},
   "outputs": [
    {
     "data": {
      "text/html": [
       "<div>\n",
       "<style scoped>\n",
       "    .dataframe tbody tr th:only-of-type {\n",
       "        vertical-align: middle;\n",
       "    }\n",
       "\n",
       "    .dataframe tbody tr th {\n",
       "        vertical-align: top;\n",
       "    }\n",
       "\n",
       "    .dataframe thead th {\n",
       "        text-align: right;\n",
       "    }\n",
       "</style>\n",
       "<table border=\"1\" class=\"dataframe\">\n",
       "  <thead>\n",
       "    <tr style=\"text-align: right;\">\n",
       "      <th></th>\n",
       "      <th>date</th>\n",
       "      <th>h</th>\n",
       "      <th>prediction7</th>\n",
       "      <th>actual</th>\n",
       "    </tr>\n",
       "  </thead>\n",
       "  <tbody>\n",
       "    <tr>\n",
       "      <th>0</th>\n",
       "      <td>2020-07-31</td>\n",
       "      <td>t+1</td>\n",
       "      <td>7.003593</td>\n",
       "      <td>6.9742</td>\n",
       "    </tr>\n",
       "    <tr>\n",
       "      <th>1</th>\n",
       "      <td>2020-08-03</td>\n",
       "      <td>t+1</td>\n",
       "      <td>6.976596</td>\n",
       "      <td>6.9794</td>\n",
       "    </tr>\n",
       "    <tr>\n",
       "      <th>2</th>\n",
       "      <td>2020-08-04</td>\n",
       "      <td>t+1</td>\n",
       "      <td>6.978217</td>\n",
       "      <td>6.9727</td>\n",
       "    </tr>\n",
       "    <tr>\n",
       "      <th>3</th>\n",
       "      <td>2020-08-05</td>\n",
       "      <td>t+1</td>\n",
       "      <td>6.970192</td>\n",
       "      <td>6.9346</td>\n",
       "    </tr>\n",
       "    <tr>\n",
       "      <th>4</th>\n",
       "      <td>2020-08-06</td>\n",
       "      <td>t+1</td>\n",
       "      <td>6.939266</td>\n",
       "      <td>6.9524</td>\n",
       "    </tr>\n",
       "  </tbody>\n",
       "</table>\n",
       "</div>"
      ],
      "text/plain": [
       "        date    h  prediction7  actual\n",
       "0 2020-07-31  t+1     7.003593  6.9742\n",
       "1 2020-08-03  t+1     6.976596  6.9794\n",
       "2 2020-08-04  t+1     6.978217  6.9727\n",
       "3 2020-08-05  t+1     6.970192  6.9346\n",
       "4 2020-08-06  t+1     6.939266  6.9524"
      ]
     },
     "execution_count": 122,
     "metadata": {},
     "output_type": "execute_result"
    }
   ],
   "source": [
    "eval_df = pd.DataFrame(predictions, columns=['t+'+str(t) for t in range(1, HORIZON+1)])\n",
    "eval_df['date'] = test_shifted.index\n",
    "eval_df = pd.melt(eval_df, id_vars='date', value_name='prediction7', var_name='h')\n",
    "eval_df['actual'] = np.transpose(y_test).ravel()\n",
    "eval_df[['prediction7', 'actual']] = scaler.inverse_transform(eval_df[['prediction7', 'actual']])\n",
    "eval_df.head()"
   ]
  },
  {
   "cell_type": "code",
   "execution_count": 123,
   "id": "743d2783",
   "metadata": {},
   "outputs": [
    {
     "name": "stdout",
     "output_type": "stream",
     "text": [
      "Test MAE: 0.012078681415777798\n",
      "Test MSE: 0.00029808945623237157\n",
      "Test R2: 0.9889683008616195\n",
      "Test MAPE is 0.17%\n"
     ]
    }
   ],
   "source": [
    "svr0_pred = svr0.predict(X_test)\n",
    "print('Test MAE:',mean_absolute_error(y_test, svr0_pred))\n",
    "print('Test MSE:',mean_squared_error(y_test, svr0_pred))\n",
    "print(\"Test R2:\",r2_score(y_test, svr0_pred))\n",
    "mape_test = np.mean(np.abs((eval_df['prediction7'] - eval_df['actual']) / eval_df['actual'])) * 100\n",
    "print('Test MAPE is {:.2f}%'.format(mape_test))"
   ]
  },
  {
   "cell_type": "code",
   "execution_count": 124,
   "id": "257232a6",
   "metadata": {},
   "outputs": [
    {
     "data": {
      "image/png": "[encoded data removed]",
      "text/plain": [
       "<Figure size 1080x576 with 1 Axes>"
      ]
     },
     "metadata": {
      "needs_background": "light"
     },
     "output_type": "display_data"
    }
   ],
   "source": [
    "eval_df.plot(x='date', y=['prediction7', 'actual'], style=['r', 'b'], figsize=(15, 8))\n",
    "plt.title('Predicted and actual close price of USDCNY')\n",
    "plt.xlabel('date', fontsize=12)\n",
    "plt.ylabel('load', fontsize=12)\n",
    "plt.show()"
   ]
  },
  {
   "cell_type": "markdown",
   "id": "0254f31e",
   "metadata": {},
   "source": [
    "# Random Forest model when K=7"
   ]
  },
  {
   "cell_type": "code",
   "execution_count": 125,
   "id": "0713516d",
   "metadata": {},
   "outputs": [],
   "source": [
    "from sklearn.ensemble import RandomForestRegressor"
   ]
  },
  {
   "cell_type": "code",
   "execution_count": 126,
   "id": "9abaac98",
   "metadata": {},
   "outputs": [
    {
     "name": "stdout",
     "output_type": "stream",
     "text": [
      "               close\n",
      "date                \n",
      "2020-07-23  1.025437\n",
      "2020-07-24  1.030101\n",
      "2021-08-27  0.476206\n",
      "2021-08-30  0.460625\n"
     ]
    }
   ],
   "source": [
    "index_pre = er_price.index.get_loc(test_start) - K\n",
    "true_valid_start = er_price.index[index_pre]\n",
    "test_df = er_price[true_valid_start:].copy()\n",
    "test_df['close'] = scaler.transform(test_df)\n",
    "print(test_df.head(2).append(test_df.tail(2)))"
   ]
  },
  {
   "cell_type": "code",
   "execution_count": 127,
   "id": "01c18744",
   "metadata": {},
   "outputs": [
    {
     "name": "stderr",
     "output_type": "stream",
     "text": [
      "/var/folders/v3/450qq1rj1dg9h7f9glq8l6wh0000gn/T/ipykernel_65888/2676831714.py:2: DataConversionWarning: A column-vector y was passed when a 1d array was expected. Please change the shape of y to (n_samples,), for example using ravel().\n",
      "  rfg.fit(X_train, y_train)\n"
     ]
    }
   ],
   "source": [
    "rfg = RandomForestRegressor()\n",
    "rfg.fit(X_train, y_train)\n",
    "rfg_pred = rfg.predict(X_test)"
   ]
  },
  {
   "cell_type": "code",
   "execution_count": 128,
   "id": "7679d252",
   "metadata": {},
   "outputs": [],
   "source": [
    "test_shifted = test_df.copy()\n",
    "test_shifted['close_t+1'] = test_shifted['close'].shift(-1)\n",
    "for t in range(0, K):\n",
    "     test_shifted['close_t-{}'.format(t)] = test_shifted['close'].shift(t)\n",
    "test_shifted = test_shifted.dropna(how='any')\n",
    "y_test = test_shifted[y_data].values\n",
    "X_test = test_shifted[X_data].values"
   ]
  },
  {
   "cell_type": "code",
   "execution_count": 129,
   "id": "306698d9",
   "metadata": {},
   "outputs": [],
   "source": [
    "predictions = rfg.predict(X_test)"
   ]
  },
  {
   "cell_type": "code",
   "execution_count": 130,
   "id": "74171316",
   "metadata": {},
   "outputs": [
    {
     "data": {
      "text/html": [
       "<div>\n",
       "<style scoped>\n",
       "    .dataframe tbody tr th:only-of-type {\n",
       "        vertical-align: middle;\n",
       "    }\n",
       "\n",
       "    .dataframe tbody tr th {\n",
       "        vertical-align: top;\n",
       "    }\n",
       "\n",
       "    .dataframe thead th {\n",
       "        text-align: right;\n",
       "    }\n",
       "</style>\n",
       "<table border=\"1\" class=\"dataframe\">\n",
       "  <thead>\n",
       "    <tr style=\"text-align: right;\">\n",
       "      <th></th>\n",
       "      <th>date</th>\n",
       "      <th>h</th>\n",
       "      <th>prediction7</th>\n",
       "      <th>actual</th>\n",
       "    </tr>\n",
       "  </thead>\n",
       "  <tbody>\n",
       "    <tr>\n",
       "      <th>0</th>\n",
       "      <td>2020-07-31</td>\n",
       "      <td>t+1</td>\n",
       "      <td>6.923089</td>\n",
       "      <td>6.9742</td>\n",
       "    </tr>\n",
       "    <tr>\n",
       "      <th>1</th>\n",
       "      <td>2020-08-03</td>\n",
       "      <td>t+1</td>\n",
       "      <td>6.923089</td>\n",
       "      <td>6.9794</td>\n",
       "    </tr>\n",
       "    <tr>\n",
       "      <th>2</th>\n",
       "      <td>2020-08-04</td>\n",
       "      <td>t+1</td>\n",
       "      <td>6.923089</td>\n",
       "      <td>6.9727</td>\n",
       "    </tr>\n",
       "    <tr>\n",
       "      <th>3</th>\n",
       "      <td>2020-08-05</td>\n",
       "      <td>t+1</td>\n",
       "      <td>6.923089</td>\n",
       "      <td>6.9346</td>\n",
       "    </tr>\n",
       "    <tr>\n",
       "      <th>4</th>\n",
       "      <td>2020-08-06</td>\n",
       "      <td>t+1</td>\n",
       "      <td>6.925219</td>\n",
       "      <td>6.9524</td>\n",
       "    </tr>\n",
       "  </tbody>\n",
       "</table>\n",
       "</div>"
      ],
      "text/plain": [
       "        date    h  prediction7  actual\n",
       "0 2020-07-31  t+1     6.923089  6.9742\n",
       "1 2020-08-03  t+1     6.923089  6.9794\n",
       "2 2020-08-04  t+1     6.923089  6.9727\n",
       "3 2020-08-05  t+1     6.923089  6.9346\n",
       "4 2020-08-06  t+1     6.925219  6.9524"
      ]
     },
     "execution_count": 130,
     "metadata": {},
     "output_type": "execute_result"
    }
   ],
   "source": [
    "eval_df = pd.DataFrame(predictions, columns=['t+'+str(t) for t in range(1, HORIZON+1)])\n",
    "eval_df['date'] = test_shifted.index\n",
    "eval_df = pd.melt(eval_df, id_vars='date', value_name='prediction7', var_name='h')\n",
    "eval_df['actual'] = np.transpose(y_test).ravel()\n",
    "eval_df[['prediction7', 'actual']] = scaler.inverse_transform(eval_df[['prediction7', 'actual']])\n",
    "eval_df.head()"
   ]
  },
  {
   "cell_type": "code",
   "execution_count": 131,
   "id": "9fde49ae",
   "metadata": {},
   "outputs": [
    {
     "data": {
      "image/png": "[encoded data removed]",
      "text/plain": [
       "<Figure size 1080x576 with 1 Axes>"
      ]
     },
     "metadata": {
      "needs_background": "light"
     },
     "output_type": "display_data"
    }
   ],
   "source": [
    "eval_df.plot(x='date', y=['prediction7', 'actual'], style=['r', 'b'], figsize=(15, 8))\n",
    "plt.title('Predicted and actual close price of USDCNY')\n",
    "plt.xlabel('date', fontsize=12)\n",
    "plt.ylabel('load', fontsize=12)\n",
    "plt.show()"
   ]
  },
  {
   "cell_type": "code",
   "execution_count": 132,
   "id": "5e754e7d",
   "metadata": {},
   "outputs": [
    {
     "name": "stdout",
     "output_type": "stream",
     "text": [
      "Test MAE: 0.0145763653542594\n",
      "Test MSE: 0.00039743316529723655\n",
      "Test R2: 0.985291787362799\n",
      "Testing MAPE is 0.21%\n"
     ]
    }
   ],
   "source": [
    "print('Test MAE:',mean_absolute_error(y_test, rfg_pred))\n",
    "print('Test MSE:',mean_squared_error(y_test, rfg_pred))\n",
    "print(\"Test R2:\",r2_score(y_test,rfg_pred))\n",
    "mape_test = np.mean(np.abs((eval_df['prediction7'] - eval_df['actual']) / eval_df['actual'])) * 100\n",
    "print('Testing MAPE is {:.2f}%'.format(mape_test))"
   ]
  }
 ],
 "metadata": {
  "kernelspec": {
   "display_name": "Python 3 (ipykernel)",
   "language": "python",
   "name": "python3"
  },
  "language_info": {
   "codemirror_mode": {
    "name": "ipython",
    "version": 3
   },
   "file_extension": ".py",
   "mimetype": "text/x-python",
   "name": "python",
   "nbconvert_exporter": "python",
   "pygments_lexer": "ipython3",
   "version": "3.8.8"
  }
 },
 "nbformat": 4,
 "nbformat_minor": 5
}
